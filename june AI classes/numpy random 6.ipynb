{
 "cells": [
  {
   "cell_type": "code",
   "execution_count": null,
   "id": "f6ed4ac5-458d-40d4-9bf7-9b99b57a75f8",
   "metadata": {},
   "outputs": [],
   "source": [
    "# Numpy\n",
    "\n",
    "\n",
    "# random\n",
    "\n",
    "# python ---- random\n",
    "# numpy ----- random"
   ]
  },
  {
   "cell_type": "code",
   "execution_count": 1,
   "id": "fce45954-0f99-484e-acc4-b6a17aa1403a",
   "metadata": {},
   "outputs": [],
   "source": [
    "import numpy as np\n",
    "from numpy import random"
   ]
  },
  {
   "cell_type": "code",
   "execution_count": 2,
   "id": "7024e1a2-af87-49ab-8fda-28601220e13a",
   "metadata": {},
   "outputs": [],
   "source": [
    "# randint() ----->"
   ]
  },
  {
   "cell_type": "code",
   "execution_count": 8,
   "id": "12e4d6e7-6a64-4fea-b2ca-61c56191f986",
   "metadata": {},
   "outputs": [
    {
     "data": {
      "text/plain": [
       "63"
      ]
     },
     "execution_count": 8,
     "metadata": {},
     "output_type": "execute_result"
    }
   ],
   "source": [
    "zx = random.randint(100)\n",
    "\n",
    "zx"
   ]
  },
  {
   "cell_type": "code",
   "execution_count": 12,
   "id": "4d907e38-5951-42df-ac6f-737941c49366",
   "metadata": {},
   "outputs": [
    {
     "data": {
      "text/plain": [
       "26"
      ]
     },
     "execution_count": 12,
     "metadata": {},
     "output_type": "execute_result"
    }
   ],
   "source": [
    "zx = random.randint(10, 30)\n",
    "zx"
   ]
  },
  {
   "cell_type": "code",
   "execution_count": null,
   "id": "51b87214-c107-4fbc-b754-667fdf07ab5d",
   "metadata": {},
   "outputs": [],
   "source": []
  },
  {
   "cell_type": "code",
   "execution_count": 13,
   "id": "07a5069d-89fb-4896-952a-605ce9908319",
   "metadata": {},
   "outputs": [],
   "source": [
    "# size ----> perameter"
   ]
  },
  {
   "cell_type": "code",
   "execution_count": 14,
   "id": "e8009d2e-39fa-489f-bc1e-1404550e4f84",
   "metadata": {},
   "outputs": [],
   "source": [
    "# 10 ---- 50   ::: 5"
   ]
  },
  {
   "cell_type": "code",
   "execution_count": 15,
   "id": "4d7d8d74-5388-41a9-9b25-3c2a3a7d9962",
   "metadata": {},
   "outputs": [
    {
     "data": {
      "text/plain": [
       "array([16, 19, 15, 11, 12])"
      ]
     },
     "execution_count": 15,
     "metadata": {},
     "output_type": "execute_result"
    }
   ],
   "source": [
    "zx = random.randint(10, 20, size = (5))\n",
    "zx"
   ]
  },
  {
   "cell_type": "code",
   "execution_count": null,
   "id": "0ab2ca40-3886-496f-92ae-50d5dab7bff9",
   "metadata": {},
   "outputs": [],
   "source": []
  },
  {
   "cell_type": "code",
   "execution_count": 16,
   "id": "0400a82c-85c8-450a-805b-260b448c858b",
   "metadata": {},
   "outputs": [
    {
     "data": {
      "text/plain": [
       "array([[36, 42, 22, 44],\n",
       "       [40, 14, 30, 49],\n",
       "       [27, 49, 43, 19]])"
      ]
     },
     "execution_count": 16,
     "metadata": {},
     "output_type": "execute_result"
    }
   ],
   "source": [
    "zx = random.randint(11, 50, size = (3, 4))\n",
    "zx"
   ]
  },
  {
   "cell_type": "code",
   "execution_count": null,
   "id": "c30781ac-972d-4cb6-b350-9060852f70bc",
   "metadata": {},
   "outputs": [],
   "source": []
  },
  {
   "cell_type": "code",
   "execution_count": 17,
   "id": "0b874aee-466b-4e96-8f1e-9f82ade8043f",
   "metadata": {},
   "outputs": [
    {
     "data": {
      "text/plain": [
       "array([[[4, 3, 1],\n",
       "        [2, 3, 3],\n",
       "        [4, 3, 4],\n",
       "        [2, 3, 3]],\n",
       "\n",
       "       [[1, 3, 1],\n",
       "        [2, 3, 2],\n",
       "        [4, 3, 4],\n",
       "        [1, 1, 4]],\n",
       "\n",
       "       [[2, 3, 3],\n",
       "        [1, 2, 2],\n",
       "        [1, 3, 4],\n",
       "        [1, 1, 1]]])"
      ]
     },
     "execution_count": 17,
     "metadata": {},
     "output_type": "execute_result"
    }
   ],
   "source": [
    "pq = random.randint(1, 5, size = (3, 4, 3))\n",
    "pq"
   ]
  },
  {
   "cell_type": "code",
   "execution_count": null,
   "id": "87ed3f4e-17cb-4145-a978-25377e98c57d",
   "metadata": {},
   "outputs": [],
   "source": []
  },
  {
   "cell_type": "code",
   "execution_count": null,
   "id": "36c06914-66c8-4f57-917d-5f97cdb79ed8",
   "metadata": {},
   "outputs": [],
   "source": [
    "# randint() ----> genrate elemets from a spacific range\n",
    "\n",
    "# randint(start, end, size = (demminsiosn))"
   ]
  },
  {
   "cell_type": "code",
   "execution_count": null,
   "id": "95e97776-b4ce-4524-85bb-9280ef2c59b2",
   "metadata": {},
   "outputs": [],
   "source": []
  },
  {
   "cell_type": "code",
   "execution_count": 18,
   "id": "f295b009-fb62-4029-b1bc-260210c4f855",
   "metadata": {},
   "outputs": [],
   "source": [
    "# rand()  -----> 0 to 1"
   ]
  },
  {
   "cell_type": "code",
   "execution_count": null,
   "id": "2c2ff9f1-e43a-4127-8064-8e0d85611fb2",
   "metadata": {},
   "outputs": [],
   "source": []
  },
  {
   "cell_type": "code",
   "execution_count": 23,
   "id": "17780fe3-4ee6-4488-9551-0a0fd6cbce82",
   "metadata": {},
   "outputs": [
    {
     "data": {
      "text/plain": [
       "0.35485617848927276"
      ]
     },
     "execution_count": 23,
     "metadata": {},
     "output_type": "execute_result"
    }
   ],
   "source": [
    "x = random.rand()\n",
    "x"
   ]
  },
  {
   "cell_type": "code",
   "execution_count": null,
   "id": "03fd942e-4b15-4500-89f1-4bba0522bd70",
   "metadata": {},
   "outputs": [],
   "source": []
  },
  {
   "cell_type": "code",
   "execution_count": 25,
   "id": "14b7b851-c44e-4297-8b73-f55cf0ed3f05",
   "metadata": {},
   "outputs": [
    {
     "data": {
      "text/plain": [
       "array([0.47102806, 0.51125764, 0.71861203, 0.77059635, 0.80316403,\n",
       "       0.36419875, 0.68111973, 0.99147324, 0.23933938, 0.095869  ])"
      ]
     },
     "execution_count": 25,
     "metadata": {},
     "output_type": "execute_result"
    }
   ],
   "source": [
    "x = random.rand(10)\n",
    "x"
   ]
  },
  {
   "cell_type": "code",
   "execution_count": null,
   "id": "4826b75a-f200-4e57-81f5-6ceef43c1c25",
   "metadata": {},
   "outputs": [],
   "source": []
  },
  {
   "cell_type": "code",
   "execution_count": 26,
   "id": "99d38733-347e-4999-9c5e-60c0524f2555",
   "metadata": {},
   "outputs": [
    {
     "data": {
      "text/plain": [
       "array([[0.83260282, 0.99996877, 0.70515089, 0.61905541, 0.95713644],\n",
       "       [0.74745952, 0.43751416, 0.73012575, 0.84956504, 0.09734694],\n",
       "       [0.08620697, 0.02211861, 0.07291368, 0.52130915, 0.90344816],\n",
       "       [0.93308985, 0.54491932, 0.38114777, 0.26284802, 0.04802345]])"
      ]
     },
     "execution_count": 26,
     "metadata": {},
     "output_type": "execute_result"
    }
   ],
   "source": [
    "x = random.rand(4, 5)\n",
    "x"
   ]
  },
  {
   "cell_type": "code",
   "execution_count": null,
   "id": "fc1431f2-f089-4bce-8be2-a908272a3f23",
   "metadata": {},
   "outputs": [],
   "source": []
  },
  {
   "cell_type": "code",
   "execution_count": 27,
   "id": "ec2fda0c-15a5-4b61-be43-c0a97ebea651",
   "metadata": {},
   "outputs": [],
   "source": [
    "# random()"
   ]
  },
  {
   "cell_type": "code",
   "execution_count": 33,
   "id": "0daf62a9-c12d-412b-8527-6d450899b4f8",
   "metadata": {},
   "outputs": [
    {
     "data": {
      "text/plain": [
       "0.2908586372094424"
      ]
     },
     "execution_count": 33,
     "metadata": {},
     "output_type": "execute_result"
    }
   ],
   "source": [
    "pq = random.random()\n",
    "pq"
   ]
  },
  {
   "cell_type": "code",
   "execution_count": null,
   "id": "1e50b7d5-366b-4aec-9e42-7b5242cb6580",
   "metadata": {},
   "outputs": [],
   "source": []
  },
  {
   "cell_type": "code",
   "execution_count": 34,
   "id": "5a502d51-5082-43bb-acac-59720ce6708a",
   "metadata": {},
   "outputs": [],
   "source": [
    "# choice()"
   ]
  },
  {
   "cell_type": "code",
   "execution_count": 42,
   "id": "8d819a04-fd9f-4274-8d3b-803cc8f10ea6",
   "metadata": {},
   "outputs": [
    {
     "data": {
      "text/plain": [
       "4"
      ]
     },
     "execution_count": 42,
     "metadata": {},
     "output_type": "execute_result"
    }
   ],
   "source": [
    "zx = random.choice([1, 5, 3, 4, 2, 6])\n",
    "zx"
   ]
  },
  {
   "cell_type": "code",
   "execution_count": null,
   "id": "a6e70fbc-31c0-4b7d-861f-5e9df1e6ea01",
   "metadata": {},
   "outputs": [],
   "source": []
  },
  {
   "cell_type": "code",
   "execution_count": 43,
   "id": "b9196ffa-4725-4c08-96ff-d288d422556a",
   "metadata": {},
   "outputs": [
    {
     "data": {
      "text/plain": [
       "array([3, 2, 4, 5])"
      ]
     },
     "execution_count": 43,
     "metadata": {},
     "output_type": "execute_result"
    }
   ],
   "source": [
    "zx = random.choice([1, 5, 3, 4, 2, 6], size = 4)\n",
    "zx"
   ]
  },
  {
   "cell_type": "code",
   "execution_count": 44,
   "id": "bf86d107-862c-4188-a1b3-272c62a54b6a",
   "metadata": {},
   "outputs": [
    {
     "data": {
      "text/plain": [
       "array([[5, 5, 1, 4, 2],\n",
       "       [4, 1, 5, 3, 1],\n",
       "       [1, 6, 3, 1, 6]])"
      ]
     },
     "execution_count": 44,
     "metadata": {},
     "output_type": "execute_result"
    }
   ],
   "source": [
    "zx = random.choice([1, 5, 3, 4, 2, 6], size = (3, 5))\n",
    "zx"
   ]
  },
  {
   "cell_type": "code",
   "execution_count": null,
   "id": "b33f8bd2-ef48-489e-8d18-bc54b453e6e2",
   "metadata": {},
   "outputs": [],
   "source": []
  },
  {
   "cell_type": "code",
   "execution_count": 45,
   "id": "ddc1311e-9263-4e2e-b451-625d24a466a4",
   "metadata": {},
   "outputs": [],
   "source": [
    "# random.shuffle() ---->"
   ]
  },
  {
   "cell_type": "code",
   "execution_count": 56,
   "id": "b04f9dfc-29e4-48fc-a687-99640b51fa38",
   "metadata": {},
   "outputs": [],
   "source": [
    "zx = np.array([1, 2, 3, 4, 5, 6, 7, 9])"
   ]
  },
  {
   "cell_type": "code",
   "execution_count": 57,
   "id": "53a3bef7-1715-41eb-bd7b-1104da3bea0a",
   "metadata": {},
   "outputs": [],
   "source": [
    "random.shuffle(zx)"
   ]
  },
  {
   "cell_type": "code",
   "execution_count": 58,
   "id": "71751075-8194-49ef-b09f-0775072e89ad",
   "metadata": {},
   "outputs": [
    {
     "data": {
      "text/plain": [
       "array([6, 2, 7, 4, 9, 3, 1, 5])"
      ]
     },
     "execution_count": 58,
     "metadata": {},
     "output_type": "execute_result"
    }
   ],
   "source": [
    "zx"
   ]
  },
  {
   "cell_type": "code",
   "execution_count": null,
   "id": "cf4decf1-8c51-45b1-be97-6dd84a1b8cf5",
   "metadata": {},
   "outputs": [],
   "source": []
  },
  {
   "cell_type": "code",
   "execution_count": null,
   "id": "ae67cbb9-8b6c-43b5-820c-9a42e9d77323",
   "metadata": {},
   "outputs": [],
   "source": [
    "# random()\n",
    "# randint()\n",
    "# rand()\n",
    "# choice()\n",
    "# shuffle()"
   ]
  }
 ],
 "metadata": {
  "kernelspec": {
   "display_name": "Python 3 (ipykernel)",
   "language": "python",
   "name": "python3"
  },
  "language_info": {
   "codemirror_mode": {
    "name": "ipython",
    "version": 3
   },
   "file_extension": ".py",
   "mimetype": "text/x-python",
   "name": "python",
   "nbconvert_exporter": "python",
   "pygments_lexer": "ipython3",
   "version": "3.12.3"
  }
 },
 "nbformat": 4,
 "nbformat_minor": 5
}
