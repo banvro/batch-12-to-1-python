{
 "cells": [
  {
   "cell_type": "code",
   "execution_count": 1,
   "id": "41ca04f3-9675-4d41-8964-3b7a79374699",
   "metadata": {},
   "outputs": [],
   "source": [
    "# Numpy"
   ]
  },
  {
   "cell_type": "code",
   "execution_count": null,
   "id": "c52bfb1b-e08c-4c8c-be6a-3b48ed32bfcd",
   "metadata": {},
   "outputs": [],
   "source": [
    "Ndarray\n",
    "Creating Ndarrays\n",
    "    1-D\n",
    "    2-D\n",
    "    3-D\n",
    "\n",
    "ndim attribute\n",
    "shape attribute"
   ]
  },
  {
   "cell_type": "code",
   "execution_count": null,
   "id": "8d462905-9ea0-4aab-9666-a9422838b797",
   "metadata": {},
   "outputs": [],
   "source": []
  },
  {
   "cell_type": "markdown",
   "id": "4011ae8c-3e7d-4c95-bbb4-dcad7a566187",
   "metadata": {},
   "source": [
    "### Indexing and slicing in numpy array"
   ]
  },
  {
   "cell_type": "code",
   "execution_count": null,
   "id": "0f185fa4-e575-4712-b8d8-ab16cabdb43c",
   "metadata": {},
   "outputs": [],
   "source": []
  },
  {
   "cell_type": "code",
   "execution_count": 2,
   "id": "ae7d2329-e683-4415-98e9-7e40516d0688",
   "metadata": {},
   "outputs": [],
   "source": [
    "# 1-D ndarry indexing\n"
   ]
  },
  {
   "cell_type": "code",
   "execution_count": 4,
   "id": "c88564e5-9ad6-4f53-8544-56eb626f967d",
   "metadata": {},
   "outputs": [],
   "source": [
    "import numpy as np\n",
    "\n",
    "\n",
    "arr1 = np.array([12, 34, 45, 67, 78, 45, 56, 34])"
   ]
  },
  {
   "cell_type": "code",
   "execution_count": null,
   "id": "823bbd7c-21f2-48d6-bf0b-906e09506e77",
   "metadata": {},
   "outputs": [],
   "source": []
  },
  {
   "cell_type": "code",
   "execution_count": null,
   "id": "f0f64a9e-a316-4f21-8903-0429ed025bf8",
   "metadata": {},
   "outputs": [],
   "source": [
    "# syntex\n",
    "    # objectname[indexnumber]"
   ]
  },
  {
   "cell_type": "code",
   "execution_count": 5,
   "id": "fd101ad9-0ca5-4b3d-bd3d-9f37c19d0832",
   "metadata": {},
   "outputs": [
    {
     "data": {
      "text/plain": [
       "67"
      ]
     },
     "execution_count": 5,
     "metadata": {},
     "output_type": "execute_result"
    }
   ],
   "source": [
    "arr1[3]"
   ]
  },
  {
   "cell_type": "code",
   "execution_count": 6,
   "id": "2e4a290d-5e7b-4925-8c6e-06e73e038f3d",
   "metadata": {},
   "outputs": [
    {
     "data": {
      "text/plain": [
       "56"
      ]
     },
     "execution_count": 6,
     "metadata": {},
     "output_type": "execute_result"
    }
   ],
   "source": [
    "arr1[6]"
   ]
  },
  {
   "cell_type": "code",
   "execution_count": 7,
   "id": "993fc740-898b-4d9a-bef5-8321cf82e1ae",
   "metadata": {},
   "outputs": [
    {
     "data": {
      "text/plain": [
       "56"
      ]
     },
     "execution_count": 7,
     "metadata": {},
     "output_type": "execute_result"
    }
   ],
   "source": [
    "arr1[-2]"
   ]
  },
  {
   "cell_type": "code",
   "execution_count": null,
   "id": "0b784f4a-9baf-4170-9a64-da441a791a06",
   "metadata": {},
   "outputs": [],
   "source": []
  },
  {
   "cell_type": "code",
   "execution_count": null,
   "id": "a93a0fda-c8ea-4e21-926c-746520a1ed31",
   "metadata": {},
   "outputs": [],
   "source": [
    "# 2-D ndarray Indexing"
   ]
  },
  {
   "cell_type": "code",
   "execution_count": null,
   "id": "df074ddd-be8d-4c4b-95d9-939fa55c6ac8",
   "metadata": {},
   "outputs": [],
   "source": []
  },
  {
   "cell_type": "code",
   "execution_count": 8,
   "id": "072f2119-977f-486c-8e80-d23eb0a79113",
   "metadata": {},
   "outputs": [],
   "source": [
    "arr2 = np.array([[12, 34, 45, 56, 78, 34], [45, 56, 67, 7, 8, 100]])"
   ]
  },
  {
   "cell_type": "code",
   "execution_count": 9,
   "id": "455cb1a7-d233-4c45-9faa-aff87a2b2a68",
   "metadata": {},
   "outputs": [
    {
     "data": {
      "text/plain": [
       "2"
      ]
     },
     "execution_count": 9,
     "metadata": {},
     "output_type": "execute_result"
    }
   ],
   "source": [
    "arr2.ndim"
   ]
  },
  {
   "cell_type": "code",
   "execution_count": 10,
   "id": "cb9aec29-4bb6-4cc4-9544-53de837a1341",
   "metadata": {},
   "outputs": [
    {
     "data": {
      "text/plain": [
       "array([[ 12,  34,  45,  56,  78,  34],\n",
       "       [ 45,  56,  67,   7,   8, 100]])"
      ]
     },
     "execution_count": 10,
     "metadata": {},
     "output_type": "execute_result"
    }
   ],
   "source": [
    "arr2"
   ]
  },
  {
   "cell_type": "code",
   "execution_count": 11,
   "id": "45148c14-e98c-46ff-937a-07003d1db429",
   "metadata": {},
   "outputs": [],
   "source": [
    "# syntex\n",
    "# objectname[rownumber][indexnumber]"
   ]
  },
  {
   "cell_type": "code",
   "execution_count": 13,
   "id": "d8675a48-8327-4691-8704-2e2f233c79ee",
   "metadata": {},
   "outputs": [
    {
     "data": {
      "text/plain": [
       "67"
      ]
     },
     "execution_count": 13,
     "metadata": {},
     "output_type": "execute_result"
    }
   ],
   "source": [
    "arr2[1][2]"
   ]
  },
  {
   "cell_type": "code",
   "execution_count": 14,
   "id": "fbdc8474-3e7a-4032-9ce9-505f39ae07c7",
   "metadata": {},
   "outputs": [],
   "source": [
    "arr2 = np.array([[12, 34, 45, 56, 78, 34], [45, 56, 67, 7, 8, 100]])"
   ]
  },
  {
   "cell_type": "code",
   "execution_count": 16,
   "id": "66d72835-9123-4c30-9806-f770faea7bbd",
   "metadata": {},
   "outputs": [
    {
     "data": {
      "text/plain": [
       "7"
      ]
     },
     "execution_count": 16,
     "metadata": {},
     "output_type": "execute_result"
    }
   ],
   "source": [
    "arr2[1][3]"
   ]
  },
  {
   "cell_type": "code",
   "execution_count": 17,
   "id": "1ba11e15-d9b9-4e23-a712-37779e92cecf",
   "metadata": {},
   "outputs": [
    {
     "data": {
      "text/plain": [
       "45"
      ]
     },
     "execution_count": 17,
     "metadata": {},
     "output_type": "execute_result"
    }
   ],
   "source": [
    "arr2[0][2]"
   ]
  },
  {
   "cell_type": "code",
   "execution_count": null,
   "id": "c744e447-9756-41ac-b155-1ae03cbbf59c",
   "metadata": {},
   "outputs": [],
   "source": []
  },
  {
   "cell_type": "code",
   "execution_count": 18,
   "id": "816b6883-bfb1-4a1b-9b88-bf2883177c4a",
   "metadata": {},
   "outputs": [],
   "source": [
    "# indexing with 3d Data"
   ]
  },
  {
   "cell_type": "code",
   "execution_count": null,
   "id": "e18e4095-02f4-447d-9913-dc9bdbaad690",
   "metadata": {},
   "outputs": [],
   "source": []
  },
  {
   "cell_type": "code",
   "execution_count": 19,
   "id": "5f5b4576-0389-4edb-890a-f6a915490df8",
   "metadata": {},
   "outputs": [],
   "source": [
    "arr4 = np.array([[[23, 4, 67], [45, 56, 7]], [[89, 90, 78], [89, 78, 34]]])"
   ]
  },
  {
   "cell_type": "code",
   "execution_count": 20,
   "id": "b4d65488-1ff3-4d38-9c4d-8849e221ce5c",
   "metadata": {},
   "outputs": [
    {
     "data": {
      "text/plain": [
       "3"
      ]
     },
     "execution_count": 20,
     "metadata": {},
     "output_type": "execute_result"
    }
   ],
   "source": [
    "arr4.ndim"
   ]
  },
  {
   "cell_type": "code",
   "execution_count": 23,
   "id": "8db567c1-1b36-4f44-8170-4a63bff7b253",
   "metadata": {},
   "outputs": [
    {
     "data": {
      "text/plain": [
       "78"
      ]
     },
     "execution_count": 23,
     "metadata": {},
     "output_type": "execute_result"
    }
   ],
   "source": [
    "arr4[1][1][1]"
   ]
  },
  {
   "cell_type": "code",
   "execution_count": null,
   "id": "cd33b41f-9f0f-4b17-9c1b-77a100c43df9",
   "metadata": {},
   "outputs": [],
   "source": []
  },
  {
   "cell_type": "code",
   "execution_count": 24,
   "id": "fc3c7ef5-c73d-4cd9-af9d-68a2f5ce3006",
   "metadata": {},
   "outputs": [
    {
     "data": {
      "text/plain": [
       "7"
      ]
     },
     "execution_count": 24,
     "metadata": {},
     "output_type": "execute_result"
    }
   ],
   "source": [
    "arr4[0][1][2]"
   ]
  },
  {
   "cell_type": "code",
   "execution_count": null,
   "id": "b3fd119a-f719-4d7f-8724-d94139f0150d",
   "metadata": {},
   "outputs": [],
   "source": []
  },
  {
   "cell_type": "code",
   "execution_count": 31,
   "id": "b1938bc2-1bcf-4728-8fdb-d09ef22ada51",
   "metadata": {},
   "outputs": [],
   "source": [
    "arr4 = np.array([[[23, 4, 67], [45, 56, 7]], [[89, 90, 78],  [89, 78, 34]], [[45, 67, 89],  [56, 34, 444]]])"
   ]
  },
  {
   "cell_type": "code",
   "execution_count": 27,
   "id": "8787d965-1b61-4140-83f0-50b9c0c118ab",
   "metadata": {},
   "outputs": [
    {
     "data": {
      "text/plain": [
       "array([[[23,  4, 67],\n",
       "        [45, 56,  7]],\n",
       "\n",
       "       [[89, 90, 78],\n",
       "        [89, 78, 34]],\n",
       "\n",
       "       [[45, 67, 89],\n",
       "        [56, 34, 23]]])"
      ]
     },
     "execution_count": 27,
     "metadata": {},
     "output_type": "execute_result"
    }
   ],
   "source": [
    "arr4"
   ]
  },
  {
   "cell_type": "code",
   "execution_count": 28,
   "id": "eaf55faf-1a21-40f9-adc4-437962fc1758",
   "metadata": {},
   "outputs": [
    {
     "data": {
      "text/plain": [
       "3"
      ]
     },
     "execution_count": 28,
     "metadata": {},
     "output_type": "execute_result"
    }
   ],
   "source": [
    "arr4.ndim"
   ]
  },
  {
   "cell_type": "code",
   "execution_count": 32,
   "id": "5e623db7-cccc-48cb-9c55-26ddf9b98809",
   "metadata": {},
   "outputs": [
    {
     "data": {
      "text/plain": [
       "444"
      ]
     },
     "execution_count": 32,
     "metadata": {},
     "output_type": "execute_result"
    }
   ],
   "source": [
    "arr4[2][1][2]"
   ]
  },
  {
   "cell_type": "code",
   "execution_count": null,
   "id": "bc1e2791-2bdf-4262-8d50-441b46cb145c",
   "metadata": {},
   "outputs": [],
   "source": []
  },
  {
   "cell_type": "code",
   "execution_count": null,
   "id": "a753922d-d509-4eb0-a657-b3096700e12f",
   "metadata": {},
   "outputs": [],
   "source": []
  },
  {
   "cell_type": "markdown",
   "id": "fe1266db-ecb9-4f42-8a26-c47c20f6365d",
   "metadata": {},
   "source": [
    "# Slicing\n",
    "\n",
    "objectname[startindex : endindexnumber : increment]\n",
    "\n",
    "defult values:\n",
    "    start : 0\n",
    "    end : n - 1\n",
    "    increment : 1"
   ]
  },
  {
   "cell_type": "code",
   "execution_count": 33,
   "id": "5456b7a1-f4d7-402b-a61f-1926d69fa1f7",
   "metadata": {},
   "outputs": [],
   "source": [
    "zx = np.array([3, 45, 56, 78, 45, 34, 56, 34, 23])"
   ]
  },
  {
   "cell_type": "code",
   "execution_count": null,
   "id": "4c46dbb6-2e45-4c1f-9f28-ad8ef1ea7b64",
   "metadata": {},
   "outputs": [],
   "source": []
  },
  {
   "cell_type": "code",
   "execution_count": 35,
   "id": "3846771e-917f-4829-b880-560c98db30a1",
   "metadata": {},
   "outputs": [
    {
     "data": {
      "text/plain": [
       "array([78, 45, 34, 56, 34])"
      ]
     },
     "execution_count": 35,
     "metadata": {},
     "output_type": "execute_result"
    }
   ],
   "source": [
    "zx[3 : 8 : 1]"
   ]
  },
  {
   "cell_type": "code",
   "execution_count": 36,
   "id": "0521a5ec-54cf-4ce5-be75-9d8da413fb4c",
   "metadata": {},
   "outputs": [
    {
     "data": {
      "text/plain": [
       "array([78, 45, 34, 56, 34])"
      ]
     },
     "execution_count": 36,
     "metadata": {},
     "output_type": "execute_result"
    }
   ],
   "source": [
    "zx[3 : 8]"
   ]
  },
  {
   "cell_type": "code",
   "execution_count": 37,
   "id": "9db4b975-a37c-4069-a2df-c2449b619fd4",
   "metadata": {},
   "outputs": [
    {
     "data": {
      "text/plain": [
       "array([45, 56, 78, 45])"
      ]
     },
     "execution_count": 37,
     "metadata": {},
     "output_type": "execute_result"
    }
   ],
   "source": [
    "zx[1 : 5]"
   ]
  },
  {
   "cell_type": "code",
   "execution_count": null,
   "id": "980ed861-e607-4f25-9573-4d460e48945b",
   "metadata": {},
   "outputs": [],
   "source": []
  },
  {
   "cell_type": "code",
   "execution_count": 38,
   "id": "f0d739e0-cbe5-4e36-944d-76521bc1507f",
   "metadata": {},
   "outputs": [],
   "source": [
    "zx = np.array([3, 45, 56, 78, 45, 34, 56, 34, 23])"
   ]
  },
  {
   "cell_type": "code",
   "execution_count": null,
   "id": "64ca227e-4000-490a-9350-4e6655ad8e84",
   "metadata": {},
   "outputs": [],
   "source": []
  },
  {
   "cell_type": "code",
   "execution_count": 39,
   "id": "bc3fc812-f6c3-4982-8fc0-d5f8c78a024a",
   "metadata": {},
   "outputs": [
    {
     "data": {
      "text/plain": [
       "array([56, 78, 45, 34, 56, 34, 23])"
      ]
     },
     "execution_count": 39,
     "metadata": {},
     "output_type": "execute_result"
    }
   ],
   "source": [
    "zx[2 : ]"
   ]
  },
  {
   "cell_type": "code",
   "execution_count": null,
   "id": "aede7f5e-dfa0-401c-a7c9-30c69cfd5eea",
   "metadata": {},
   "outputs": [],
   "source": []
  },
  {
   "cell_type": "code",
   "execution_count": 40,
   "id": "fea033ac-7859-40be-b383-b94fc1ada3fb",
   "metadata": {},
   "outputs": [
    {
     "data": {
      "text/plain": [
       "array([ 3, 45, 56, 78, 45])"
      ]
     },
     "execution_count": 40,
     "metadata": {},
     "output_type": "execute_result"
    }
   ],
   "source": [
    "zx[ : 5]"
   ]
  },
  {
   "cell_type": "code",
   "execution_count": null,
   "id": "f187ae81-7f83-4875-844a-08e6124e4754",
   "metadata": {},
   "outputs": [],
   "source": []
  },
  {
   "cell_type": "code",
   "execution_count": 41,
   "id": "26d501f1-f702-45eb-a6dc-6982d2d85b38",
   "metadata": {},
   "outputs": [],
   "source": [
    "zx = np.array([3, 45, 56, 78, 45, 34, 56, 34, 23])"
   ]
  },
  {
   "cell_type": "code",
   "execution_count": null,
   "id": "80d64dac-b2b4-401f-b3e0-e6bcc9c24537",
   "metadata": {},
   "outputs": [],
   "source": []
  },
  {
   "cell_type": "code",
   "execution_count": 43,
   "id": "07c1019b-e813-444e-8f86-8725f7480bab",
   "metadata": {},
   "outputs": [
    {
     "data": {
      "text/plain": [
       "array([ 3, 56, 45, 56, 23])"
      ]
     },
     "execution_count": 43,
     "metadata": {},
     "output_type": "execute_result"
    }
   ],
   "source": [
    "zx[: : 2]"
   ]
  },
  {
   "cell_type": "code",
   "execution_count": null,
   "id": "99f439fd-b380-41f3-8599-86007f742a78",
   "metadata": {},
   "outputs": [],
   "source": []
  },
  {
   "cell_type": "code",
   "execution_count": 44,
   "id": "f18b6d80-15a4-4d52-9a47-7b0aab0c2419",
   "metadata": {},
   "outputs": [
    {
     "data": {
      "text/plain": [
       "array([23, 34, 56, 34, 45, 78, 56, 45,  3])"
      ]
     },
     "execution_count": 44,
     "metadata": {},
     "output_type": "execute_result"
    }
   ],
   "source": [
    "zx[: : -1]"
   ]
  },
  {
   "cell_type": "code",
   "execution_count": null,
   "id": "1dce3704-ff2c-4069-93d0-0e79532faaf6",
   "metadata": {},
   "outputs": [],
   "source": []
  },
  {
   "cell_type": "code",
   "execution_count": null,
   "id": "08ac3141-4c70-4dfa-8b5c-ffb8f97139ce",
   "metadata": {},
   "outputs": [],
   "source": []
  },
  {
   "cell_type": "code",
   "execution_count": 45,
   "id": "5cf2d17f-c868-4e4d-8a69-946c952781b6",
   "metadata": {},
   "outputs": [],
   "source": [
    "# 2-D slicing"
   ]
  },
  {
   "cell_type": "code",
   "execution_count": null,
   "id": "fb0793e7-2672-4b03-aefc-2a931d83aa6d",
   "metadata": {},
   "outputs": [],
   "source": []
  },
  {
   "cell_type": "code",
   "execution_count": 46,
   "id": "7666bb9b-7cd9-445d-b619-cdd9ec83752b",
   "metadata": {},
   "outputs": [],
   "source": [
    "zx = np.array([[34, 45, 67, 45, 34, 45, 56], [45, 34, 23, 4, 5, 56, 34]])"
   ]
  },
  {
   "cell_type": "code",
   "execution_count": 47,
   "id": "e55ed626-bc57-494f-aeb8-3c8b2d2c560d",
   "metadata": {},
   "outputs": [
    {
     "data": {
      "text/plain": [
       "2"
      ]
     },
     "execution_count": 47,
     "metadata": {},
     "output_type": "execute_result"
    }
   ],
   "source": [
    "zx.ndim"
   ]
  },
  {
   "cell_type": "code",
   "execution_count": 49,
   "id": "53117a4e-6b16-4dd8-844d-3ea74580daea",
   "metadata": {},
   "outputs": [
    {
     "data": {
      "text/plain": [
       "array([34, 23,  4,  5])"
      ]
     },
     "execution_count": 49,
     "metadata": {},
     "output_type": "execute_result"
    }
   ],
   "source": [
    "zx[1][1 : 5]"
   ]
  },
  {
   "cell_type": "code",
   "execution_count": null,
   "id": "18f3d744-2135-4c51-a54b-a1f8c47b49b6",
   "metadata": {},
   "outputs": [],
   "source": []
  },
  {
   "cell_type": "code",
   "execution_count": 50,
   "id": "9b6df569-9774-45f8-a038-3904c8778502",
   "metadata": {},
   "outputs": [
    {
     "data": {
      "text/plain": [
       "array([34, 45, 56])"
      ]
     },
     "execution_count": 50,
     "metadata": {},
     "output_type": "execute_result"
    }
   ],
   "source": [
    "zx[0][4 : ]"
   ]
  },
  {
   "cell_type": "code",
   "execution_count": null,
   "id": "cc16788a-078b-404b-b62e-080b2e7f12fd",
   "metadata": {},
   "outputs": [],
   "source": []
  },
  {
   "cell_type": "code",
   "execution_count": null,
   "id": "9dcaeaed-153b-4634-bf6a-d4a619c3897c",
   "metadata": {},
   "outputs": [],
   "source": []
  },
  {
   "cell_type": "code",
   "execution_count": null,
   "id": "4a693191-1484-4cb5-adbd-3b8f1b71e713",
   "metadata": {},
   "outputs": [],
   "source": []
  },
  {
   "cell_type": "code",
   "execution_count": 51,
   "id": "56741b77-cce6-4fc4-bf61-f18b0c8d34d8",
   "metadata": {},
   "outputs": [],
   "source": [
    "# slcing with 3-d"
   ]
  },
  {
   "cell_type": "code",
   "execution_count": 52,
   "id": "f52e804a-1466-49d6-80d3-82546a135424",
   "metadata": {},
   "outputs": [],
   "source": [
    "arr4 = np.array([[[23, 4, 67], [45, 56, 7]], [[89, 90, 78],  [89, 78, 34]], [[45, 67, 89],  [56, 34, 444]]])"
   ]
  },
  {
   "cell_type": "code",
   "execution_count": 53,
   "id": "61e30201-341e-4cb2-88a2-ba2cddd3bd7c",
   "metadata": {},
   "outputs": [
    {
     "data": {
      "text/plain": [
       "array([67, 89])"
      ]
     },
     "execution_count": 53,
     "metadata": {},
     "output_type": "execute_result"
    }
   ],
   "source": [
    "arr4[2][0][1:]"
   ]
  },
  {
   "cell_type": "code",
   "execution_count": null,
   "id": "033dbe21-50af-4a29-8a53-2d9c9d487a1f",
   "metadata": {},
   "outputs": [],
   "source": []
  },
  {
   "cell_type": "code",
   "execution_count": 56,
   "id": "7e2ec1b0-5dc8-41e7-a718-7b880cd00163",
   "metadata": {},
   "outputs": [
    {
     "data": {
      "text/plain": [
       "array([45, 67])"
      ]
     },
     "execution_count": 56,
     "metadata": {},
     "output_type": "execute_result"
    }
   ],
   "source": [
    "arr4[2][0][: 2]"
   ]
  },
  {
   "cell_type": "code",
   "execution_count": null,
   "id": "bf147075-0a74-408e-8fba-91899692466d",
   "metadata": {},
   "outputs": [],
   "source": []
  }
 ],
 "metadata": {
  "kernelspec": {
   "display_name": "Python 3 (ipykernel)",
   "language": "python",
   "name": "python3"
  },
  "language_info": {
   "codemirror_mode": {
    "name": "ipython",
    "version": 3
   },
   "file_extension": ".py",
   "mimetype": "text/x-python",
   "name": "python",
   "nbconvert_exporter": "python",
   "pygments_lexer": "ipython3",
   "version": "3.12.3"
  }
 },
 "nbformat": 4,
 "nbformat_minor": 5
}
