{
 "cells": [
  {
   "cell_type": "code",
   "execution_count": 1,
   "id": "77879308-aeb3-4e18-9cc9-7278a2aa8167",
   "metadata": {},
   "outputs": [
    {
     "name": "stdout",
     "output_type": "stream",
     "text": [
      "hllo world\n"
     ]
    }
   ],
   "source": [
    "print(\"hllo world\")"
   ]
  },
  {
   "cell_type": "code",
   "execution_count": null,
   "id": "fd179ff8-cd1a-4452-b7a7-8bb5acccd1d9",
   "metadata": {},
   "outputs": [],
   "source": []
  },
  {
   "cell_type": "code",
   "execution_count": 2,
   "id": "698b6da6-5724-42dc-bd21-5287ab875b4d",
   "metadata": {},
   "outputs": [
    {
     "name": "stdout",
     "output_type": "stream",
     "text": [
      "heyyyyyyyyyyy\n"
     ]
    }
   ],
   "source": [
    "print(\"heyyyyyyyyyyy\")"
   ]
  },
  {
   "cell_type": "code",
   "execution_count": null,
   "id": "ad077b47-c722-41c5-adab-01df5e2eb016",
   "metadata": {},
   "outputs": [],
   "source": []
  },
  {
   "cell_type": "code",
   "execution_count": 3,
   "id": "8d088332-149d-4ec1-934e-7e9366675c48",
   "metadata": {},
   "outputs": [],
   "source": [
    "a = 10"
   ]
  },
  {
   "cell_type": "code",
   "execution_count": 4,
   "id": "8c12cd83-ce3b-489b-9d75-48f0e04fc797",
   "metadata": {},
   "outputs": [],
   "source": [
    "b = 20"
   ]
  },
  {
   "cell_type": "code",
   "execution_count": 5,
   "id": "ddbb5ebd-7212-4af9-ab41-91159b30a4f4",
   "metadata": {},
   "outputs": [],
   "source": [
    "c = a + b"
   ]
  },
  {
   "cell_type": "code",
   "execution_count": 6,
   "id": "5c9b1c2a-5b80-4884-87ac-b31644dd14e0",
   "metadata": {},
   "outputs": [
    {
     "data": {
      "text/plain": [
       "30"
      ]
     },
     "execution_count": 6,
     "metadata": {},
     "output_type": "execute_result"
    }
   ],
   "source": [
    "c"
   ]
  },
  {
   "cell_type": "code",
   "execution_count": null,
   "id": "3c184ed1-9e08-4e10-984d-2e76abbac6d4",
   "metadata": {},
   "outputs": [],
   "source": []
  },
  {
   "cell_type": "code",
   "execution_count": 7,
   "id": "670fe4b9-6f2b-4a4e-8ada-59db88d6b00d",
   "metadata": {},
   "outputs": [],
   "source": [
    "a = 100\n",
    "b = 200\n",
    "c = a + b\n"
   ]
  },
  {
   "cell_type": "code",
   "execution_count": 8,
   "id": "0e9bf9b4-3a9d-409a-af61-2bcae46e611e",
   "metadata": {},
   "outputs": [
    {
     "data": {
      "text/plain": [
       "300"
      ]
     },
     "execution_count": 8,
     "metadata": {},
     "output_type": "execute_result"
    }
   ],
   "source": [
    "c"
   ]
  },
  {
   "cell_type": "code",
   "execution_count": null,
   "id": "4c23d9f9-5d8f-4da7-847f-d0f594d856f9",
   "metadata": {},
   "outputs": [],
   "source": []
  },
  {
   "cell_type": "code",
   "execution_count": null,
   "id": "b6e152c5-97f5-4708-8d74-48b898c7063d",
   "metadata": {},
   "outputs": [],
   "source": [
    "# 2 x 1 = 2\n",
    "# 2 x 2 = 4\n",
    "# 2 x 3 = 6\n",
    "# .\n",
    "# .\n",
    "# .\n",
    "# .\n",
    "# 2 x 10 = 20"
   ]
  },
  {
   "cell_type": "code",
   "execution_count": null,
   "id": "60df11df-eeea-427b-852e-701c4f626573",
   "metadata": {},
   "outputs": [],
   "source": []
  },
  {
   "cell_type": "code",
   "execution_count": 15,
   "id": "89aafa44-e419-44ed-bc14-82f34743893b",
   "metadata": {},
   "outputs": [
    {
     "name": "stdout",
     "output_type": "stream",
     "text": [
      "2 x  1 = 2\n",
      "2 x  2 = 4\n",
      "2 x  3 = 6\n",
      "2 x  4 = 8\n",
      "2 x  5 = 10\n",
      "2 x  6 = 12\n",
      "2 x  7 = 14\n",
      "2 x  8 = 16\n",
      "2 x  9 = 18\n",
      "2 x  10 = 20\n"
     ]
    }
   ],
   "source": [
    "for i in range(1, 11):\n",
    "    print(\"2 x \", i, \"=\", 2*i)"
   ]
  },
  {
   "cell_type": "code",
   "execution_count": null,
   "id": "fe6adbab-c840-44aa-8c1c-53eec9371f54",
   "metadata": {},
   "outputs": [],
   "source": []
  },
  {
   "cell_type": "code",
   "execution_count": null,
   "id": "df94bf1a-85c6-4878-b262-4fb21b640611",
   "metadata": {},
   "outputs": [],
   "source": [
    "# f-string...."
   ]
  },
  {
   "cell_type": "code",
   "execution_count": null,
   "id": "f00fbcf2-70ea-4e09-bacc-a1e6b2c3f0d4",
   "metadata": {},
   "outputs": [],
   "source": []
  },
  {
   "cell_type": "code",
   "execution_count": 16,
   "id": "762bef2a-e293-4a6c-9d16-18f3d012c340",
   "metadata": {},
   "outputs": [],
   "source": [
    "a = 10\n",
    "b = 20"
   ]
  },
  {
   "cell_type": "code",
   "execution_count": 17,
   "id": "28d73c7d-73cb-4ac9-8205-ab5286a6a0ec",
   "metadata": {},
   "outputs": [],
   "source": [
    "c = a + b"
   ]
  },
  {
   "cell_type": "code",
   "execution_count": 19,
   "id": "4cdcc085-f605-4954-8f19-8c6d0d35961f",
   "metadata": {},
   "outputs": [
    {
     "name": "stdout",
     "output_type": "stream",
     "text": [
      "the sum of 10 and 20 is : 30\n"
     ]
    }
   ],
   "source": [
    "print(f\"the sum of {a} and {b} is : {c}\")"
   ]
  },
  {
   "cell_type": "code",
   "execution_count": null,
   "id": "11e88760-c0ca-4c21-9498-2d2edc49a3ac",
   "metadata": {},
   "outputs": [],
   "source": []
  }
 ],
 "metadata": {
  "kernelspec": {
   "display_name": "Python 3 (ipykernel)",
   "language": "python",
   "name": "python3"
  },
  "language_info": {
   "codemirror_mode": {
    "name": "ipython",
    "version": 3
   },
   "file_extension": ".py",
   "mimetype": "text/x-python",
   "name": "python",
   "nbconvert_exporter": "python",
   "pygments_lexer": "ipython3",
   "version": "3.12.0"
  }
 },
 "nbformat": 4,
 "nbformat_minor": 5
}
