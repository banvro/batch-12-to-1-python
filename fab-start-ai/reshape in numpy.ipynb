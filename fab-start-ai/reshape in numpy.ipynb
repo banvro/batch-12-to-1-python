{
 "cells": [
  {
   "cell_type": "code",
   "execution_count": 1,
   "id": "4b82e2ae-e9f4-467b-8754-ed38f2b1dd55",
   "metadata": {},
   "outputs": [],
   "source": [
    "# Numpy : "
   ]
  },
  {
   "cell_type": "code",
   "execution_count": 2,
   "id": "4b974fcf-a724-48aa-9f8d-5574ae5ed5c2",
   "metadata": {},
   "outputs": [],
   "source": [
    "# ndarray : "
   ]
  },
  {
   "cell_type": "code",
   "execution_count": 3,
   "id": "5bac57e5-5a2c-4efb-861c-c22c3e2c9192",
   "metadata": {},
   "outputs": [],
   "source": [
    "import numpy as np"
   ]
  },
  {
   "cell_type": "code",
   "execution_count": null,
   "id": "700648f2-001d-4374-a20a-d13e920a8b2d",
   "metadata": {},
   "outputs": [],
   "source": [
    "ndarray\n",
    "# where()\n",
    "ndim\n",
    "shape\n",
    "slicing/ indexing\n"
   ]
  },
  {
   "cell_type": "code",
   "execution_count": 5,
   "id": "cdb751d1-db15-40c5-8a78-eab7cf569540",
   "metadata": {},
   "outputs": [],
   "source": [
    "zx = np.array([[12, 34, 45, 23, 45], [67, 56, 23, 21, 34]])"
   ]
  },
  {
   "cell_type": "code",
   "execution_count": 6,
   "id": "7c32206a-ba9f-4ebb-99fa-d5d5c57d40b1",
   "metadata": {},
   "outputs": [
    {
     "data": {
      "text/plain": [
       "array([[12, 34, 45, 23, 45],\n",
       "       [67, 56, 23, 21, 34]])"
      ]
     },
     "execution_count": 6,
     "metadata": {},
     "output_type": "execute_result"
    }
   ],
   "source": [
    "zx"
   ]
  },
  {
   "cell_type": "code",
   "execution_count": 7,
   "id": "ae3f13bc-6c2e-49b7-bbe9-5c2da2049eaa",
   "metadata": {},
   "outputs": [
    {
     "data": {
      "text/plain": [
       "2"
      ]
     },
     "execution_count": 7,
     "metadata": {},
     "output_type": "execute_result"
    }
   ],
   "source": [
    "zx.ndim"
   ]
  },
  {
   "cell_type": "code",
   "execution_count": null,
   "id": "db4d462d-8f39-44c7-869f-265584f3bbf2",
   "metadata": {},
   "outputs": [],
   "source": []
  },
  {
   "cell_type": "code",
   "execution_count": 8,
   "id": "0c33dbf1-119e-493c-abfa-1772b7ff155b",
   "metadata": {},
   "outputs": [],
   "source": [
    "# where() \n",
    "    "
   ]
  },
  {
   "cell_type": "code",
   "execution_count": 9,
   "id": "21cdab33-7868-4bae-89ad-4abe4a2d9e44",
   "metadata": {},
   "outputs": [],
   "source": [
    "zx = np.array([[12, 34, 45, 23, 45], [67, 56, 23, 21, 34]])"
   ]
  },
  {
   "cell_type": "markdown",
   "id": "6a933de6-59d1-4699-81e6-d6b7929eec39",
   "metadata": {},
   "source": [
    "zx[0][1]"
   ]
  },
  {
   "cell_type": "code",
   "execution_count": null,
   "id": "31075f06-2ae5-435a-b4b3-0680c772f0a7",
   "metadata": {},
   "outputs": [],
   "source": []
  },
  {
   "cell_type": "markdown",
   "id": "434ff7e3-a173-4ba8-8852-1363fa0ba118",
   "metadata": {},
   "source": [
    "### where() --> help us to get index number fo  a perticuler elemnt/item"
   ]
  },
  {
   "cell_type": "code",
   "execution_count": null,
   "id": "2bcc3aa3-f578-4c35-8bc4-a6d8e995c62d",
   "metadata": {},
   "outputs": [],
   "source": []
  },
  {
   "cell_type": "code",
   "execution_count": 15,
   "id": "6b492025-ad87-4921-b5c2-e20c1b1776a9",
   "metadata": {},
   "outputs": [],
   "source": [
    "qw = np.array([34, 56, 34, 23, 45, 23, 34, 23, 56, 78, 34, 56, 3, 100, 23])"
   ]
  },
  {
   "cell_type": "code",
   "execution_count": 14,
   "id": "b71fb267-d3dd-4eae-b731-4286a6d4cc7d",
   "metadata": {},
   "outputs": [
    {
     "data": {
      "text/plain": [
       "(array([4], dtype=int64),)"
      ]
     },
     "execution_count": 14,
     "metadata": {},
     "output_type": "execute_result"
    }
   ],
   "source": [
    "np.where(qw == 45)"
   ]
  },
  {
   "cell_type": "code",
   "execution_count": 16,
   "id": "e4c9bd26-02a8-4fe4-9762-a0f89c9edc99",
   "metadata": {},
   "outputs": [
    {
     "data": {
      "text/plain": [
       "(array([ 3,  5,  7, 14], dtype=int64),)"
      ]
     },
     "execution_count": 16,
     "metadata": {},
     "output_type": "execute_result"
    }
   ],
   "source": [
    "np.where(qw == 23)"
   ]
  },
  {
   "cell_type": "code",
   "execution_count": null,
   "id": "fe04cdff-c85d-424a-ae4d-ba21421f7e1b",
   "metadata": {},
   "outputs": [],
   "source": []
  },
  {
   "cell_type": "code",
   "execution_count": 17,
   "id": "f20b32b9-962a-448d-9fa0-a25e803586d5",
   "metadata": {},
   "outputs": [],
   "source": [
    "# sort() ----> "
   ]
  },
  {
   "cell_type": "code",
   "execution_count": 18,
   "id": "08d4abb8-b9b6-46ff-b268-b9e95aa1b3ee",
   "metadata": {},
   "outputs": [],
   "source": [
    "qw = np.array([34, 56, 34, 23, 45, 23, 34, 23, 56, 78, 34, 56, 3, 100, 23])"
   ]
  },
  {
   "cell_type": "code",
   "execution_count": 24,
   "id": "458389cc-ebcc-4f7a-bcc6-bff029a71241",
   "metadata": {},
   "outputs": [],
   "source": [
    "op = np.sort(qw[::-1])"
   ]
  },
  {
   "cell_type": "code",
   "execution_count": 25,
   "id": "99676d94-4a09-47c6-8c54-91af91aa1d9f",
   "metadata": {},
   "outputs": [
    {
     "data": {
      "text/plain": [
       "array([  3,  23,  23,  23,  23,  34,  34,  34,  34,  45,  56,  56,  56,\n",
       "        78, 100])"
      ]
     },
     "execution_count": 25,
     "metadata": {},
     "output_type": "execute_result"
    }
   ],
   "source": [
    "op"
   ]
  },
  {
   "cell_type": "code",
   "execution_count": 26,
   "id": "ea080fc9-9609-4ca2-831c-1c4fb732fba9",
   "metadata": {},
   "outputs": [
    {
     "data": {
      "text/plain": [
       "array([100,  78,  56,  56,  56,  45,  34,  34,  34,  34,  23,  23,  23,\n",
       "        23,   3])"
      ]
     },
     "execution_count": 26,
     "metadata": {},
     "output_type": "execute_result"
    }
   ],
   "source": [
    "op[: : -1]"
   ]
  },
  {
   "cell_type": "code",
   "execution_count": null,
   "id": "e26123c2-5bcc-4a57-b5a0-54446f110f6c",
   "metadata": {},
   "outputs": [],
   "source": []
  },
  {
   "cell_type": "code",
   "execution_count": 27,
   "id": "96c9aa21-5bed-4452-8a4f-afd6039083ea",
   "metadata": {},
   "outputs": [],
   "source": [
    "# arange()  ---->  "
   ]
  },
  {
   "cell_type": "code",
   "execution_count": 28,
   "id": "025ded33-eca8-4138-9bea-8e4d4b125ec1",
   "metadata": {},
   "outputs": [],
   "source": [
    "# xyz = np.arange(start, ending, increment)\n",
    "\n",
    "default:\n",
    "    start == 0\n",
    "    end === n - 1\n",
    "    incremnt = 1"
   ]
  },
  {
   "cell_type": "code",
   "execution_count": 29,
   "id": "cc5efd30-977d-4479-99c8-6ac07c59d510",
   "metadata": {},
   "outputs": [],
   "source": [
    "xyz = np.arange(1, 21, 1)"
   ]
  },
  {
   "cell_type": "code",
   "execution_count": 30,
   "id": "3ed6fc3a-a90e-4a14-b8c4-4d566346efa1",
   "metadata": {},
   "outputs": [
    {
     "data": {
      "text/plain": [
       "array([ 1,  2,  3,  4,  5,  6,  7,  8,  9, 10, 11, 12, 13, 14, 15, 16, 17,\n",
       "       18, 19, 20])"
      ]
     },
     "execution_count": 30,
     "metadata": {},
     "output_type": "execute_result"
    }
   ],
   "source": [
    "xyz"
   ]
  },
  {
   "cell_type": "code",
   "execution_count": 31,
   "id": "b3e62d1c-2617-4126-8c46-79917e516a5e",
   "metadata": {},
   "outputs": [
    {
     "data": {
      "text/plain": [
       "numpy.ndarray"
      ]
     },
     "execution_count": 31,
     "metadata": {},
     "output_type": "execute_result"
    }
   ],
   "source": [
    "type(xyz)"
   ]
  },
  {
   "cell_type": "code",
   "execution_count": null,
   "id": "dd2e3199-6156-4b62-9065-9a57605f05ad",
   "metadata": {},
   "outputs": [],
   "source": []
  },
  {
   "cell_type": "code",
   "execution_count": 32,
   "id": "390a26c3-3784-42ff-b643-f108add669bd",
   "metadata": {},
   "outputs": [],
   "source": [
    "# 9 ---- 2"
   ]
  },
  {
   "cell_type": "code",
   "execution_count": 37,
   "id": "6158cc6c-b986-49a8-a858-feeaff0c84c2",
   "metadata": {},
   "outputs": [],
   "source": [
    "pqr = np.arange(9, 1, -1)"
   ]
  },
  {
   "cell_type": "code",
   "execution_count": 38,
   "id": "f3294215-82b8-4003-90cf-09ff83010a10",
   "metadata": {},
   "outputs": [
    {
     "data": {
      "text/plain": [
       "array([9, 8, 7, 6, 5, 4, 3, 2])"
      ]
     },
     "execution_count": 38,
     "metadata": {},
     "output_type": "execute_result"
    }
   ],
   "source": [
    "pqr"
   ]
  },
  {
   "cell_type": "code",
   "execution_count": null,
   "id": "64b51ac5-c6b6-4c36-b4e5-30f055c63a00",
   "metadata": {},
   "outputs": [],
   "source": []
  },
  {
   "cell_type": "code",
   "execution_count": null,
   "id": "322881d0-6d4b-418b-b69e-fc08065c40ce",
   "metadata": {},
   "outputs": [],
   "source": [
    "where()\n",
    "arange()\n",
    "sort()"
   ]
  },
  {
   "cell_type": "code",
   "execution_count": null,
   "id": "5f61de49-8545-4e2c-b6ea-4f61782dea26",
   "metadata": {},
   "outputs": [],
   "source": []
  },
  {
   "cell_type": "code",
   "execution_count": 40,
   "id": "62c71e5a-2155-469f-9117-4b0475da7616",
   "metadata": {},
   "outputs": [],
   "source": [
    "# reshape() "
   ]
  },
  {
   "cell_type": "markdown",
   "id": "74c1e583-eea4-4375-b23c-6300eb91c587",
   "metadata": {},
   "source": [
    "## 1d to 2d"
   ]
  },
  {
   "cell_type": "code",
   "execution_count": 43,
   "id": "cd550154-b27a-448e-9e7f-6fd82f6366f9",
   "metadata": {},
   "outputs": [],
   "source": [
    "x = np.array([12, 34, 23, 56, 34, 68, 44, 23, 7, 100])"
   ]
  },
  {
   "cell_type": "code",
   "execution_count": 44,
   "id": "470c1314-b18e-4e00-a160-87eba6599a8c",
   "metadata": {},
   "outputs": [
    {
     "data": {
      "text/plain": [
       "1"
      ]
     },
     "execution_count": 44,
     "metadata": {},
     "output_type": "execute_result"
    }
   ],
   "source": [
    "x.ndim"
   ]
  },
  {
   "cell_type": "code",
   "execution_count": 53,
   "id": "7a1885a8-2dfa-4950-9197-478223eaf715",
   "metadata": {},
   "outputs": [],
   "source": [
    "p = x.reshape(2, 5)"
   ]
  },
  {
   "cell_type": "code",
   "execution_count": 54,
   "id": "bf01299e-4627-43f1-bdc2-759776478557",
   "metadata": {},
   "outputs": [
    {
     "data": {
      "text/plain": [
       "2"
      ]
     },
     "execution_count": 54,
     "metadata": {},
     "output_type": "execute_result"
    }
   ],
   "source": [
    "p.ndim"
   ]
  },
  {
   "cell_type": "code",
   "execution_count": 55,
   "id": "ba4c47a0-2470-4163-85d3-c7cee0cef9b9",
   "metadata": {},
   "outputs": [
    {
     "data": {
      "text/plain": [
       "array([[ 12,  34,  23,  56,  34],\n",
       "       [ 68,  44,  23,   7, 100]])"
      ]
     },
     "execution_count": 55,
     "metadata": {},
     "output_type": "execute_result"
    }
   ],
   "source": [
    "p"
   ]
  },
  {
   "cell_type": "code",
   "execution_count": 56,
   "id": "84124be9-e0a9-4695-b3f3-dafa141430fa",
   "metadata": {},
   "outputs": [
    {
     "data": {
      "text/plain": [
       "(2, 5)"
      ]
     },
     "execution_count": 56,
     "metadata": {},
     "output_type": "execute_result"
    }
   ],
   "source": [
    "p.shape"
   ]
  },
  {
   "cell_type": "code",
   "execution_count": null,
   "id": "1be060a0-ff5f-4b26-96b0-3f5453b2bdaa",
   "metadata": {},
   "outputs": [],
   "source": []
  },
  {
   "cell_type": "code",
   "execution_count": 57,
   "id": "ccf31bbf-809c-46a8-abc9-4513108beb8c",
   "metadata": {},
   "outputs": [],
   "source": [
    "# -1"
   ]
  },
  {
   "cell_type": "code",
   "execution_count": 60,
   "id": "9d9895a7-b291-44fe-9c03-233859d6f318",
   "metadata": {},
   "outputs": [],
   "source": [
    "zx = np.array([45, 34, 23, 45, 67, 34, 2, 89, 7, 34, 23, 100, 90, 78, 45])"
   ]
  },
  {
   "cell_type": "code",
   "execution_count": 61,
   "id": "e3180a44-f427-410d-a2c7-30bf0dc6c30a",
   "metadata": {},
   "outputs": [
    {
     "data": {
      "text/plain": [
       "array([[ 45,  34,  23,  45,  67],\n",
       "       [ 34,   2,  89,   7,  34],\n",
       "       [ 23, 100,  90,  78,  45]])"
      ]
     },
     "execution_count": 61,
     "metadata": {},
     "output_type": "execute_result"
    }
   ],
   "source": [
    "zx.reshape(3, -1)"
   ]
  },
  {
   "cell_type": "code",
   "execution_count": null,
   "id": "6cb25073-951d-477a-917b-b865ddc1ea8b",
   "metadata": {},
   "outputs": [],
   "source": []
  },
  {
   "cell_type": "code",
   "execution_count": 62,
   "id": "9c279db1-4828-4d98-9df0-1b668fde5316",
   "metadata": {},
   "outputs": [
    {
     "data": {
      "text/plain": [
       "array([[ 45,  34,  23],\n",
       "       [ 45,  67,  34],\n",
       "       [  2,  89,   7],\n",
       "       [ 34,  23, 100],\n",
       "       [ 90,  78,  45]])"
      ]
     },
     "execution_count": 62,
     "metadata": {},
     "output_type": "execute_result"
    }
   ],
   "source": [
    "zx.reshape(-1, 3)"
   ]
  },
  {
   "cell_type": "code",
   "execution_count": null,
   "id": "7b2f5908-fb8a-44f1-b526-8360ea352a86",
   "metadata": {},
   "outputs": [],
   "source": []
  },
  {
   "cell_type": "code",
   "execution_count": null,
   "id": "5ea21a3a-e9f8-49cf-acf9-f681a5b5b800",
   "metadata": {},
   "outputs": [],
   "source": []
  },
  {
   "cell_type": "markdown",
   "id": "4c3febed-b328-447a-8b9e-46a885adb359",
   "metadata": {},
   "source": [
    "## 2d -- 1d"
   ]
  },
  {
   "cell_type": "code",
   "execution_count": 63,
   "id": "45072bba-846a-41d4-97b3-13339514d4d8",
   "metadata": {},
   "outputs": [],
   "source": [
    "zx = np.array([[4, 7, 34, 23, 45, 23, 45], [45, 567, 34, 23, 2, 34, 100]])"
   ]
  },
  {
   "cell_type": "code",
   "execution_count": 64,
   "id": "d95ccd34-ce60-4104-b169-86a2baa74acb",
   "metadata": {},
   "outputs": [
    {
     "data": {
      "text/plain": [
       "2"
      ]
     },
     "execution_count": 64,
     "metadata": {},
     "output_type": "execute_result"
    }
   ],
   "source": [
    "zx.ndim"
   ]
  },
  {
   "cell_type": "code",
   "execution_count": 65,
   "id": "442e42f5-2293-4f65-b6b4-a89b76bf23bd",
   "metadata": {},
   "outputs": [
    {
     "data": {
      "text/plain": [
       "array([[  4,   7,  34,  23,  45,  23,  45],\n",
       "       [ 45, 567,  34,  23,   2,  34, 100]])"
      ]
     },
     "execution_count": 65,
     "metadata": {},
     "output_type": "execute_result"
    }
   ],
   "source": [
    "zx"
   ]
  },
  {
   "cell_type": "code",
   "execution_count": null,
   "id": "92bf22ea-862f-470f-829a-75053822f902",
   "metadata": {},
   "outputs": [],
   "source": []
  },
  {
   "cell_type": "code",
   "execution_count": 66,
   "id": "9c348f99-9d1d-4c14-845a-914c9009bc41",
   "metadata": {},
   "outputs": [],
   "source": [
    "new = zx.reshape(-1)"
   ]
  },
  {
   "cell_type": "code",
   "execution_count": 67,
   "id": "6b973744-2110-473b-a084-b2f7b5b11bfe",
   "metadata": {},
   "outputs": [
    {
     "data": {
      "text/plain": [
       "array([  4,   7,  34,  23,  45,  23,  45,  45, 567,  34,  23,   2,  34,\n",
       "       100])"
      ]
     },
     "execution_count": 67,
     "metadata": {},
     "output_type": "execute_result"
    }
   ],
   "source": [
    "new"
   ]
  },
  {
   "cell_type": "code",
   "execution_count": 68,
   "id": "63ca50a1-bc47-4be8-8c2b-346be5384526",
   "metadata": {},
   "outputs": [
    {
     "data": {
      "text/plain": [
       "1"
      ]
     },
     "execution_count": 68,
     "metadata": {},
     "output_type": "execute_result"
    }
   ],
   "source": [
    "new.ndim"
   ]
  },
  {
   "cell_type": "code",
   "execution_count": null,
   "id": "32a607bd-911b-417b-aa99-59eb2ef429ca",
   "metadata": {},
   "outputs": [],
   "source": []
  },
  {
   "cell_type": "markdown",
   "id": "db01c14a-813b-4170-bcd4-af0bb1381644",
   "metadata": {},
   "source": [
    "### 1d to 3d"
   ]
  },
  {
   "cell_type": "code",
   "execution_count": 75,
   "id": "3512e2af-3d52-45e0-9373-beac36f4751b",
   "metadata": {},
   "outputs": [],
   "source": [
    "zx = np.array([45, 34, 23, 45, 23, 112, 34, 78, 56, 45, 78, 4, 2, 100, 56, 100, 90, 67])"
   ]
  },
  {
   "cell_type": "code",
   "execution_count": 76,
   "id": "022c31e8-2634-4480-bd94-e0cbf6837690",
   "metadata": {},
   "outputs": [
    {
     "data": {
      "text/plain": [
       "18"
      ]
     },
     "execution_count": 76,
     "metadata": {},
     "output_type": "execute_result"
    }
   ],
   "source": [
    "len(zx)"
   ]
  },
  {
   "cell_type": "code",
   "execution_count": 77,
   "id": "d946b754-17eb-4238-b9cf-ca114e13879c",
   "metadata": {},
   "outputs": [
    {
     "data": {
      "text/plain": [
       "array([[[ 45,  34],\n",
       "        [ 23,  45],\n",
       "        [ 23, 112]],\n",
       "\n",
       "       [[ 34,  78],\n",
       "        [ 56,  45],\n",
       "        [ 78,   4]],\n",
       "\n",
       "       [[  2, 100],\n",
       "        [ 56, 100],\n",
       "        [ 90,  67]]])"
      ]
     },
     "execution_count": 77,
     "metadata": {},
     "output_type": "execute_result"
    }
   ],
   "source": [
    "zx.reshape(3, 3, 2)"
   ]
  },
  {
   "cell_type": "code",
   "execution_count": null,
   "id": "d5766a19-9feb-4707-9367-4640307ef6cb",
   "metadata": {},
   "outputs": [],
   "source": []
  },
  {
   "cell_type": "code",
   "execution_count": 78,
   "id": "8bfc7566-f7d9-4555-ab76-9b6d6edfbc3b",
   "metadata": {},
   "outputs": [],
   "source": [
    "# random"
   ]
  },
  {
   "cell_type": "code",
   "execution_count": null,
   "id": "c39bb31e-a65f-4ca6-a3cf-ed893f1f0bb9",
   "metadata": {},
   "outputs": [],
   "source": []
  },
  {
   "cell_type": "code",
   "execution_count": 79,
   "id": "67d1e9b1-61f5-4e79-a94e-d8cd4c6093e0",
   "metadata": {},
   "outputs": [],
   "source": [
    "zx = [\"this is a car\"]"
   ]
  },
  {
   "cell_type": "code",
   "execution_count": null,
   "id": "3b27ddc7-ab64-4ed1-9574-60de6536041d",
   "metadata": {},
   "outputs": [],
   "source": [
    "output : [\"this\", \"is\", \"a\", \"car\"]"
   ]
  },
  {
   "cell_type": "code",
   "execution_count": null,
   "id": "508b834c-9332-4527-9fd1-91dbe4fe5f55",
   "metadata": {},
   "outputs": [],
   "source": []
  },
  {
   "cell_type": "code",
   "execution_count": null,
   "id": "35935600-c848-4db5-9265-0428f99a5c5a",
   "metadata": {},
   "outputs": [],
   "source": []
  },
  {
   "cell_type": "code",
   "execution_count": null,
   "id": "2e93c105-87a6-43a4-b8b5-543691396423",
   "metadata": {},
   "outputs": [],
   "source": []
  },
  {
   "cell_type": "code",
   "execution_count": null,
   "id": "2499e4ad-ef97-42f4-a58c-d2c5560daaf9",
   "metadata": {},
   "outputs": [],
   "source": []
  },
  {
   "cell_type": "code",
   "execution_count": null,
   "id": "dd853ef8-2785-4bdf-aea4-2c70e5393db9",
   "metadata": {},
   "outputs": [],
   "source": []
  },
  {
   "cell_type": "code",
   "execution_count": null,
   "id": "93290477-0d9f-4439-97af-7ddbc2848668",
   "metadata": {},
   "outputs": [],
   "source": []
  },
  {
   "cell_type": "code",
   "execution_count": null,
   "id": "f491a172-fe12-4f08-be8e-27e5599686f1",
   "metadata": {},
   "outputs": [],
   "source": []
  }
 ],
 "metadata": {
  "kernelspec": {
   "display_name": "Python 3 (ipykernel)",
   "language": "python",
   "name": "python3"
  },
  "language_info": {
   "codemirror_mode": {
    "name": "ipython",
    "version": 3
   },
   "file_extension": ".py",
   "mimetype": "text/x-python",
   "name": "python",
   "nbconvert_exporter": "python",
   "pygments_lexer": "ipython3",
   "version": "3.12.0"
  }
 },
 "nbformat": 4,
 "nbformat_minor": 5
}
