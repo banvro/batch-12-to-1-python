{
 "cells": [
  {
   "cell_type": "code",
   "execution_count": 1,
   "id": "a42eb06b-6b3a-4aa5-8080-c6a3839c3308",
   "metadata": {},
   "outputs": [
    {
     "name": "stdout",
     "output_type": "stream",
     "text": [
      "hello word\n"
     ]
    }
   ],
   "source": [
    "print(\"hello word\")"
   ]
  },
  {
   "cell_type": "code",
   "execution_count": 2,
   "id": "18aee8c2-d779-4772-bdd6-3bf3403d7546",
   "metadata": {},
   "outputs": [],
   "source": [
    "a = 10\n",
    "b = 20"
   ]
  },
  {
   "cell_type": "code",
   "execution_count": 3,
   "id": "428d067c-64ff-41d9-982b-357526b14bdf",
   "metadata": {},
   "outputs": [],
   "source": [
    "c = a + b"
   ]
  },
  {
   "cell_type": "code",
   "execution_count": 4,
   "id": "2ed8b74d-6f5f-4e4b-8ef9-f1337a240961",
   "metadata": {},
   "outputs": [
    {
     "name": "stdout",
     "output_type": "stream",
     "text": [
      "30\n"
     ]
    }
   ],
   "source": [
    "print(c)"
   ]
  },
  {
   "cell_type": "code",
   "execution_count": 5,
   "id": "28491533-7ddf-4a67-b83e-172fb50a2524",
   "metadata": {},
   "outputs": [
    {
     "data": {
      "text/plain": [
       "30"
      ]
     },
     "execution_count": 5,
     "metadata": {},
     "output_type": "execute_result"
    }
   ],
   "source": [
    "c"
   ]
  },
  {
   "cell_type": "code",
   "execution_count": null,
   "id": "3d52306c-eeb3-420e-8c86-9be1ba46ac87",
   "metadata": {},
   "outputs": [],
   "source": []
  },
  {
   "cell_type": "code",
   "execution_count": null,
   "id": "de2e2d22-88e2-49fa-a44a-e705709629ca",
   "metadata": {},
   "outputs": [],
   "source": [
    "jupyter notebook .\n",
    "\n",
    "python -m notebook ."
   ]
  },
  {
   "cell_type": "code",
   "execution_count": null,
   "id": "2c2b28e9-6fa1-4d01-a820-585c85acf0e2",
   "metadata": {},
   "outputs": [],
   "source": []
  },
  {
   "cell_type": "markdown",
   "id": "2c67f24a-3309-4432-97f4-3c678fb7e33d",
   "metadata": {},
   "source": [
    "# Numpy"
   ]
  },
  {
   "cell_type": "markdown",
   "id": "49755c3b-c338-440b-a619-4d6bc412ba2d",
   "metadata": {},
   "source": [
    "## Numpy"
   ]
  },
  {
   "cell_type": "markdown",
   "id": "c37250cb-38d3-4e6d-aef3-37baa79cc333",
   "metadata": {},
   "source": [
    "### Numpy"
   ]
  },
  {
   "cell_type": "code",
   "execution_count": null,
   "id": "b71606f9-4cfe-4a6d-8c3b-5b92d61f593a",
   "metadata": {},
   "outputs": [],
   "source": []
  },
  {
   "cell_type": "code",
   "execution_count": null,
   "id": "15c54169-e590-4659-9ebf-7e2adaa60840",
   "metadata": {},
   "outputs": [],
   "source": [
    "Numpy : Numarical Python"
   ]
  },
  {
   "cell_type": "code",
   "execution_count": 9,
   "id": "dda5be43-5b27-4fe2-8a18-75638e2a6f7d",
   "metadata": {},
   "outputs": [],
   "source": [
    "# Arrays ----\n",
    "\n",
    "# List\n",
    "# Tuple\n",
    "# Set\n",
    "# Dectionry"
   ]
  },
  {
   "cell_type": "code",
   "execution_count": null,
   "id": "f93bdc73-3d2b-4390-a315-ef5856a9cde8",
   "metadata": {},
   "outputs": [],
   "source": [
    "1991\n",
    "\n",
    "2005 ---> Numpy\n",
    "         Travis Oliphant"
   ]
  },
  {
   "cell_type": "code",
   "execution_count": null,
   "id": "5424dbf3-f0de-4afb-9c4f-7f07ce1dd6af",
   "metadata": {},
   "outputs": [],
   "source": [
    "List\n",
    "\n",
    "[12, 34, \"helo\", True, \"no\"]\n",
    "\n",
    "Array => collection of mutiple data, or data must of homogenious(same type of data).\n",
    "\n",
    "Numpy (Array)\n",
    "\n",
    "    1) Numpy\n",
    "        70%   -> C/C#\n",
    "        30%   -> Python\n",
    "\n",
    "    2) Array Store Homogenious Data"
   ]
  },
  {
   "cell_type": "code",
   "execution_count": null,
   "id": "c20dc165-4ade-4a01-8ff5-af9df29dee2e",
   "metadata": {},
   "outputs": [],
   "source": []
  },
  {
   "cell_type": "code",
   "execution_count": null,
   "id": "f594757b-4209-4b26-985d-2bf06c6bd069",
   "metadata": {},
   "outputs": [],
   "source": [
    "# Numpy : \n",
    "#     Arrays \n",
    "#         Dimmensions "
   ]
  },
  {
   "cell_type": "code",
   "execution_count": 10,
   "id": "429c5a4a-a61d-4ec5-bd2b-ab45d3d18e09",
   "metadata": {},
   "outputs": [
    {
     "name": "stdout",
     "output_type": "stream",
     "text": [
      "Requirement already satisfied: numpy in c:\\users\\17nru\\appdata\\local\\programs\\python\\python312\\lib\\site-packages (1.26.4)\n"
     ]
    },
    {
     "name": "stderr",
     "output_type": "stream",
     "text": [
      "DEPRECATION: textract 1.6.5 has a non-standard dependency specifier extract-msg<=0.29.*. pip 24.1 will enforce this behaviour change. A possible replacement is to upgrade to a newer version of textract or contact the author to suggest that they release a version with a conforming dependency specifiers. Discussion can be found at https://github.com/pypa/pip/issues/12063\n"
     ]
    }
   ],
   "source": [
    "!pip install numpy"
   ]
  },
  {
   "cell_type": "code",
   "execution_count": null,
   "id": "2053c538-b944-4d2b-a912-c6f5fa3bb620",
   "metadata": {},
   "outputs": [],
   "source": []
  },
  {
   "cell_type": "code",
   "execution_count": 11,
   "id": "edba99d1-fa97-401a-86e9-7d051d9abbf5",
   "metadata": {},
   "outputs": [],
   "source": [
    "import numpy as np"
   ]
  },
  {
   "cell_type": "code",
   "execution_count": null,
   "id": "ec29b1aa-eb8e-485a-8823-aa5870a344db",
   "metadata": {},
   "outputs": [],
   "source": []
  },
  {
   "cell_type": "markdown",
   "id": "d5512493-9c36-4d3d-80ce-a312e160ca05",
   "metadata": {},
   "source": [
    "#### ndarrays : \n",
    "#### when we create an obejct with the help of array method in numpy, that object  is called ndarray."
   ]
  },
  {
   "cell_type": "code",
   "execution_count": null,
   "id": "6d38e341-ac19-4b05-ab15-aef67b03b5d4",
   "metadata": {},
   "outputs": [],
   "source": []
  },
  {
   "cell_type": "code",
   "execution_count": 12,
   "id": "bad5d2d3-00b1-4ade-8748-735b8fa6b557",
   "metadata": {},
   "outputs": [],
   "source": [
    "x = np.array(100)"
   ]
  },
  {
   "cell_type": "code",
   "execution_count": 15,
   "id": "1568f04b-b3fe-4a9b-bef9-42a36e47c519",
   "metadata": {},
   "outputs": [
    {
     "data": {
      "text/plain": [
       "numpy.ndarray"
      ]
     },
     "execution_count": 15,
     "metadata": {},
     "output_type": "execute_result"
    }
   ],
   "source": [
    "type(x)"
   ]
  },
  {
   "cell_type": "code",
   "execution_count": null,
   "id": "64bc7e19-29a4-4925-904f-470899148e41",
   "metadata": {},
   "outputs": [],
   "source": []
  },
  {
   "cell_type": "code",
   "execution_count": 13,
   "id": "942cd2a4-7ff1-4463-a607-17aa22fb42c1",
   "metadata": {},
   "outputs": [],
   "source": [
    "y = 20"
   ]
  },
  {
   "cell_type": "code",
   "execution_count": 14,
   "id": "498a8e0f-ff3f-49fd-94b6-61f9dfae117c",
   "metadata": {},
   "outputs": [
    {
     "data": {
      "text/plain": [
       "int"
      ]
     },
     "execution_count": 14,
     "metadata": {},
     "output_type": "execute_result"
    }
   ],
   "source": [
    "type(y)"
   ]
  },
  {
   "cell_type": "code",
   "execution_count": null,
   "id": "099ded02-deb4-46b9-853c-4cd7fe1b2d30",
   "metadata": {},
   "outputs": [],
   "source": []
  },
  {
   "cell_type": "code",
   "execution_count": null,
   "id": "449d82bb-3059-43ff-9af7-9113fc0cf3ff",
   "metadata": {},
   "outputs": [],
   "source": []
  },
  {
   "cell_type": "code",
   "execution_count": 16,
   "id": "048131f9-103d-4a6a-aa19-0ebec05df91e",
   "metadata": {},
   "outputs": [],
   "source": [
    "x = np.array(100)"
   ]
  },
  {
   "cell_type": "code",
   "execution_count": 17,
   "id": "151e637f-e48b-470b-8cae-c987f1b05c5c",
   "metadata": {},
   "outputs": [
    {
     "data": {
      "text/plain": [
       "array(100)"
      ]
     },
     "execution_count": 17,
     "metadata": {},
     "output_type": "execute_result"
    }
   ],
   "source": [
    "x"
   ]
  },
  {
   "cell_type": "code",
   "execution_count": null,
   "id": "3b1826e1-36e3-4bd7-9ad3-04febf9eee16",
   "metadata": {},
   "outputs": [],
   "source": []
  },
  {
   "cell_type": "code",
   "execution_count": 18,
   "id": "4be6356d-bdd3-43e8-b337-2c818862cd1e",
   "metadata": {},
   "outputs": [],
   "source": [
    "y = np.array([12, 34, 5, 67])"
   ]
  },
  {
   "cell_type": "code",
   "execution_count": 19,
   "id": "e6a8254e-8acc-48c5-84c5-514c42668d83",
   "metadata": {},
   "outputs": [
    {
     "data": {
      "text/plain": [
       "array([12, 34,  5, 67])"
      ]
     },
     "execution_count": 19,
     "metadata": {},
     "output_type": "execute_result"
    }
   ],
   "source": [
    "y"
   ]
  },
  {
   "cell_type": "code",
   "execution_count": null,
   "id": "680cbd30-2707-4433-8fb2-1ee09140d0bb",
   "metadata": {},
   "outputs": [],
   "source": []
  },
  {
   "cell_type": "code",
   "execution_count": 20,
   "id": "d2d734b1-8415-411f-9b68-49b34871307a",
   "metadata": {},
   "outputs": [],
   "source": [
    "y = np.array([[12, 34, 5, 67], [45, 67, 78, 657]])"
   ]
  },
  {
   "cell_type": "code",
   "execution_count": 21,
   "id": "12cfb99f-6b50-46f4-9061-cbb50d0f2ac7",
   "metadata": {},
   "outputs": [
    {
     "data": {
      "text/plain": [
       "array([[ 12,  34,   5,  67],\n",
       "       [ 45,  67,  78, 657]])"
      ]
     },
     "execution_count": 21,
     "metadata": {},
     "output_type": "execute_result"
    }
   ],
   "source": [
    "y"
   ]
  },
  {
   "cell_type": "code",
   "execution_count": null,
   "id": "5099329f-b991-42ae-9fd4-2fc0b94cd507",
   "metadata": {},
   "outputs": [],
   "source": []
  },
  {
   "cell_type": "code",
   "execution_count": null,
   "id": "07031add-af9e-4e06-9b91-bd643cdfbb68",
   "metadata": {},
   "outputs": [],
   "source": []
  },
  {
   "cell_type": "code",
   "execution_count": 22,
   "id": "e8a78b4c-3c94-4ab3-9fb9-c9ddac7a1289",
   "metadata": {},
   "outputs": [],
   "source": [
    "# 0-D"
   ]
  },
  {
   "cell_type": "code",
   "execution_count": 23,
   "id": "47639bf9-ed7f-47ef-b69c-522e0fedf704",
   "metadata": {},
   "outputs": [],
   "source": [
    "arr1 = np.array(20)"
   ]
  },
  {
   "cell_type": "code",
   "execution_count": null,
   "id": "21b367ca-f65b-4d15-894c-487e6a5bc46c",
   "metadata": {},
   "outputs": [],
   "source": []
  },
  {
   "cell_type": "code",
   "execution_count": null,
   "id": "10da0fa8-1b5d-47d9-be8d-262f54e96ee3",
   "metadata": {},
   "outputs": [],
   "source": [
    "ndim (attribute): to check the demmensions of an ndarray\n",
    "\n",
    "shape : it return shape of an ndarray."
   ]
  },
  {
   "cell_type": "code",
   "execution_count": null,
   "id": "e0ce9012-8f3b-4d7e-8ce3-a523fea6530b",
   "metadata": {},
   "outputs": [],
   "source": []
  },
  {
   "cell_type": "code",
   "execution_count": 24,
   "id": "722b530e-174b-4472-82ef-71a75bb0f681",
   "metadata": {},
   "outputs": [
    {
     "data": {
      "text/plain": [
       "0"
      ]
     },
     "execution_count": 24,
     "metadata": {},
     "output_type": "execute_result"
    }
   ],
   "source": [
    "arr1.ndim"
   ]
  },
  {
   "cell_type": "code",
   "execution_count": 25,
   "id": "4f60206c-aebe-4d90-9a71-6230b11d87b9",
   "metadata": {},
   "outputs": [
    {
     "data": {
      "text/plain": [
       "()"
      ]
     },
     "execution_count": 25,
     "metadata": {},
     "output_type": "execute_result"
    }
   ],
   "source": [
    "arr1.shape"
   ]
  },
  {
   "cell_type": "code",
   "execution_count": null,
   "id": "4d5c946a-5a02-4bbb-9244-650730a0f441",
   "metadata": {},
   "outputs": [],
   "source": []
  },
  {
   "cell_type": "code",
   "execution_count": 26,
   "id": "33adab96-ddfb-4122-88d6-c6e6849f572d",
   "metadata": {},
   "outputs": [],
   "source": [
    "# 1-D nddary"
   ]
  },
  {
   "cell_type": "code",
   "execution_count": null,
   "id": "f162cf88-44cf-4d3a-8373-50a670e8d49e",
   "metadata": {},
   "outputs": [],
   "source": []
  },
  {
   "cell_type": "code",
   "execution_count": 27,
   "id": "e7140bae-d35f-4270-9119-1c7ebec4a707",
   "metadata": {},
   "outputs": [],
   "source": [
    "arr2 = np.array([12, 34, 45, 67, 89])"
   ]
  },
  {
   "cell_type": "code",
   "execution_count": 28,
   "id": "cf64c2d2-9850-41e5-8723-c10a63cb22a4",
   "metadata": {},
   "outputs": [
    {
     "data": {
      "text/plain": [
       "array([12, 34, 45, 67, 89])"
      ]
     },
     "execution_count": 28,
     "metadata": {},
     "output_type": "execute_result"
    }
   ],
   "source": [
    "arr2"
   ]
  },
  {
   "cell_type": "code",
   "execution_count": 29,
   "id": "b05271bd-c94e-43e4-87df-748c3390a5aa",
   "metadata": {},
   "outputs": [
    {
     "data": {
      "text/plain": [
       "(5,)"
      ]
     },
     "execution_count": 29,
     "metadata": {},
     "output_type": "execute_result"
    }
   ],
   "source": [
    "arr2.shape"
   ]
  },
  {
   "cell_type": "code",
   "execution_count": 30,
   "id": "98d4c7e5-3059-4452-83c3-4bff26817ea2",
   "metadata": {},
   "outputs": [
    {
     "data": {
      "text/plain": [
       "1"
      ]
     },
     "execution_count": 30,
     "metadata": {},
     "output_type": "execute_result"
    }
   ],
   "source": [
    "arr2.ndim"
   ]
  },
  {
   "cell_type": "code",
   "execution_count": null,
   "id": "2deea664-5566-44f5-bef5-c2138905ca08",
   "metadata": {},
   "outputs": [],
   "source": []
  },
  {
   "cell_type": "code",
   "execution_count": 31,
   "id": "781644bc-6d26-49a4-a271-4d84297edd3b",
   "metadata": {},
   "outputs": [],
   "source": [
    "# Ndarray : combination of multiple 1-D ndarrays"
   ]
  },
  {
   "cell_type": "code",
   "execution_count": null,
   "id": "eac96e33-d588-484d-9e78-feb83d991839",
   "metadata": {},
   "outputs": [],
   "source": []
  },
  {
   "cell_type": "code",
   "execution_count": 36,
   "id": "2f0613d4-9652-4067-9e6b-0de2a4589982",
   "metadata": {},
   "outputs": [],
   "source": [
    "arr3 = np.array([[12, 34, 56, 67], [34, 56, 7, 89], [34, 5, 67, 34]])"
   ]
  },
  {
   "cell_type": "code",
   "execution_count": 37,
   "id": "909d9399-1a93-4c35-84a0-dd14f5735878",
   "metadata": {},
   "outputs": [
    {
     "data": {
      "text/plain": [
       "array([[12, 34, 56, 67],\n",
       "       [34, 56,  7, 89],\n",
       "       [34,  5, 67, 34]])"
      ]
     },
     "execution_count": 37,
     "metadata": {},
     "output_type": "execute_result"
    }
   ],
   "source": [
    "arr3"
   ]
  },
  {
   "cell_type": "code",
   "execution_count": 38,
   "id": "9f2aa7f1-0509-47a5-a334-2175d5eccf04",
   "metadata": {},
   "outputs": [
    {
     "data": {
      "text/plain": [
       "2"
      ]
     },
     "execution_count": 38,
     "metadata": {},
     "output_type": "execute_result"
    }
   ],
   "source": [
    "arr3.ndim"
   ]
  },
  {
   "cell_type": "code",
   "execution_count": 39,
   "id": "13813a99-7bc7-4c7b-897d-8062e3bc2db3",
   "metadata": {},
   "outputs": [
    {
     "data": {
      "text/plain": [
       "(3, 4)"
      ]
     },
     "execution_count": 39,
     "metadata": {},
     "output_type": "execute_result"
    }
   ],
   "source": [
    "arr3.shape"
   ]
  },
  {
   "cell_type": "markdown",
   "id": "c83a1c7e-0cba-4afc-8c10-cedb305d804a",
   "metadata": {},
   "source": []
  },
  {
   "cell_type": "code",
   "execution_count": 43,
   "id": "bff6b39f-1c19-4036-8af6-0980fb168f83",
   "metadata": {},
   "outputs": [],
   "source": [
    "hey = np.array([[45, 56, 78], [34, 56, 56]])"
   ]
  },
  {
   "cell_type": "code",
   "execution_count": 44,
   "id": "2cbed768-ee27-4d03-a4f3-0257f8ddc647",
   "metadata": {},
   "outputs": [
    {
     "data": {
      "text/plain": [
       "array([[45, 56, 78],\n",
       "       [34, 56, 56]])"
      ]
     },
     "execution_count": 44,
     "metadata": {},
     "output_type": "execute_result"
    }
   ],
   "source": [
    "hey"
   ]
  },
  {
   "cell_type": "code",
   "execution_count": 45,
   "id": "15cd1625-62f1-48c7-a8fd-f3095f5047a8",
   "metadata": {},
   "outputs": [
    {
     "data": {
      "text/plain": [
       "(2, 3)"
      ]
     },
     "execution_count": 45,
     "metadata": {},
     "output_type": "execute_result"
    }
   ],
   "source": [
    "hey.shape"
   ]
  },
  {
   "cell_type": "code",
   "execution_count": null,
   "id": "c96a57e3-01eb-408f-ab31-9fb30bbaec23",
   "metadata": {},
   "outputs": [],
   "source": []
  },
  {
   "cell_type": "markdown",
   "id": "d687475a-4637-450d-a748-02b66cd58185",
   "metadata": {},
   "source": [
    "### 3-D ndarry : combination of multiple 2-d nd arrays"
   ]
  },
  {
   "cell_type": "code",
   "execution_count": null,
   "id": "00bc94f9-0dd1-4b18-9513-0bfdcba28bbc",
   "metadata": {},
   "outputs": [],
   "source": []
  },
  {
   "cell_type": "code",
   "execution_count": 59,
   "id": "6b7dcedd-eb52-417d-b6b7-7e418e70c708",
   "metadata": {},
   "outputs": [],
   "source": [
    "arr4 = np.array([[[23, 34, 56], [34, 45, 6]], [[45, 56, 67], [45, 56, 34]]])"
   ]
  },
  {
   "cell_type": "code",
   "execution_count": 60,
   "id": "deea5aca-e8fc-48b2-84f7-78af8967204f",
   "metadata": {},
   "outputs": [
    {
     "data": {
      "text/plain": [
       "array([[[23, 34, 56],\n",
       "        [34, 45,  6]],\n",
       "\n",
       "       [[45, 56, 67],\n",
       "        [45, 56, 34]]])"
      ]
     },
     "execution_count": 60,
     "metadata": {},
     "output_type": "execute_result"
    }
   ],
   "source": [
    "arr4"
   ]
  },
  {
   "cell_type": "code",
   "execution_count": 61,
   "id": "2fb0c460-3260-4f0f-b961-d46c1e0348e4",
   "metadata": {},
   "outputs": [
    {
     "data": {
      "text/plain": [
       "3"
      ]
     },
     "execution_count": 61,
     "metadata": {},
     "output_type": "execute_result"
    }
   ],
   "source": [
    "arr4.ndim"
   ]
  },
  {
   "cell_type": "code",
   "execution_count": 62,
   "id": "2782ac30-c3d3-4f36-a912-410e48d8a075",
   "metadata": {},
   "outputs": [
    {
     "data": {
      "text/plain": [
       "(2, 2, 3)"
      ]
     },
     "execution_count": 62,
     "metadata": {},
     "output_type": "execute_result"
    }
   ],
   "source": [
    "arr4.shape"
   ]
  },
  {
   "cell_type": "code",
   "execution_count": null,
   "id": "06bbc1c9-579e-4f13-ab00-2abdc083bffe",
   "metadata": {},
   "outputs": [],
   "source": []
  },
  {
   "cell_type": "code",
   "execution_count": 52,
   "id": "4694decd-e639-4685-979e-e29d986a7785",
   "metadata": {},
   "outputs": [],
   "source": [
    "# x = (23, )"
   ]
  },
  {
   "cell_type": "code",
   "execution_count": 54,
   "id": "c3f96606-18ad-47b3-a1c1-54b388250325",
   "metadata": {},
   "outputs": [],
   "source": [
    "# type(x)"
   ]
  },
  {
   "cell_type": "code",
   "execution_count": null,
   "id": "396ad33a-209a-4cc7-bccb-8ad324b18768",
   "metadata": {},
   "outputs": [],
   "source": []
  },
  {
   "cell_type": "code",
   "execution_count": null,
   "id": "e0fe728a-4a5e-4932-8fac-bf8994b4504c",
   "metadata": {},
   "outputs": [],
   "source": []
  },
  {
   "cell_type": "code",
   "execution_count": 65,
   "id": "e7e3e61a-8856-45ce-a824-21e391012791",
   "metadata": {},
   "outputs": [],
   "source": [
    "# zx = np.array([[[[[[[[[[78]]]]]]]]]])"
   ]
  },
  {
   "cell_type": "code",
   "execution_count": 66,
   "id": "9218bfbd-04eb-4dec-bc3a-f2d3b88cd0f1",
   "metadata": {},
   "outputs": [],
   "source": [
    "# zx.ndim"
   ]
  },
  {
   "cell_type": "code",
   "execution_count": null,
   "id": "9a63fbe5-c33b-4603-932f-0fb8664823bc",
   "metadata": {},
   "outputs": [],
   "source": []
  },
  {
   "cell_type": "code",
   "execution_count": null,
   "id": "5b0eb50a-a265-4fcd-86cb-b462c2ee37a5",
   "metadata": {},
   "outputs": [],
   "source": []
  }
 ],
 "metadata": {
  "kernelspec": {
   "display_name": "Python 3 (ipykernel)",
   "language": "python",
   "name": "python3"
  },
  "language_info": {
   "codemirror_mode": {
    "name": "ipython",
    "version": 3
   },
   "file_extension": ".py",
   "mimetype": "text/x-python",
   "name": "python",
   "nbconvert_exporter": "python",
   "pygments_lexer": "ipython3",
   "version": "3.12.3"
  }
 },
 "nbformat": 4,
 "nbformat_minor": 5
}
