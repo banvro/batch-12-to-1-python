{
 "cells": [
  {
   "cell_type": "raw",
   "id": "37a36d51-0518-487a-a638-c10993a9fa4f",
   "metadata": {},
   "source": [
    "Create a NumPy array with the elements [\"cat\", \"dog\", \"bird\", \"cat\", \"dog\", \"fish\"] and then count the occurrences of each unique element."
   ]
  },
  {
   "cell_type": "code",
   "execution_count": 1,
   "id": "f6caa68c-60eb-4e43-bc7d-a6c03fb42ed7",
   "metadata": {},
   "outputs": [],
   "source": [
    "import numpy as np\n",
    "\n",
    "zx = np.array([\"cat\", \"dog\", \"bird\", \"cat\", \"dog\", \"fish\"])"
   ]
  },
  {
   "cell_type": "code",
   "execution_count": 2,
   "id": "a08d5648-d990-4c3f-9b73-5e407cb9b880",
   "metadata": {},
   "outputs": [
    {
     "data": {
      "text/plain": [
       "array(['cat', 'dog', 'bird', 'cat', 'dog', 'fish'], dtype='<U4')"
      ]
     },
     "execution_count": 2,
     "metadata": {},
     "output_type": "execute_result"
    }
   ],
   "source": [
    "zx"
   ]
  },
  {
   "cell_type": "code",
   "execution_count": 4,
   "id": "35130ad6-ffe7-4be9-8c08-bd21f1750e0f",
   "metadata": {},
   "outputs": [
    {
     "name": "stdout",
     "output_type": "stream",
     "text": [
      "cat\n",
      "dog\n",
      "bird\n",
      "cat\n",
      "dog\n",
      "fish\n"
     ]
    }
   ],
   "source": [
    "x = 0\n",
    "y = 0\n",
    "z = 0\n",
    "\n",
    "for i in zx:\n",
    "    if i ="
   ]
  },
  {
   "cell_type": "code",
   "execution_count": 5,
   "id": "091b2fc3-f4cf-4644-aefd-f1b119b278fa",
   "metadata": {},
   "outputs": [],
   "source": [
    "zx = np.array([1, 2, 3, 2, 1, 2, 3, 2, 1, 3, 4, 5, 2])"
   ]
  },
  {
   "cell_type": "code",
   "execution_count": 6,
   "id": "905c1c97-7030-4099-9734-c462acd5338e",
   "metadata": {},
   "outputs": [
    {
     "data": {
      "text/plain": [
       "array([1, 2, 3, 4, 5])"
      ]
     },
     "execution_count": 6,
     "metadata": {},
     "output_type": "execute_result"
    }
   ],
   "source": [
    "np.unique(zx)"
   ]
  },
  {
   "cell_type": "code",
   "execution_count": null,
   "id": "79216abd-c8ac-4460-9aa1-bdb2b7e9e308",
   "metadata": {},
   "outputs": [],
   "source": []
  },
  {
   "cell_type": "code",
   "execution_count": 8,
   "id": "d770c9f7-538e-46d1-9097-ea3991463e92",
   "metadata": {},
   "outputs": [
    {
     "data": {
      "text/plain": [
       "{1, 2, 3, 4, 5}"
      ]
     },
     "execution_count": 8,
     "metadata": {},
     "output_type": "execute_result"
    }
   ],
   "source": [
    "pq = {1, 2, 3, 2, 1, 2, 3, 2, 1, 3, 4, 5, 2}\n",
    "pq"
   ]
  },
  {
   "cell_type": "code",
   "execution_count": null,
   "id": "2dcf4159-f2bb-42cd-922d-7b3d7cf2f671",
   "metadata": {},
   "outputs": [],
   "source": []
  },
  {
   "cell_type": "code",
   "execution_count": null,
   "id": "d9f212b2-fb76-4b0d-a385-1f9794a109df",
   "metadata": {},
   "outputs": [],
   "source": []
  },
  {
   "cell_type": "code",
   "execution_count": 10,
   "id": "94694cde-2726-46ab-b178-6748c3d78392",
   "metadata": {},
   "outputs": [
    {
     "name": "stdout",
     "output_type": "stream",
     "text": [
      "Count of bird is : 1\n",
      "Count of cat is : 2\n",
      "Count of dog is : 2\n",
      "Count of fish is : 1\n"
     ]
    }
   ],
   "source": [
    "zx = np.array([\"cat\", \"dog\", \"bird\", \"cat\", \"dog\", \"fish\"])\n",
    "\n",
    "pq = np.unique(zx)\n",
    "\n",
    "for i in pq:\n",
    "    x = 0\n",
    "    for j in zx:\n",
    "        if i == j:\n",
    "            x = x + 1\n",
    "    print(f\"Count of {i} is :\", x)"
   ]
  },
  {
   "cell_type": "code",
   "execution_count": null,
   "id": "ffe600a2-791b-4fb7-bd09-92c35402db18",
   "metadata": {},
   "outputs": [],
   "source": []
  },
  {
   "cell_type": "code",
   "execution_count": null,
   "id": "7c4244bc-a155-4652-8d13-4255585b34c1",
   "metadata": {},
   "outputs": [],
   "source": []
  },
  {
   "cell_type": "code",
   "execution_count": null,
   "id": "c03cf8fb-eafb-4154-8bb3-ad02df4c3c75",
   "metadata": {},
   "outputs": [],
   "source": []
  },
  {
   "cell_type": "code",
   "execution_count": null,
   "id": "0db8a267-dacd-4bb0-94a0-99021d378683",
   "metadata": {},
   "outputs": [],
   "source": []
  },
  {
   "cell_type": "raw",
   "id": "a45bd22a-dbaf-4e31-8f0e-254472499f71",
   "metadata": {},
   "source": [
    "genrate 100 elements in 2d ndarray\n",
    "10 rows 10 columns..\n",
    "then in that ndarray the elements which are divisible by 2 put 0 instead of element and the elements which is not divisible by 2 put 1 instead of that element or if their is any element which is divisible by 2 and 3 both, put 2 instead of element."
   ]
  },
  {
   "cell_type": "code",
   "execution_count": null,
   "id": "c200979b-b81d-4fc4-adf7-7d1a01f26726",
   "metadata": {},
   "outputs": [],
   "source": []
  },
  {
   "cell_type": "code",
   "execution_count": 54,
   "id": "c0abb9de-4055-4da8-8f13-a1afc59befe2",
   "metadata": {},
   "outputs": [],
   "source": [
    "data = np.arange(1, 101)"
   ]
  },
  {
   "cell_type": "code",
   "execution_count": 55,
   "id": "00b292b1-e720-499c-aef6-971ced60f61f",
   "metadata": {},
   "outputs": [],
   "source": [
    "df = np.reshape(data, (10, 10))"
   ]
  },
  {
   "cell_type": "code",
   "execution_count": 56,
   "id": "31f6ac73-0856-4146-b88d-8fe0a249a734",
   "metadata": {},
   "outputs": [
    {
     "data": {
      "text/plain": [
       "array([[  1,   2,   3,   4,   5,   6,   7,   8,   9,  10],\n",
       "       [ 11,  12,  13,  14,  15,  16,  17,  18,  19,  20],\n",
       "       [ 21,  22,  23,  24,  25,  26,  27,  28,  29,  30],\n",
       "       [ 31,  32,  33,  34,  35,  36,  37,  38,  39,  40],\n",
       "       [ 41,  42,  43,  44,  45,  46,  47,  48,  49,  50],\n",
       "       [ 51,  52,  53,  54,  55,  56,  57,  58,  59,  60],\n",
       "       [ 61,  62,  63,  64,  65,  66,  67,  68,  69,  70],\n",
       "       [ 71,  72,  73,  74,  75,  76,  77,  78,  79,  80],\n",
       "       [ 81,  82,  83,  84,  85,  86,  87,  88,  89,  90],\n",
       "       [ 91,  92,  93,  94,  95,  96,  97,  98,  99, 100]])"
      ]
     },
     "execution_count": 56,
     "metadata": {},
     "output_type": "execute_result"
    }
   ],
   "source": [
    "df"
   ]
  },
  {
   "cell_type": "code",
   "execution_count": null,
   "id": "a3505fc6-b215-4eac-9a87-7a7c184df3a4",
   "metadata": {},
   "outputs": [],
   "source": []
  },
  {
   "cell_type": "code",
   "execution_count": 57,
   "id": "d5a9f70f-c3e3-48f6-96f0-0c9f937c7eee",
   "metadata": {},
   "outputs": [],
   "source": [
    "data = df.reshape(-1)"
   ]
  },
  {
   "cell_type": "code",
   "execution_count": 58,
   "id": "c26a5135-721a-42f7-bf53-2792cb344348",
   "metadata": {},
   "outputs": [
    {
     "data": {
      "text/plain": [
       "array([  1,   2,   3,   4,   5,   6,   7,   8,   9,  10,  11,  12,  13,\n",
       "        14,  15,  16,  17,  18,  19,  20,  21,  22,  23,  24,  25,  26,\n",
       "        27,  28,  29,  30,  31,  32,  33,  34,  35,  36,  37,  38,  39,\n",
       "        40,  41,  42,  43,  44,  45,  46,  47,  48,  49,  50,  51,  52,\n",
       "        53,  54,  55,  56,  57,  58,  59,  60,  61,  62,  63,  64,  65,\n",
       "        66,  67,  68,  69,  70,  71,  72,  73,  74,  75,  76,  77,  78,\n",
       "        79,  80,  81,  82,  83,  84,  85,  86,  87,  88,  89,  90,  91,\n",
       "        92,  93,  94,  95,  96,  97,  98,  99, 100])"
      ]
     },
     "execution_count": 58,
     "metadata": {},
     "output_type": "execute_result"
    }
   ],
   "source": [
    "data"
   ]
  },
  {
   "cell_type": "code",
   "execution_count": null,
   "id": "0e24a712-cc5e-44a8-9ec1-9ebd6ed9554e",
   "metadata": {},
   "outputs": [],
   "source": []
  },
  {
   "cell_type": "code",
   "execution_count": 30,
   "id": "87e0430c-f9d3-4253-9dd5-a920f3d17cbe",
   "metadata": {},
   "outputs": [],
   "source": [
    "index_with_devide_by_2 = np.where(data % 2 == 0)"
   ]
  },
  {
   "cell_type": "code",
   "execution_count": 31,
   "id": "fa32ceaa-4ca3-44d0-a4c7-7795f814aa06",
   "metadata": {},
   "outputs": [],
   "source": [
    "data[index_with_devide_by_2] = 0"
   ]
  },
  {
   "cell_type": "code",
   "execution_count": 32,
   "id": "ade3c129-9aa5-43a5-a1c0-d7524cf87425",
   "metadata": {},
   "outputs": [
    {
     "data": {
      "text/plain": [
       "array([ 1,  0,  3,  0,  5,  0,  7,  0,  9,  0, 11,  0, 13,  0, 15,  0, 17,\n",
       "        0, 19,  0, 21,  0, 23,  0, 25,  0, 27,  0, 29,  0, 31,  0, 33,  0,\n",
       "       35,  0, 37,  0, 39,  0, 41,  0, 43,  0, 45,  0, 47,  0, 49,  0, 51,\n",
       "        0, 53,  0, 55,  0, 57,  0, 59,  0, 61,  0, 63,  0, 65,  0, 67,  0,\n",
       "       69,  0, 71,  0, 73,  0, 75,  0, 77,  0, 79,  0, 81,  0, 83,  0, 85,\n",
       "        0, 87,  0, 89,  0, 91,  0, 93,  0, 95,  0, 97,  0, 99,  0])"
      ]
     },
     "execution_count": 32,
     "metadata": {},
     "output_type": "execute_result"
    }
   ],
   "source": [
    "data"
   ]
  },
  {
   "cell_type": "code",
   "execution_count": null,
   "id": "75176612-89a2-4b73-9ae1-4ada53fc939b",
   "metadata": {},
   "outputs": [],
   "source": []
  },
  {
   "cell_type": "code",
   "execution_count": 33,
   "id": "80533be0-2e4b-4fb0-8ebf-b18b3410f310",
   "metadata": {},
   "outputs": [],
   "source": [
    "data[ np.where(data % 2 != 0)] = 1"
   ]
  },
  {
   "cell_type": "code",
   "execution_count": 34,
   "id": "f37bb301-2f3b-453b-b216-ad7c7ee22e33",
   "metadata": {},
   "outputs": [
    {
     "data": {
      "text/plain": [
       "array([1, 0, 1, 0, 1, 0, 1, 0, 1, 0, 1, 0, 1, 0, 1, 0, 1, 0, 1, 0, 1, 0,\n",
       "       1, 0, 1, 0, 1, 0, 1, 0, 1, 0, 1, 0, 1, 0, 1, 0, 1, 0, 1, 0, 1, 0,\n",
       "       1, 0, 1, 0, 1, 0, 1, 0, 1, 0, 1, 0, 1, 0, 1, 0, 1, 0, 1, 0, 1, 0,\n",
       "       1, 0, 1, 0, 1, 0, 1, 0, 1, 0, 1, 0, 1, 0, 1, 0, 1, 0, 1, 0, 1, 0,\n",
       "       1, 0, 1, 0, 1, 0, 1, 0, 1, 0, 1, 0])"
      ]
     },
     "execution_count": 34,
     "metadata": {},
     "output_type": "execute_result"
    }
   ],
   "source": [
    "data"
   ]
  },
  {
   "cell_type": "code",
   "execution_count": null,
   "id": "9a73f79c-3927-4fb0-9438-26b37ad24775",
   "metadata": {},
   "outputs": [],
   "source": []
  },
  {
   "cell_type": "code",
   "execution_count": 38,
   "id": "d76de828-3716-4634-925c-b83ffa3347f3",
   "metadata": {},
   "outputs": [
    {
     "ename": "SyntaxError",
     "evalue": "cannot assign to function call here. Maybe you meant '==' instead of '='? (647432740.py, line 1)",
     "output_type": "error",
     "traceback": [
      "\u001b[1;36m  Cell \u001b[1;32mIn[38], line 1\u001b[1;36m\u001b[0m\n\u001b[1;33m    np.where(data % 2 == 0 & data % 3 == 0) = 2\u001b[0m\n\u001b[1;37m    ^\u001b[0m\n\u001b[1;31mSyntaxError\u001b[0m\u001b[1;31m:\u001b[0m cannot assign to function call here. Maybe you meant '==' instead of '='?\n"
     ]
    }
   ],
   "source": [
    " np.where(data % 2 == 0 & data % 3 == 0) = 2"
   ]
  },
  {
   "cell_type": "code",
   "execution_count": null,
   "id": "526e4da7-ad0d-446e-8085-051250936746",
   "metadata": {},
   "outputs": [],
   "source": []
  },
  {
   "cell_type": "code",
   "execution_count": 59,
   "id": "27634133-5807-4535-aff0-dfaf7f280ead",
   "metadata": {},
   "outputs": [
    {
     "data": {
      "text/plain": [
       "(array([ 2,  5,  8, 11, 14, 17, 20, 23, 26, 29, 32, 35, 38, 41, 44, 47, 50,\n",
       "        53, 56, 59, 62, 65, 68, 71, 74, 77, 80, 83, 86, 89, 92, 95, 98],\n",
       "       dtype=int64),)"
      ]
     },
     "execution_count": 59,
     "metadata": {},
     "output_type": "execute_result"
    }
   ],
   "source": [
    "q = np.where(data % 2 == 0) and np.where(data % 3 == 0)\n",
    "q"
   ]
  },
  {
   "cell_type": "code",
   "execution_count": null,
   "id": "b702925d-a122-4dee-b08a-04323e85c093",
   "metadata": {},
   "outputs": [],
   "source": []
  },
  {
   "cell_type": "code",
   "execution_count": 60,
   "id": "87ef0e77-f621-4715-a557-15b07d3b2a51",
   "metadata": {},
   "outputs": [
    {
     "data": {
      "text/plain": [
       "array([  1,   2,   3,   4,   5,   6,   7,   8,   9,  10,  11,  12,  13,\n",
       "        14,  15,  16,  17,  18,  19,  20,  21,  22,  23,  24,  25,  26,\n",
       "        27,  28,  29,  30,  31,  32,  33,  34,  35,  36,  37,  38,  39,\n",
       "        40,  41,  42,  43,  44,  45,  46,  47,  48,  49,  50,  51,  52,\n",
       "        53,  54,  55,  56,  57,  58,  59,  60,  61,  62,  63,  64,  65,\n",
       "        66,  67,  68,  69,  70,  71,  72,  73,  74,  75,  76,  77,  78,\n",
       "        79,  80,  81,  82,  83,  84,  85,  86,  87,  88,  89,  90,  91,\n",
       "        92,  93,  94,  95,  96,  97,  98,  99, 100])"
      ]
     },
     "execution_count": 60,
     "metadata": {},
     "output_type": "execute_result"
    }
   ],
   "source": [
    "data"
   ]
  },
  {
   "cell_type": "code",
   "execution_count": null,
   "id": "71490f27-b22a-4faf-8c76-58c88a41ea00",
   "metadata": {},
   "outputs": [],
   "source": []
  }
 ],
 "metadata": {
  "kernelspec": {
   "display_name": "Python 3 (ipykernel)",
   "language": "python",
   "name": "python3"
  },
  "language_info": {
   "codemirror_mode": {
    "name": "ipython",
    "version": 3
   },
   "file_extension": ".py",
   "mimetype": "text/x-python",
   "name": "python",
   "nbconvert_exporter": "python",
   "pygments_lexer": "ipython3",
   "version": "3.12.3"
  }
 },
 "nbformat": 4,
 "nbformat_minor": 5
}
