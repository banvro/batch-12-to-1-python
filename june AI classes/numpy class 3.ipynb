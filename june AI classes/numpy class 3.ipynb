{
 "cells": [
  {
   "cell_type": "code",
   "execution_count": null,
   "id": "52fc9ba6-14d6-4bdc-9af8-825a5eea55ef",
   "metadata": {},
   "outputs": [],
   "source": [
    "# Numpy\n",
    "# Ndarrays\n",
    "# demmensions\n",
    "#     1d, 2d, 3d\n",
    "\n",
    "# ndim\n",
    "# shape\n",
    "\n",
    "# indexing\n",
    "# slicing"
   ]
  },
  {
   "cell_type": "code",
   "execution_count": 1,
   "id": "529e75b1-982d-400f-ab1f-ea50414929b5",
   "metadata": {},
   "outputs": [],
   "source": [
    "import numpy as np"
   ]
  },
  {
   "cell_type": "code",
   "execution_count": 2,
   "id": "d60b137f-8229-40ec-ac06-cb87a1598179",
   "metadata": {},
   "outputs": [],
   "source": [
    "arr = np.array([12, 23, 4, 56, 67, 89])"
   ]
  },
  {
   "cell_type": "code",
   "execution_count": 3,
   "id": "3747ec04-fa56-4e66-b002-f9569a3d61d5",
   "metadata": {},
   "outputs": [],
   "source": [
    "# adding new elemt in ndarray"
   ]
  },
  {
   "cell_type": "code",
   "execution_count": 4,
   "id": "7a9ad3ad-7501-4cd8-99bb-b5e048528bb1",
   "metadata": {},
   "outputs": [],
   "source": [
    "# append() -->"
   ]
  },
  {
   "cell_type": "code",
   "execution_count": null,
   "id": "9883fd49-af11-4061-a51b-537d45b5b517",
   "metadata": {},
   "outputs": [],
   "source": []
  },
  {
   "cell_type": "code",
   "execution_count": 5,
   "id": "b386ff8a-9f77-46c4-8002-28e10ead5753",
   "metadata": {},
   "outputs": [],
   "source": [
    "# np.append(objectname, element)"
   ]
  },
  {
   "cell_type": "code",
   "execution_count": 6,
   "id": "263eaa07-e143-4bdb-a4b0-90441c7ec852",
   "metadata": {},
   "outputs": [
    {
     "data": {
      "text/plain": [
       "array([12, 23,  4, 56, 67, 89])"
      ]
     },
     "execution_count": 6,
     "metadata": {},
     "output_type": "execute_result"
    }
   ],
   "source": [
    "arr"
   ]
  },
  {
   "cell_type": "code",
   "execution_count": null,
   "id": "fa21776e-4cd6-44fe-93c2-cbe570ccb1a3",
   "metadata": {},
   "outputs": [],
   "source": []
  },
  {
   "cell_type": "code",
   "execution_count": 9,
   "id": "dff915a7-5a8d-4ff6-a528-22bafab996bb",
   "metadata": {},
   "outputs": [],
   "source": [
    "xyz = np.append(arr, 100)"
   ]
  },
  {
   "cell_type": "code",
   "execution_count": null,
   "id": "10f73020-b445-4e2f-9edb-cd7715c8a56b",
   "metadata": {},
   "outputs": [],
   "source": []
  },
  {
   "cell_type": "code",
   "execution_count": 10,
   "id": "1561bf3d-1ff7-45fa-b29a-e4ac4f4b5dac",
   "metadata": {},
   "outputs": [
    {
     "data": {
      "text/plain": [
       "array([ 12,  23,   4,  56,  67,  89, 100])"
      ]
     },
     "execution_count": 10,
     "metadata": {},
     "output_type": "execute_result"
    }
   ],
   "source": [
    "xyz"
   ]
  },
  {
   "cell_type": "code",
   "execution_count": null,
   "id": "9e181991-3ea5-4843-8fd2-9a11170bbe94",
   "metadata": {},
   "outputs": [],
   "source": []
  },
  {
   "cell_type": "code",
   "execution_count": 11,
   "id": "85a13d6a-cde4-46ca-93db-46f38b75b0c5",
   "metadata": {},
   "outputs": [],
   "source": [
    "# insert()"
   ]
  },
  {
   "cell_type": "code",
   "execution_count": null,
   "id": "6a3a8d2e-7604-4b73-950a-6bb37ae9c6ca",
   "metadata": {},
   "outputs": [],
   "source": []
  },
  {
   "cell_type": "code",
   "execution_count": 12,
   "id": "69c3c5f8-e8ef-426c-a0f9-d9072e3ed07a",
   "metadata": {},
   "outputs": [],
   "source": [
    "# np.insert(objctname, indexnumber, element)"
   ]
  },
  {
   "cell_type": "code",
   "execution_count": null,
   "id": "0bbf38c6-4cca-47ee-a565-ee8a002b10cd",
   "metadata": {},
   "outputs": [],
   "source": []
  },
  {
   "cell_type": "code",
   "execution_count": 13,
   "id": "c3e936f2-b926-4209-9f4b-48f025ff3910",
   "metadata": {},
   "outputs": [],
   "source": [
    "xyz = np.array([3, 45, 56, 67, 45, 34, 45, 234, 12])"
   ]
  },
  {
   "cell_type": "code",
   "execution_count": null,
   "id": "e382249b-6e32-47af-906e-420a9a3aa11f",
   "metadata": {},
   "outputs": [],
   "source": []
  },
  {
   "cell_type": "code",
   "execution_count": 14,
   "id": "228c5bc3-9a3f-425e-8d38-c5e738451a57",
   "metadata": {},
   "outputs": [
    {
     "data": {
      "text/plain": [
       "array([  3,  45, 100,  56,  67,  45,  34,  45, 234,  12])"
      ]
     },
     "execution_count": 14,
     "metadata": {},
     "output_type": "execute_result"
    }
   ],
   "source": [
    "np.insert(xyz, 2, 100)"
   ]
  },
  {
   "cell_type": "code",
   "execution_count": null,
   "id": "ae7982f8-8520-40e0-ad3d-75f719f90245",
   "metadata": {},
   "outputs": [],
   "source": []
  },
  {
   "cell_type": "code",
   "execution_count": 15,
   "id": "c14d2023-e1f9-4400-b5d0-a14c9b9eac07",
   "metadata": {},
   "outputs": [
    {
     "data": {
      "text/plain": [
       "array([  3,  45,  23,  45,  56,  56,  67,  45,  34,  45, 234,  12])"
      ]
     },
     "execution_count": 15,
     "metadata": {},
     "output_type": "execute_result"
    }
   ],
   "source": [
    "np.insert(xyz, 2, [23, 45, 56])"
   ]
  },
  {
   "cell_type": "code",
   "execution_count": null,
   "id": "4198a301-5d50-408a-9d4c-666cce5b75a1",
   "metadata": {},
   "outputs": [],
   "source": []
  },
  {
   "cell_type": "code",
   "execution_count": null,
   "id": "0579730c-8030-4e82-b1f0-fe8feffa4ffb",
   "metadata": {},
   "outputs": [],
   "source": []
  },
  {
   "cell_type": "code",
   "execution_count": 16,
   "id": "2ccf0be1-3bc0-4733-bbee-152b2f9e244c",
   "metadata": {},
   "outputs": [],
   "source": [
    "abc = np.array([1, 2, 3, 4, 5, 6, 7, 8, 9, 10])"
   ]
  },
  {
   "cell_type": "code",
   "execution_count": 17,
   "id": "b934070f-6ad4-476d-8483-a3799abeb260",
   "metadata": {},
   "outputs": [],
   "source": [
    "index_number = [1, 4, 7]\n",
    "\n",
    "elements = [100, 200, 300]"
   ]
  },
  {
   "cell_type": "code",
   "execution_count": null,
   "id": "faad5e99-c9aa-4d85-a834-fc87dbe62936",
   "metadata": {},
   "outputs": [],
   "source": []
  },
  {
   "cell_type": "code",
   "execution_count": 18,
   "id": "ed42e3c5-64fd-43c6-8e70-6063a4de09be",
   "metadata": {},
   "outputs": [
    {
     "data": {
      "text/plain": [
       "array([  1, 100,   2,   3,   4, 200,   5,   6,   7, 300,   8,   9,  10])"
      ]
     },
     "execution_count": 18,
     "metadata": {},
     "output_type": "execute_result"
    }
   ],
   "source": [
    "np.insert(abc, index_number, elements)"
   ]
  },
  {
   "cell_type": "code",
   "execution_count": null,
   "id": "8938d055-73ca-4014-b874-3591639e6379",
   "metadata": {},
   "outputs": [],
   "source": []
  },
  {
   "cell_type": "code",
   "execution_count": 19,
   "id": "9b970362-96ab-458a-bda2-85dfcc11eb21",
   "metadata": {},
   "outputs": [
    {
     "data": {
      "text/plain": [
       "array([  1, 100,   2,   3,   4, 200,   5,   6,   7, 300,   8,   9,  10])"
      ]
     },
     "execution_count": 19,
     "metadata": {},
     "output_type": "execute_result"
    }
   ],
   "source": [
    "np.insert(abc, [1, 4, 7], [100, 200, 300])"
   ]
  },
  {
   "cell_type": "code",
   "execution_count": null,
   "id": "2a0191cd-b247-4164-8218-7ab2cb703932",
   "metadata": {},
   "outputs": [],
   "source": []
  },
  {
   "cell_type": "code",
   "execution_count": null,
   "id": "13c665f8-7694-4e81-9e65-223ca56de766",
   "metadata": {},
   "outputs": [],
   "source": []
  },
  {
   "cell_type": "code",
   "execution_count": null,
   "id": "1993b9a5-10ea-4aaf-b4a1-a4105561d07b",
   "metadata": {},
   "outputs": [],
   "source": []
  },
  {
   "cell_type": "code",
   "execution_count": 20,
   "id": "8268745c-0af2-4ea3-b18e-a1fafec7057d",
   "metadata": {},
   "outputs": [],
   "source": [
    "# replacing elements / update"
   ]
  },
  {
   "cell_type": "code",
   "execution_count": null,
   "id": "9b15ed18-f948-406b-82d4-b558dc83be5b",
   "metadata": {},
   "outputs": [],
   "source": []
  },
  {
   "cell_type": "code",
   "execution_count": 22,
   "id": "0553a0a3-c095-4dce-a9a7-59a0eda39b2f",
   "metadata": {},
   "outputs": [],
   "source": [
    "arr3 = np.array([23, 34, 45, 56, 67, 78, 10])"
   ]
  },
  {
   "cell_type": "code",
   "execution_count": null,
   "id": "10a09d0c-d688-4564-96ea-591217a1339a",
   "metadata": {},
   "outputs": [],
   "source": []
  },
  {
   "cell_type": "code",
   "execution_count": 23,
   "id": "c3ab2560-a460-493d-9063-fc27ce4bec38",
   "metadata": {},
   "outputs": [],
   "source": [
    "# objectname[indexnumber] = new_element"
   ]
  },
  {
   "cell_type": "code",
   "execution_count": 24,
   "id": "06e02ba3-b5e4-4810-b8c8-bdd07ea81050",
   "metadata": {},
   "outputs": [],
   "source": [
    "arr3[2] = 100"
   ]
  },
  {
   "cell_type": "code",
   "execution_count": null,
   "id": "e5f7af14-cba1-4c82-8cd2-f5f6f7e78b4f",
   "metadata": {},
   "outputs": [],
   "source": []
  },
  {
   "cell_type": "code",
   "execution_count": 25,
   "id": "b75efa76-62a5-4bd8-a871-b479e5ea7fe8",
   "metadata": {},
   "outputs": [
    {
     "data": {
      "text/plain": [
       "array([ 23,  34, 100,  56,  67,  78,  10])"
      ]
     },
     "execution_count": 25,
     "metadata": {},
     "output_type": "execute_result"
    }
   ],
   "source": [
    "arr3"
   ]
  },
  {
   "cell_type": "code",
   "execution_count": null,
   "id": "e5b50a74-33bd-4ef1-85fe-a8c0114428ae",
   "metadata": {},
   "outputs": [],
   "source": []
  },
  {
   "cell_type": "code",
   "execution_count": null,
   "id": "48d6850c-eab4-492b-944c-7d2b00aec287",
   "metadata": {},
   "outputs": [],
   "source": []
  },
  {
   "cell_type": "code",
   "execution_count": 26,
   "id": "16246293-176b-4d39-9772-13d5e232e35b",
   "metadata": {},
   "outputs": [],
   "source": [
    "arr3 = np.array([23, 34, 45, 56, 67, 78, 10])"
   ]
  },
  {
   "cell_type": "code",
   "execution_count": null,
   "id": "530f47da-ed91-49f3-b21f-51a65f768744",
   "metadata": {},
   "outputs": [],
   "source": []
  },
  {
   "cell_type": "code",
   "execution_count": 27,
   "id": "88fb7226-0a94-4bb5-a10b-e18179e380aa",
   "metadata": {},
   "outputs": [],
   "source": [
    "arr3[[1, 4, -1]] = [100, 200, 300]"
   ]
  },
  {
   "cell_type": "code",
   "execution_count": 28,
   "id": "4ad410ff-be7c-4101-89e4-0f512ee3ea65",
   "metadata": {},
   "outputs": [
    {
     "data": {
      "text/plain": [
       "array([ 23, 100,  45,  56, 200,  78, 300])"
      ]
     },
     "execution_count": 28,
     "metadata": {},
     "output_type": "execute_result"
    }
   ],
   "source": [
    "arr3"
   ]
  },
  {
   "cell_type": "code",
   "execution_count": null,
   "id": "c858faa5-082a-4ba5-b123-2f7a4918b30a",
   "metadata": {},
   "outputs": [],
   "source": []
  },
  {
   "cell_type": "code",
   "execution_count": null,
   "id": "7b7e009e-7717-4dee-a475-34a0c01635aa",
   "metadata": {},
   "outputs": [],
   "source": []
  },
  {
   "cell_type": "code",
   "execution_count": 29,
   "id": "6676c2e1-bfcc-49a4-9cf3-27924632aeb5",
   "metadata": {},
   "outputs": [],
   "source": [
    "# deleteing elements from ndarray\n"
   ]
  },
  {
   "cell_type": "code",
   "execution_count": 30,
   "id": "f9941486-2550-4712-8765-38518925770d",
   "metadata": {},
   "outputs": [],
   "source": [
    "arr3 = np.array([23, 34, 45, 56, 67, 78, 10])"
   ]
  },
  {
   "cell_type": "code",
   "execution_count": null,
   "id": "2094ced2-f7e8-48df-b40c-3f9ab15b97d9",
   "metadata": {},
   "outputs": [],
   "source": []
  },
  {
   "cell_type": "code",
   "execution_count": 31,
   "id": "d3a5eacd-b7b5-4d5b-bb88-57a609c0e3fb",
   "metadata": {},
   "outputs": [],
   "source": [
    "# np.delete(objectname, indexnumber)"
   ]
  },
  {
   "cell_type": "code",
   "execution_count": null,
   "id": "41fad26f-7cb1-4166-b5c4-242f58734add",
   "metadata": {},
   "outputs": [],
   "source": []
  },
  {
   "cell_type": "code",
   "execution_count": 33,
   "id": "5439dfc9-28cc-43b7-9b5e-aa4ee38b284f",
   "metadata": {},
   "outputs": [
    {
     "data": {
      "text/plain": [
       "array([23, 34, 45, 56, 67, 78])"
      ]
     },
     "execution_count": 33,
     "metadata": {},
     "output_type": "execute_result"
    }
   ],
   "source": [
    "np.delete(arr3, -1)"
   ]
  },
  {
   "cell_type": "code",
   "execution_count": null,
   "id": "d196d3de-06dc-41b0-82d0-63277a3120e7",
   "metadata": {},
   "outputs": [],
   "source": []
  },
  {
   "cell_type": "code",
   "execution_count": 34,
   "id": "d59c5d05-85ea-4d45-b877-04bcb868abca",
   "metadata": {},
   "outputs": [
    {
     "data": {
      "text/plain": [
       "array([23, 45, 56, 78])"
      ]
     },
     "execution_count": 34,
     "metadata": {},
     "output_type": "execute_result"
    }
   ],
   "source": [
    "np.delete(arr3, [1, 4, -1])"
   ]
  },
  {
   "cell_type": "code",
   "execution_count": null,
   "id": "03cf9446-175b-4a6c-b525-ebcf9f0ff710",
   "metadata": {},
   "outputs": [],
   "source": []
  },
  {
   "cell_type": "code",
   "execution_count": null,
   "id": "c54c8926-bbff-4a73-8d7b-4de9115adccb",
   "metadata": {},
   "outputs": [],
   "source": [
    "append\n",
    "insert\n",
    "elements replace\n",
    "delete"
   ]
  }
 ],
 "metadata": {
  "kernelspec": {
   "display_name": "Python 3 (ipykernel)",
   "language": "python",
   "name": "python3"
  },
  "language_info": {
   "codemirror_mode": {
    "name": "ipython",
    "version": 3
   },
   "file_extension": ".py",
   "mimetype": "text/x-python",
   "name": "python",
   "nbconvert_exporter": "python",
   "pygments_lexer": "ipython3",
   "version": "3.12.3"
  }
 },
 "nbformat": 4,
 "nbformat_minor": 5
}
