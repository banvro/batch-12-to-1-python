{
 "cells": [
  {
   "cell_type": "markdown",
   "id": "939ee82a-7d84-4d3c-9cb4-fa06a43ed9c7",
   "metadata": {},
   "source": [
    "# matplotlib"
   ]
  },
  {
   "cell_type": "code",
   "execution_count": 8,
   "id": "f99feec5-e0c7-49c3-9ee7-f3d02e369ebb",
   "metadata": {},
   "outputs": [],
   "source": [
    "import matplotlib.pyplot as plt\n",
    "import numpy as np\n",
    "import pandas as pd\n",
    "from numpy import random"
   ]
  },
  {
   "cell_type": "code",
   "execution_count": null,
   "id": "fd0fe343-92dc-4b83-b766-70f8e6ff0ce4",
   "metadata": {},
   "outputs": [],
   "source": []
  },
  {
   "cell_type": "code",
   "execution_count": 14,
   "id": "5ce44df7-8b60-4e2d-a1e5-be733f09e618",
   "metadata": {},
   "outputs": [],
   "source": [
    "# genrate 10 random elments from 0 to 50"
   ]
  },
  {
   "cell_type": "code",
   "execution_count": null,
   "id": "a892f576-030a-40d4-89b6-a893d082ea27",
   "metadata": {},
   "outputs": [],
   "source": []
  },
  {
   "cell_type": "code",
   "execution_count": 15,
   "id": "71dad7cc-551a-4ca6-a0d3-d50321313704",
   "metadata": {},
   "outputs": [],
   "source": [
    "zx = random.randint(0, 50, size = ())"
   ]
  },
  {
   "cell_type": "code",
   "execution_count": 16,
   "id": "f9df9bf7-f336-4f29-a8e0-a1398fa161c2",
   "metadata": {},
   "outputs": [
    {
     "data": {
      "text/plain": [
       "9"
      ]
     },
     "execution_count": 16,
     "metadata": {},
     "output_type": "execute_result"
    }
   ],
   "source": [
    "zx"
   ]
  },
  {
   "cell_type": "code",
   "execution_count": null,
   "id": "92be3d3e-604a-4e67-b98e-3dbad960657f",
   "metadata": {},
   "outputs": [],
   "source": []
  }
 ],
 "metadata": {
  "kernelspec": {
   "display_name": "Python 3 (ipykernel)",
   "language": "python",
   "name": "python3"
  },
  "language_info": {
   "codemirror_mode": {
    "name": "ipython",
    "version": 3
   },
   "file_extension": ".py",
   "mimetype": "text/x-python",
   "name": "python",
   "nbconvert_exporter": "python",
   "pygments_lexer": "ipython3",
   "version": "3.12.0"
  }
 },
 "nbformat": 4,
 "nbformat_minor": 5
}
