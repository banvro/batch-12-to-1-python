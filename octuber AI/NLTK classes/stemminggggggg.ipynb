{
 "cells": [
  {
   "cell_type": "code",
   "execution_count": null,
   "id": "7f16f7a2-dadc-4b37-82f0-5c22680108c6",
   "metadata": {},
   "outputs": [],
   "source": [
    "stemming ---> a process that helps to reduce the words by removeing suffixes, affiex or prefixes.\n",
    "to get the root word that called lemma."
   ]
  },
  {
   "cell_type": "code",
   "execution_count": null,
   "id": "3a6bcbc8-1571-4a7f-840b-188849855f7f",
   "metadata": {},
   "outputs": [],
   "source": [
    "get, getting, how, car, cars, go, goes, going, gone..........."
   ]
  },
  {
   "cell_type": "code",
   "execution_count": null,
   "id": "efc22a1b-076f-4411-be15-dec13ecfd1a9",
   "metadata": {},
   "outputs": [],
   "source": [
    "get, car, go"
   ]
  },
  {
   "cell_type": "code",
   "execution_count": null,
   "id": "a5bee328-1ed5-447f-a6d8-691bdb662d2f",
   "metadata": {},
   "outputs": [],
   "source": []
  },
  {
   "cell_type": "code",
   "execution_count": 1,
   "id": "650797b6-b7f7-4889-a58f-7502e55aad1f",
   "metadata": {},
   "outputs": [],
   "source": [
    "# 1) PosterStreammer\n",
    "# 2) RegexpStreammer\n",
    "# 3) snowball streammer\n",
    "\n",
    "# best option ---> Limitizaton\n"
   ]
  },
  {
   "cell_type": "code",
   "execution_count": 12,
   "id": "149bce0d-a2e4-469d-bc39-bbdfcc1bba6a",
   "metadata": {},
   "outputs": [],
   "source": [
    "words = [\"going\", \"gone\", \"car\", \"history\", \"bus\", \"buses\", \"program\", \"programmer\", \"programming\"]"
   ]
  },
  {
   "cell_type": "code",
   "execution_count": null,
   "id": "664a296a-44d9-4a02-bce7-66fe67f47456",
   "metadata": {},
   "outputs": [],
   "source": []
  },
  {
   "cell_type": "code",
   "execution_count": 3,
   "id": "ee5088bf-69e1-4c58-a1a9-5e0ee5a2f7e2",
   "metadata": {},
   "outputs": [],
   "source": [
    "from nltk.stem import PorterStemmer"
   ]
  },
  {
   "cell_type": "code",
   "execution_count": 5,
   "id": "7a774aac-8577-4eb0-af1b-110cb33a2268",
   "metadata": {},
   "outputs": [],
   "source": [
    "strmmer = PorterStemmer()"
   ]
  },
  {
   "cell_type": "code",
   "execution_count": 15,
   "id": "1a7dc14b-b7d4-4eec-80b0-abed599b7c3c",
   "metadata": {},
   "outputs": [
    {
     "name": "stdout",
     "output_type": "stream",
     "text": [
      "going ---lemma is---> go\n",
      "gone ---lemma is---> gone\n",
      "car ---lemma is---> car\n",
      "history ---lemma is---> histori\n",
      "bus ---lemma is---> bu\n",
      "buses ---lemma is---> buse\n",
      "program ---lemma is---> program\n",
      "programmer ---lemma is---> programm\n",
      "programming ---lemma is---> program\n"
     ]
    }
   ],
   "source": [
    "for x in words:\n",
    "    print(x, \"---lemma is--->\", strmmer.stem(x))"
   ]
  },
  {
   "cell_type": "code",
   "execution_count": 8,
   "id": "f5c0c0a3-98b5-4568-9aa9-3c2a0c6507c2",
   "metadata": {},
   "outputs": [
    {
     "data": {
      "text/plain": [
       "'hey'"
      ]
     },
     "execution_count": 8,
     "metadata": {},
     "output_type": "execute_result"
    }
   ],
   "source": []
  },
  {
   "cell_type": "code",
   "execution_count": null,
   "id": "18228e39-53fe-49cb-a15a-feb934e737e6",
   "metadata": {},
   "outputs": [],
   "source": []
  },
  {
   "cell_type": "code",
   "execution_count": 16,
   "id": "a6202b87-070e-4fe6-9a79-787319d3e1d4",
   "metadata": {},
   "outputs": [],
   "source": [
    "# RegexpStreammer : "
   ]
  },
  {
   "cell_type": "code",
   "execution_count": 17,
   "id": "2aca9071-8ddc-4fd4-a5dc-06c8ede84b9d",
   "metadata": {},
   "outputs": [],
   "source": [
    "from nltk.stem import RegexpStemmer"
   ]
  },
  {
   "cell_type": "code",
   "execution_count": 22,
   "id": "069f2cc3-6f59-40b8-877b-457e3f3646ff",
   "metadata": {},
   "outputs": [],
   "source": [
    "words = [\"going\", \"gone\", \"car\", \"history\", \"bus\", \"buses\", \"program\", \"programmer\", \"programming\"]\n",
    "\n",
    "obj = RegexpStemmer('ing$|s$|e$|able$|es$', min=4)"
   ]
  },
  {
   "cell_type": "code",
   "execution_count": 23,
   "id": "8401f761-56d7-41b8-bbd0-8294c6c9c65b",
   "metadata": {},
   "outputs": [
    {
     "name": "stdout",
     "output_type": "stream",
     "text": [
      "going ---lemma is---> go\n",
      "gone ---lemma is---> gon\n",
      "car ---lemma is---> car\n",
      "history ---lemma is---> history\n",
      "bus ---lemma is---> bus\n",
      "buses ---lemma is---> bus\n",
      "program ---lemma is---> program\n",
      "programmer ---lemma is---> programmer\n",
      "programming ---lemma is---> programm\n"
     ]
    }
   ],
   "source": [
    "for x in words:\n",
    "    print(x, \"---lemma is--->\", obj.stem(x))"
   ]
  },
  {
   "cell_type": "code",
   "execution_count": null,
   "id": "f4fda480-5a50-4c28-8625-910a49a29924",
   "metadata": {},
   "outputs": [],
   "source": []
  },
  {
   "cell_type": "code",
   "execution_count": 24,
   "id": "274797ef-4379-45d0-9285-dd1e5a6660ca",
   "metadata": {},
   "outputs": [],
   "source": [
    "# snowballstreammer"
   ]
  },
  {
   "cell_type": "code",
   "execution_count": 25,
   "id": "2ac9c5eb-6d68-41cc-8b5a-042e325c937e",
   "metadata": {},
   "outputs": [],
   "source": [
    "from nltk.stem import SnowballStemmer"
   ]
  },
  {
   "cell_type": "code",
   "execution_count": 34,
   "id": "9da00c90-2df8-4716-b77e-017be4b26bd9",
   "metadata": {},
   "outputs": [],
   "source": [
    "snow_obj = SnowballStemmer('english')"
   ]
  },
  {
   "cell_type": "code",
   "execution_count": 35,
   "id": "49facd68-8aa6-4805-9c44-58124c728f05",
   "metadata": {},
   "outputs": [
    {
     "name": "stdout",
     "output_type": "stream",
     "text": [
      "going ---lemma is---> go\n",
      "gone ---lemma is---> gone\n",
      "car ---lemma is---> car\n",
      "history ---lemma is---> histori\n",
      "bus ---lemma is---> bus\n",
      "buses ---lemma is---> buse\n",
      "program ---lemma is---> program\n",
      "programmer ---lemma is---> programm\n",
      "programming ---lemma is---> program\n"
     ]
    }
   ],
   "source": [
    "for x in words:\n",
    "    print(x, \"---lemma is--->\", snow_obj.stem(x))"
   ]
  },
  {
   "cell_type": "code",
   "execution_count": null,
   "id": "1d88b480-0ec9-4406-a3e1-17bffa6e1d13",
   "metadata": {},
   "outputs": [],
   "source": []
  },
  {
   "cell_type": "code",
   "execution_count": 36,
   "id": "734c7b52-b495-4fd4-a529-c3685afa1c01",
   "metadata": {},
   "outputs": [
    {
     "data": {
      "text/plain": [
       "'fairli'"
      ]
     },
     "execution_count": 36,
     "metadata": {},
     "output_type": "execute_result"
    }
   ],
   "source": [
    "strmmer.stem(\"fairly\")"
   ]
  },
  {
   "cell_type": "code",
   "execution_count": 37,
   "id": "5a5f2564-d1fe-4c9e-8731-43f9e4843496",
   "metadata": {},
   "outputs": [
    {
     "data": {
      "text/plain": [
       "'fair'"
      ]
     },
     "execution_count": 37,
     "metadata": {},
     "output_type": "execute_result"
    }
   ],
   "source": [
    "snow_obj.stem(\"fairly\")"
   ]
  },
  {
   "cell_type": "code",
   "execution_count": null,
   "id": "5f86908f-18d1-4c5e-823a-2271adccbbb7",
   "metadata": {},
   "outputs": [],
   "source": []
  },
  {
   "cell_type": "code",
   "execution_count": null,
   "id": "09479f12-5539-47d1-b4e1-548e82cb6182",
   "metadata": {},
   "outputs": [],
   "source": [
    "# limitization\n",
    "\n",
    "# wordnet limitization"
   ]
  },
  {
   "cell_type": "code",
   "execution_count": null,
   "id": "1b1eade4-5f4f-4164-87ff-31ec48508327",
   "metadata": {},
   "outputs": [],
   "source": []
  },
  {
   "cell_type": "code",
   "execution_count": 57,
   "id": "c1d6cd1c-f776-48cf-850b-53edba1eaec7",
   "metadata": {},
   "outputs": [],
   "source": [
    "from nltk.stem import WordNetLemmatizer"
   ]
  },
  {
   "cell_type": "code",
   "execution_count": 45,
   "id": "026a6af1-d8b6-491e-982e-1bd5276b40ed",
   "metadata": {},
   "outputs": [
    {
     "name": "stderr",
     "output_type": "stream",
     "text": [
      "[nltk_data] Downloading package wordnet to\n",
      "[nltk_data]     C:\\Users\\17nru\\AppData\\Roaming\\nltk_data...\n"
     ]
    },
    {
     "data": {
      "text/plain": [
       "True"
      ]
     },
     "execution_count": 45,
     "metadata": {},
     "output_type": "execute_result"
    }
   ],
   "source": [
    "import nltk\n",
    "\n",
    "nltk.download('wordnet')"
   ]
  },
  {
   "cell_type": "code",
   "execution_count": 58,
   "id": "17dbffda-46b3-4a29-9693-16c8fc01ea07",
   "metadata": {},
   "outputs": [],
   "source": [
    "# pos => Noun -> n, Verb --> v, Adjective a, adverb --> r\n",
    "\n",
    "# xyz = WordNetLemmatizer()"
   ]
  },
  {
   "cell_type": "code",
   "execution_count": 48,
   "id": "a627d3c3-181c-4dcb-91e6-c9126e388cb4",
   "metadata": {},
   "outputs": [
    {
     "data": {
      "text/plain": [
       "'hey'"
      ]
     },
     "execution_count": 48,
     "metadata": {},
     "output_type": "execute_result"
    }
   ],
   "source": [
    "xyz.lemmatize(\"hey\")"
   ]
  },
  {
   "cell_type": "code",
   "execution_count": 54,
   "id": "f5293c22-0afd-4398-8760-5551ef9875dd",
   "metadata": {},
   "outputs": [
    {
     "data": {
      "text/plain": [
       "'going'"
      ]
     },
     "execution_count": 54,
     "metadata": {},
     "output_type": "execute_result"
    }
   ],
   "source": [
    "xyz.lemmatize(\"going\")"
   ]
  },
  {
   "cell_type": "code",
   "execution_count": 59,
   "id": "8ab24358-09da-412f-87f3-60e37f6bdd37",
   "metadata": {},
   "outputs": [],
   "source": [
    "# pos"
   ]
  },
  {
   "cell_type": "code",
   "execution_count": 63,
   "id": "1ab9d5c0-7199-4793-b409-994f45d21240",
   "metadata": {},
   "outputs": [
    {
     "name": "stdout",
     "output_type": "stream",
     "text": [
      "going ---lemma is---> go\n",
      "gone ---lemma is---> go\n",
      "car ---lemma is---> car\n",
      "history ---lemma is---> history\n",
      "bus ---lemma is---> bus\n",
      "buses ---lemma is---> bus\n",
      "program ---lemma is---> program\n",
      "programmer ---lemma is---> programmer\n",
      "programming ---lemma is---> program\n"
     ]
    }
   ],
   "source": [
    "for x in words:\n",
    "    print(x, \"---lemma is--->\", xyz.lemmatize(x, pos = 'v'))"
   ]
  },
  {
   "cell_type": "code",
   "execution_count": null,
   "id": "8d17c588-9b26-4e10-b7eb-574c921ef967",
   "metadata": {},
   "outputs": [],
   "source": []
  }
 ],
 "metadata": {
  "kernelspec": {
   "display_name": "Python 3 (ipykernel)",
   "language": "python",
   "name": "python3"
  },
  "language_info": {
   "codemirror_mode": {
    "name": "ipython",
    "version": 3
   },
   "file_extension": ".py",
   "mimetype": "text/x-python",
   "name": "python",
   "nbconvert_exporter": "python",
   "pygments_lexer": "ipython3",
   "version": "3.12.3"
  }
 },
 "nbformat": 4,
 "nbformat_minor": 5
}
