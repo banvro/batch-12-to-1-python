{
 "cells": [
  {
   "cell_type": "code",
   "execution_count": null,
   "id": "707f907b-2068-4de1-aac0-5e05610a13d8",
   "metadata": {},
   "outputs": [],
   "source": [
    "# Numpy : \n",
    "#     arrays\n",
    "#     ndarray\n",
    "#     slicing\n",
    "#     indexing\n",
    "#     ndim\n",
    "#     shape\n",
    "#     where ::::::::::::::::\n",
    "#         CRUD operations"
   ]
  },
  {
   "cell_type": "code",
   "execution_count": null,
   "id": "d377a43b-853f-48df-ba8d-73c78efec1a5",
   "metadata": {},
   "outputs": [],
   "source": []
  },
  {
   "cell_type": "markdown",
   "id": "99696027-7eef-4faf-b3fb-59b4def95661",
   "metadata": {},
   "source": [
    "# reshape : this is a method that help us to reshape the shape of data"
   ]
  },
  {
   "cell_type": "code",
   "execution_count": null,
   "id": "bbd95998-ea5c-4191-baea-37fe912cd7c3",
   "metadata": {},
   "outputs": [],
   "source": []
  },
  {
   "cell_type": "markdown",
   "id": "974c9bbc-da39-4516-8309-bf6501940626",
   "metadata": {},
   "source": [
    "### 1-D ndarray =-----> 2-D array"
   ]
  },
  {
   "cell_type": "code",
   "execution_count": null,
   "id": "4613b543-8346-4e8b-8cd0-3fdbc746f873",
   "metadata": {},
   "outputs": [],
   "source": []
  },
  {
   "cell_type": "code",
   "execution_count": 2,
   "id": "f7468f5b-9338-44c8-9332-b6f0a5ba0f14",
   "metadata": {},
   "outputs": [],
   "source": [
    "import numpy as np"
   ]
  },
  {
   "cell_type": "code",
   "execution_count": 4,
   "id": "3217fd93-d464-4586-b30e-1406fb6df86c",
   "metadata": {},
   "outputs": [],
   "source": [
    "arr = np.array([12, 34, 45, 56, 78, 45, 34, 56, 23])"
   ]
  },
  {
   "cell_type": "code",
   "execution_count": 5,
   "id": "c741f2f4-be25-40a3-9188-69340ca9e9a2",
   "metadata": {},
   "outputs": [
    {
     "data": {
      "text/plain": [
       "1"
      ]
     },
     "execution_count": 5,
     "metadata": {},
     "output_type": "execute_result"
    }
   ],
   "source": [
    "arr.ndim"
   ]
  },
  {
   "cell_type": "code",
   "execution_count": null,
   "id": "7d0631c7-0dc3-48ca-a208-640f145fe33c",
   "metadata": {},
   "outputs": [],
   "source": []
  },
  {
   "cell_type": "code",
   "execution_count": 6,
   "id": "0633f0b8-e014-4d34-b8d2-acbd6733449f",
   "metadata": {},
   "outputs": [],
   "source": [
    "# reshape()"
   ]
  },
  {
   "cell_type": "code",
   "execution_count": null,
   "id": "e2a96453-829d-4293-9269-26a75f6fafb3",
   "metadata": {},
   "outputs": [],
   "source": [
    "# np.reshape(objectname, shape)\n",
    "\n",
    "# objectname.reshaape(shape)"
   ]
  },
  {
   "cell_type": "code",
   "execution_count": 7,
   "id": "64845174-45a7-4edb-b215-e876b2c02275",
   "metadata": {},
   "outputs": [],
   "source": [
    "arr = np.array([12, 34, 45, 56, 78, 45, 34, 56, 23])"
   ]
  },
  {
   "cell_type": "code",
   "execution_count": 8,
   "id": "2c3e06c4-38b7-4e73-93fb-9d026878290e",
   "metadata": {},
   "outputs": [
    {
     "data": {
      "text/plain": [
       "array([[12, 34, 45],\n",
       "       [56, 78, 45],\n",
       "       [34, 56, 23]])"
      ]
     },
     "execution_count": 8,
     "metadata": {},
     "output_type": "execute_result"
    }
   ],
   "source": [
    "np.reshape(arr, (3, 3))"
   ]
  },
  {
   "cell_type": "code",
   "execution_count": null,
   "id": "77df9c3d-afb5-44fe-9618-b9dfa3111869",
   "metadata": {},
   "outputs": [],
   "source": []
  },
  {
   "cell_type": "code",
   "execution_count": 9,
   "id": "f8883283-10f5-484e-a525-585a9ddb4fb5",
   "metadata": {},
   "outputs": [],
   "source": [
    "arr = np.array([12, 34, 45, 56, 78, 45, 34, 56, 23])"
   ]
  },
  {
   "cell_type": "code",
   "execution_count": 10,
   "id": "6477f086-6f09-4bc4-ad8e-e1cbbe369372",
   "metadata": {},
   "outputs": [
    {
     "data": {
      "text/plain": [
       "array([[12, 34, 45, 56, 78, 45, 34, 56, 23]])"
      ]
     },
     "execution_count": 10,
     "metadata": {},
     "output_type": "execute_result"
    }
   ],
   "source": [
    "np.reshape(arr, (1, 9))"
   ]
  },
  {
   "cell_type": "code",
   "execution_count": 12,
   "id": "1337a740-c6c5-436f-926a-6203ed1ecc34",
   "metadata": {},
   "outputs": [],
   "source": [
    "qw = np.reshape(arr, (9, 1))"
   ]
  },
  {
   "cell_type": "code",
   "execution_count": 13,
   "id": "b78c50cc-5d30-45cd-afd5-05893cb88efc",
   "metadata": {},
   "outputs": [
    {
     "data": {
      "text/plain": [
       "2"
      ]
     },
     "execution_count": 13,
     "metadata": {},
     "output_type": "execute_result"
    }
   ],
   "source": [
    "qw.ndim"
   ]
  },
  {
   "cell_type": "code",
   "execution_count": 14,
   "id": "e286a2ac-1c79-43be-b751-fd4c4704a5a9",
   "metadata": {},
   "outputs": [
    {
     "data": {
      "text/plain": [
       "array([[12],\n",
       "       [34],\n",
       "       [45],\n",
       "       [56],\n",
       "       [78],\n",
       "       [45],\n",
       "       [34],\n",
       "       [56],\n",
       "       [23]])"
      ]
     },
     "execution_count": 14,
     "metadata": {},
     "output_type": "execute_result"
    }
   ],
   "source": [
    "qw"
   ]
  },
  {
   "cell_type": "code",
   "execution_count": null,
   "id": "9cfca433-442f-48da-a8de-94bfe8054fee",
   "metadata": {},
   "outputs": [],
   "source": []
  },
  {
   "cell_type": "markdown",
   "id": "589cf70b-84fa-4643-a12a-3e67bd9dc502",
   "metadata": {},
   "source": [
    "# 2d to 1D"
   ]
  },
  {
   "cell_type": "code",
   "execution_count": 16,
   "id": "f7ab87a5-2a6c-40b3-90fd-1e84b9c07e2d",
   "metadata": {},
   "outputs": [],
   "source": [
    "zx = np.array([[12, 34, 45, 67, 45, 23], [45, 56, 23, 56, 23, 23]])"
   ]
  },
  {
   "cell_type": "code",
   "execution_count": 17,
   "id": "f0f2d0ef-3cd3-41c7-8978-d242b55f20fb",
   "metadata": {},
   "outputs": [
    {
     "data": {
      "text/plain": [
       "array([[12, 34, 45, 67, 45, 23],\n",
       "       [45, 56, 23, 56, 23, 23]])"
      ]
     },
     "execution_count": 17,
     "metadata": {},
     "output_type": "execute_result"
    }
   ],
   "source": [
    "zx"
   ]
  },
  {
   "cell_type": "code",
   "execution_count": 18,
   "id": "488b64df-e06e-48f0-a494-8990bdbcb23c",
   "metadata": {},
   "outputs": [
    {
     "data": {
      "text/plain": [
       "2"
      ]
     },
     "execution_count": 18,
     "metadata": {},
     "output_type": "execute_result"
    }
   ],
   "source": [
    "zx.ndim"
   ]
  },
  {
   "cell_type": "code",
   "execution_count": 19,
   "id": "6433d98b-205d-4c9f-80d5-1e100218d1c6",
   "metadata": {},
   "outputs": [],
   "source": [
    "zx = np.array([[12, 34, 45, 67, 45, 23], [45, 56, 23, 56, 23, 23]])"
   ]
  },
  {
   "cell_type": "code",
   "execution_count": null,
   "id": "f91ab25e-74e4-4858-b0a8-603c0058e2be",
   "metadata": {},
   "outputs": [],
   "source": []
  },
  {
   "cell_type": "code",
   "execution_count": 20,
   "id": "3e375c3c-77f8-4ff8-add1-8b081eae8700",
   "metadata": {},
   "outputs": [
    {
     "data": {
      "text/plain": [
       "array([12, 34, 45, 67, 45, 23, 45, 56, 23, 56, 23, 23])"
      ]
     },
     "execution_count": 20,
     "metadata": {},
     "output_type": "execute_result"
    }
   ],
   "source": [
    "np.reshape(zx, (12))"
   ]
  },
  {
   "cell_type": "code",
   "execution_count": null,
   "id": "0bb3afec-5300-4f40-b46a-9094ea8b8d83",
   "metadata": {},
   "outputs": [],
   "source": []
  },
  {
   "cell_type": "code",
   "execution_count": 21,
   "id": "f56dd527-e301-4993-a8ab-383fda3479b9",
   "metadata": {},
   "outputs": [],
   "source": [
    "# -1"
   ]
  },
  {
   "cell_type": "code",
   "execution_count": null,
   "id": "ab00afe3-d051-4bb5-8dde-730bc90fef3e",
   "metadata": {},
   "outputs": [],
   "source": []
  },
  {
   "cell_type": "code",
   "execution_count": 22,
   "id": "2dfa7fd8-36ca-4974-b9f2-37e816aed0a1",
   "metadata": {},
   "outputs": [],
   "source": [
    "zx = np.array([[12, 34, 45, 67, 45, 23], [45, 56, 23, 56, 23, 23]])"
   ]
  },
  {
   "cell_type": "code",
   "execution_count": 23,
   "id": "9f15a8d3-83fe-4d74-a483-617d4e07dc74",
   "metadata": {},
   "outputs": [
    {
     "data": {
      "text/plain": [
       "array([[12, 34, 45, 67, 45, 23],\n",
       "       [45, 56, 23, 56, 23, 23]])"
      ]
     },
     "execution_count": 23,
     "metadata": {},
     "output_type": "execute_result"
    }
   ],
   "source": [
    "zx"
   ]
  },
  {
   "cell_type": "code",
   "execution_count": 24,
   "id": "76b93b68-8766-469a-a274-d6d69f813798",
   "metadata": {},
   "outputs": [
    {
     "data": {
      "text/plain": [
       "array([12, 34, 45, 67, 45, 23, 45, 56, 23, 56, 23, 23])"
      ]
     },
     "execution_count": 24,
     "metadata": {},
     "output_type": "execute_result"
    }
   ],
   "source": [
    "np.reshape(zx, -1)"
   ]
  },
  {
   "cell_type": "code",
   "execution_count": null,
   "id": "18b7a30a-eff4-4758-b540-249c8f73f547",
   "metadata": {},
   "outputs": [],
   "source": []
  },
  {
   "cell_type": "code",
   "execution_count": null,
   "id": "1c1164d3-e980-41f3-a757-4738d46af4f8",
   "metadata": {},
   "outputs": [],
   "source": []
  },
  {
   "cell_type": "code",
   "execution_count": 25,
   "id": "6f1839a0-31cf-4474-96ae-f867bcddfca4",
   "metadata": {},
   "outputs": [],
   "source": [
    "# 1-D to 2-D"
   ]
  },
  {
   "cell_type": "code",
   "execution_count": 33,
   "id": "e680d6de-15ea-4dc8-8329-98b859785a85",
   "metadata": {},
   "outputs": [],
   "source": [
    "arr = np.array([12, 34, 45, 56, 78, 45, 34, 56, 23, 34, 657, 45])"
   ]
  },
  {
   "cell_type": "code",
   "execution_count": null,
   "id": "f803f24c-9232-4034-ae45-af96a411e896",
   "metadata": {},
   "outputs": [],
   "source": []
  },
  {
   "cell_type": "code",
   "execution_count": 36,
   "id": "40add3cd-e962-474c-b02c-4b181370fa1e",
   "metadata": {},
   "outputs": [
    {
     "data": {
      "text/plain": [
       "array([[ 12,  34,  45,  56,  78,  45],\n",
       "       [ 34,  56,  23,  34, 657,  45]])"
      ]
     },
     "execution_count": 36,
     "metadata": {},
     "output_type": "execute_result"
    }
   ],
   "source": [
    "np.reshape(arr, (2, -1))"
   ]
  },
  {
   "cell_type": "code",
   "execution_count": null,
   "id": "c892f9fd-8d7c-4ba9-8daf-e1c30ad86a77",
   "metadata": {},
   "outputs": [],
   "source": []
  },
  {
   "cell_type": "code",
   "execution_count": null,
   "id": "f6924783-8827-4e2d-933c-4d49a4c6b082",
   "metadata": {},
   "outputs": [],
   "source": []
  },
  {
   "cell_type": "code",
   "execution_count": 37,
   "id": "6892c59c-0bb4-44f0-a0a1-42636fa7b0c0",
   "metadata": {},
   "outputs": [],
   "source": [
    "arr = np.array([12, 34, 45, 56, 78, 45, 34, 56, 23, 34, 657, 45])"
   ]
  },
  {
   "cell_type": "code",
   "execution_count": 40,
   "id": "069cced0-bbef-4d85-b196-dafb80712f62",
   "metadata": {},
   "outputs": [
    {
     "data": {
      "text/plain": [
       "array([[ 12,  34,  45,  56,  78,  45],\n",
       "       [ 34,  56,  23,  34, 657,  45]])"
      ]
     },
     "execution_count": 40,
     "metadata": {},
     "output_type": "execute_result"
    }
   ],
   "source": [
    "np.reshape(arr, (-1, 6))"
   ]
  },
  {
   "cell_type": "code",
   "execution_count": null,
   "id": "2fe4f88d-466b-4900-b493-df25c7cd63eb",
   "metadata": {},
   "outputs": [],
   "source": []
  },
  {
   "cell_type": "code",
   "execution_count": 41,
   "id": "ed357223-b4dd-4bf1-a0b7-0bb85d4f266a",
   "metadata": {},
   "outputs": [],
   "source": [
    "# 1-D to 3-D"
   ]
  },
  {
   "cell_type": "code",
   "execution_count": 42,
   "id": "6409f01a-e85f-435f-bb80-591c220c2a0e",
   "metadata": {},
   "outputs": [],
   "source": [
    "arr = np.array([12, 34, 45, 56, 78, 45, 34, 56, 23, 34, 657, 45])"
   ]
  },
  {
   "cell_type": "code",
   "execution_count": null,
   "id": "0ed68ee6-9479-43bd-a99e-36e5401630ae",
   "metadata": {},
   "outputs": [],
   "source": []
  },
  {
   "cell_type": "code",
   "execution_count": 43,
   "id": "d04409d6-2f6e-4e6e-b828-1f87ba16461f",
   "metadata": {},
   "outputs": [
    {
     "data": {
      "text/plain": [
       "array([[[ 12,  34,  45],\n",
       "        [ 56,  78,  45]],\n",
       "\n",
       "       [[ 34,  56,  23],\n",
       "        [ 34, 657,  45]]])"
      ]
     },
     "execution_count": 43,
     "metadata": {},
     "output_type": "execute_result"
    }
   ],
   "source": [
    "np.reshape(arr, (2, 2, 3))"
   ]
  },
  {
   "cell_type": "code",
   "execution_count": null,
   "id": "360aa18c-99c9-41a4-baa2-abf107444fbe",
   "metadata": {},
   "outputs": [],
   "source": []
  },
  {
   "cell_type": "code",
   "execution_count": 44,
   "id": "2a064533-a101-4446-9fce-b094028fe3fe",
   "metadata": {},
   "outputs": [],
   "source": [
    "zx = np.array([[[23, 45, 23], [45, 56, 34]], [[45, 56, 34], [45, 34, 23]]])"
   ]
  },
  {
   "cell_type": "code",
   "execution_count": 45,
   "id": "4a646930-66c3-45e1-a762-9159e1ad3396",
   "metadata": {},
   "outputs": [
    {
     "data": {
      "text/plain": [
       "array([[[23, 45, 23],\n",
       "        [45, 56, 34]],\n",
       "\n",
       "       [[45, 56, 34],\n",
       "        [45, 34, 23]]])"
      ]
     },
     "execution_count": 45,
     "metadata": {},
     "output_type": "execute_result"
    }
   ],
   "source": [
    "zx"
   ]
  },
  {
   "cell_type": "code",
   "execution_count": 47,
   "id": "f4776a59-303b-4218-8b1d-35c156b6acd6",
   "metadata": {},
   "outputs": [
    {
     "data": {
      "text/plain": [
       "3"
      ]
     },
     "execution_count": 47,
     "metadata": {},
     "output_type": "execute_result"
    }
   ],
   "source": [
    "zx.ndim"
   ]
  },
  {
   "cell_type": "code",
   "execution_count": 48,
   "id": "b5c1ce83-ddc9-4969-b087-49c9816c7217",
   "metadata": {},
   "outputs": [
    {
     "data": {
      "text/plain": [
       "array([23, 45, 23, 45, 56, 34, 45, 56, 34, 45, 34, 23])"
      ]
     },
     "execution_count": 48,
     "metadata": {},
     "output_type": "execute_result"
    }
   ],
   "source": [
    "np.reshape(zx, -1)"
   ]
  },
  {
   "cell_type": "code",
   "execution_count": null,
   "id": "2496e70a-deb4-4d7f-81a1-db9fe132c429",
   "metadata": {},
   "outputs": [],
   "source": []
  },
  {
   "cell_type": "code",
   "execution_count": null,
   "id": "ce77f321-b399-466c-80f5-f6ad154a4128",
   "metadata": {},
   "outputs": [],
   "source": []
  },
  {
   "cell_type": "code",
   "execution_count": 49,
   "id": "b5ad8843-0d6f-42be-be63-95bc910a45de",
   "metadata": {},
   "outputs": [],
   "source": [
    "# where()"
   ]
  },
  {
   "cell_type": "code",
   "execution_count": 50,
   "id": "ac2ef923-0af5-4c09-a821-37d99e6c6fea",
   "metadata": {},
   "outputs": [],
   "source": [
    "# sort()"
   ]
  },
  {
   "cell_type": "code",
   "execution_count": null,
   "id": "61dee05a-47e4-4199-8a2d-2ae6e706f876",
   "metadata": {},
   "outputs": [],
   "source": []
  },
  {
   "cell_type": "code",
   "execution_count": 51,
   "id": "45cdb2cc-7bdb-4691-942b-206bd8fa4369",
   "metadata": {},
   "outputs": [],
   "source": [
    "xyz = np.array([12, 34, 45, 5, 67, 45, 3, 45, 34])"
   ]
  },
  {
   "cell_type": "code",
   "execution_count": 53,
   "id": "2cc7ed37-d6cb-4a76-886c-bc2a46d2b4c2",
   "metadata": {},
   "outputs": [],
   "source": [
    "qw = np.sort(xyz)"
   ]
  },
  {
   "cell_type": "code",
   "execution_count": 54,
   "id": "04d64ec2-6b75-4f3b-b9f3-79599a318582",
   "metadata": {},
   "outputs": [
    {
     "data": {
      "text/plain": [
       "array([ 3,  5, 12, 34, 34, 45, 45, 45, 67])"
      ]
     },
     "execution_count": 54,
     "metadata": {},
     "output_type": "execute_result"
    }
   ],
   "source": [
    "qw"
   ]
  },
  {
   "cell_type": "code",
   "execution_count": 55,
   "id": "a85e30d5-cd5a-44bc-b84f-5910e1e76cc5",
   "metadata": {},
   "outputs": [
    {
     "data": {
      "text/plain": [
       "array([67, 45, 45, 45, 34, 34, 12,  5,  3])"
      ]
     },
     "execution_count": 55,
     "metadata": {},
     "output_type": "execute_result"
    }
   ],
   "source": [
    "qw[: : -1]"
   ]
  },
  {
   "cell_type": "code",
   "execution_count": null,
   "id": "3f4cecd5-1331-4636-8b8f-09d3bc9c43c3",
   "metadata": {},
   "outputs": [],
   "source": []
  },
  {
   "cell_type": "code",
   "execution_count": 56,
   "id": "517e2081-e8b1-4d83-a0c2-081c3f3ff40c",
   "metadata": {},
   "outputs": [],
   "source": [
    "# zeros()"
   ]
  },
  {
   "cell_type": "code",
   "execution_count": 63,
   "id": "08c93010-4c8c-4e9e-8804-6618c99ec198",
   "metadata": {},
   "outputs": [],
   "source": [
    "zx = np.zeros((5, 3, 4))"
   ]
  },
  {
   "cell_type": "code",
   "execution_count": 64,
   "id": "112f1080-a35a-4858-99d0-59d0b7d7f639",
   "metadata": {},
   "outputs": [
    {
     "data": {
      "text/plain": [
       "array([[[0., 0., 0., 0.],\n",
       "        [0., 0., 0., 0.],\n",
       "        [0., 0., 0., 0.]],\n",
       "\n",
       "       [[0., 0., 0., 0.],\n",
       "        [0., 0., 0., 0.],\n",
       "        [0., 0., 0., 0.]],\n",
       "\n",
       "       [[0., 0., 0., 0.],\n",
       "        [0., 0., 0., 0.],\n",
       "        [0., 0., 0., 0.]],\n",
       "\n",
       "       [[0., 0., 0., 0.],\n",
       "        [0., 0., 0., 0.],\n",
       "        [0., 0., 0., 0.]],\n",
       "\n",
       "       [[0., 0., 0., 0.],\n",
       "        [0., 0., 0., 0.],\n",
       "        [0., 0., 0., 0.]]])"
      ]
     },
     "execution_count": 64,
     "metadata": {},
     "output_type": "execute_result"
    }
   ],
   "source": [
    "zx"
   ]
  },
  {
   "cell_type": "code",
   "execution_count": null,
   "id": "61a9808c-fdf3-4e4b-9955-8cb17ead81ca",
   "metadata": {},
   "outputs": [],
   "source": []
  },
  {
   "cell_type": "code",
   "execution_count": null,
   "id": "76f9186e-329e-4a11-a10d-802c54957c12",
   "metadata": {},
   "outputs": [],
   "source": []
  },
  {
   "cell_type": "code",
   "execution_count": 65,
   "id": "dd3e2b47-b4f0-4b6f-9ca6-ec150b94181f",
   "metadata": {},
   "outputs": [],
   "source": [
    "pq = np.ones(3)"
   ]
  },
  {
   "cell_type": "code",
   "execution_count": 66,
   "id": "9c936cd3-d29e-4901-9407-8378be890fe0",
   "metadata": {},
   "outputs": [
    {
     "data": {
      "text/plain": [
       "array([1., 1., 1.])"
      ]
     },
     "execution_count": 66,
     "metadata": {},
     "output_type": "execute_result"
    }
   ],
   "source": [
    "pq"
   ]
  },
  {
   "cell_type": "code",
   "execution_count": null,
   "id": "32cc3f63-b4fc-49a5-a812-0056bb66aaf7",
   "metadata": {},
   "outputs": [],
   "source": []
  },
  {
   "cell_type": "code",
   "execution_count": null,
   "id": "efae5541-7ec1-4093-9076-d0ca6c8bba03",
   "metadata": {},
   "outputs": [],
   "source": [
    "np.eye"
   ]
  },
  {
   "cell_type": "code",
   "execution_count": null,
   "id": "6a514f5e-dca9-4e01-83b2-8994b2430df0",
   "metadata": {},
   "outputs": [],
   "source": []
  },
  {
   "cell_type": "code",
   "execution_count": 67,
   "id": "02ea2291-d037-44ac-92b2-84e0b8dd057f",
   "metadata": {},
   "outputs": [
    {
     "name": "stdout",
     "output_type": "stream",
     "text": [
      "Help on function eye in module numpy:\n",
      "\n",
      "eye(N, M=None, k=0, dtype=<class 'float'>, order='C', *, like=None)\n",
      "    Return a 2-D array with ones on the diagonal and zeros elsewhere.\n",
      "\n",
      "    Parameters\n",
      "    ----------\n",
      "    N : int\n",
      "      Number of rows in the output.\n",
      "    M : int, optional\n",
      "      Number of columns in the output. If None, defaults to `N`.\n",
      "    k : int, optional\n",
      "      Index of the diagonal: 0 (the default) refers to the main diagonal,\n",
      "      a positive value refers to an upper diagonal, and a negative value\n",
      "      to a lower diagonal.\n",
      "    dtype : data-type, optional\n",
      "      Data-type of the returned array.\n",
      "    order : {'C', 'F'}, optional\n",
      "        Whether the output should be stored in row-major (C-style) or\n",
      "        column-major (Fortran-style) order in memory.\n",
      "\n",
      "        .. versionadded:: 1.14.0\n",
      "    like : array_like, optional\n",
      "        Reference object to allow the creation of arrays which are not\n",
      "        NumPy arrays. If an array-like passed in as ``like`` supports\n",
      "        the ``__array_function__`` protocol, the result will be defined\n",
      "        by it. In this case, it ensures the creation of an array object\n",
      "        compatible with that passed in via this argument.\n",
      "\n",
      "        .. versionadded:: 1.20.0\n",
      "\n",
      "    Returns\n",
      "    -------\n",
      "    I : ndarray of shape (N,M)\n",
      "      An array where all elements are equal to zero, except for the `k`-th\n",
      "      diagonal, whose values are equal to one.\n",
      "\n",
      "    See Also\n",
      "    --------\n",
      "    identity : (almost) equivalent function\n",
      "    diag : diagonal 2-D array from a 1-D array specified by the user.\n",
      "\n",
      "    Examples\n",
      "    --------\n",
      "    >>> np.eye(2, dtype=int)\n",
      "    array([[1, 0],\n",
      "           [0, 1]])\n",
      "    >>> np.eye(3, k=1)\n",
      "    array([[0.,  1.,  0.],\n",
      "           [0.,  0.,  1.],\n",
      "           [0.,  0.,  0.]])\n",
      "\n"
     ]
    }
   ],
   "source": [
    "help(np.eye)"
   ]
  },
  {
   "cell_type": "code",
   "execution_count": null,
   "id": "c81bc608-6294-4e1c-8c39-3cf44a64386e",
   "metadata": {},
   "outputs": [],
   "source": []
  },
  {
   "cell_type": "code",
   "execution_count": 68,
   "id": "3c2cb08e-bb32-4e52-8a08-0e445891b036",
   "metadata": {},
   "outputs": [],
   "source": [
    "x = np.eye(3, 3)"
   ]
  },
  {
   "cell_type": "code",
   "execution_count": 69,
   "id": "5e89f45b-78a4-49ff-8790-a9c42f92d2f9",
   "metadata": {},
   "outputs": [
    {
     "data": {
      "text/plain": [
       "array([[1., 0., 0.],\n",
       "       [0., 1., 0.],\n",
       "       [0., 0., 1.]])"
      ]
     },
     "execution_count": 69,
     "metadata": {},
     "output_type": "execute_result"
    }
   ],
   "source": [
    "x"
   ]
  },
  {
   "cell_type": "code",
   "execution_count": null,
   "id": "3f3d64da-d6d5-4e35-b86f-50f8bc3d34f6",
   "metadata": {},
   "outputs": [],
   "source": []
  },
  {
   "cell_type": "code",
   "execution_count": 70,
   "id": "4a2557e7-6de8-4e52-8746-9c8633487295",
   "metadata": {},
   "outputs": [],
   "source": [
    "# combining ndarryas"
   ]
  },
  {
   "cell_type": "code",
   "execution_count": null,
   "id": "b0138060-80b2-4ce6-bced-517cbf80f749",
   "metadata": {},
   "outputs": [],
   "source": []
  },
  {
   "cell_type": "code",
   "execution_count": 72,
   "id": "7b8c1e01-9a27-473b-9e85-14974defe421",
   "metadata": {},
   "outputs": [],
   "source": [
    "x = np.array([12, 23, 4, 56])\n",
    "\n",
    "y = np.array([34, 56, 7, 45])"
   ]
  },
  {
   "cell_type": "code",
   "execution_count": null,
   "id": "f9fd4227-704b-47e0-8345-434c3838a367",
   "metadata": {},
   "outputs": [],
   "source": []
  },
  {
   "cell_type": "code",
   "execution_count": 73,
   "id": "d6691108-e7bc-4fbf-a8b8-33d2f1b14a56",
   "metadata": {},
   "outputs": [
    {
     "data": {
      "text/plain": [
       "array([ 46,  79,  11, 101])"
      ]
     },
     "execution_count": 73,
     "metadata": {},
     "output_type": "execute_result"
    }
   ],
   "source": [
    "x + y"
   ]
  },
  {
   "cell_type": "code",
   "execution_count": null,
   "id": "c4f6f866-fccc-41bf-96f6-faae7cf70796",
   "metadata": {},
   "outputs": [],
   "source": []
  },
  {
   "cell_type": "code",
   "execution_count": 78,
   "id": "4bdf36b5-40ec-43ed-ad74-eaa53565b7a5",
   "metadata": {},
   "outputs": [],
   "source": [
    "x = np.array([12, 23, 4, 56])\n",
    "\n",
    "y = np.array([34, 56, 7, 45, 45, 34, 2])"
   ]
  },
  {
   "cell_type": "code",
   "execution_count": 79,
   "id": "18825350-8d40-4289-a292-a966bd46c6dd",
   "metadata": {},
   "outputs": [],
   "source": [
    "# 1) concatenate\n",
    "# 2) vstack"
   ]
  },
  {
   "cell_type": "code",
   "execution_count": 80,
   "id": "7f2fa1ad-0338-40f1-a105-434d5ac72d22",
   "metadata": {},
   "outputs": [
    {
     "data": {
      "text/plain": [
       "array([12, 23,  4, 56, 34, 56,  7, 45, 45, 34,  2])"
      ]
     },
     "execution_count": 80,
     "metadata": {},
     "output_type": "execute_result"
    }
   ],
   "source": [
    "np.concatenate((x, y))"
   ]
  },
  {
   "cell_type": "code",
   "execution_count": null,
   "id": "ef02c14b-237d-466f-ba2c-25af3a02f3ca",
   "metadata": {},
   "outputs": [],
   "source": []
  },
  {
   "cell_type": "code",
   "execution_count": 81,
   "id": "6ed62d20-630c-4421-aa0b-4575939889a6",
   "metadata": {},
   "outputs": [],
   "source": [
    "x = np.array([12, 23, 4, 56])\n",
    "y = np.array([34, 56, 2, 3])"
   ]
  },
  {
   "cell_type": "code",
   "execution_count": null,
   "id": "e4498bf8-4e67-4134-9e44-68651b2041a7",
   "metadata": {},
   "outputs": [],
   "source": []
  },
  {
   "cell_type": "code",
   "execution_count": 82,
   "id": "7b6c0ae8-0655-4b8c-adbf-00428fdd6f55",
   "metadata": {},
   "outputs": [
    {
     "data": {
      "text/plain": [
       "array([[12, 23,  4, 56],\n",
       "       [34, 56,  2,  3]])"
      ]
     },
     "execution_count": 82,
     "metadata": {},
     "output_type": "execute_result"
    }
   ],
   "source": [
    "np.vstack((x, y))"
   ]
  },
  {
   "cell_type": "code",
   "execution_count": null,
   "id": "6943d9f6-ef3f-4f99-aa2c-e95f18bafda3",
   "metadata": {},
   "outputs": [],
   "source": []
  },
  {
   "cell_type": "code",
   "execution_count": null,
   "id": "9cfd377e-da3c-47be-b75c-dcf1f2247554",
   "metadata": {},
   "outputs": [],
   "source": [
    "sort()\n",
    "contactemate()\n",
    "vstack()\n",
    "eye()\n",
    "zeros()\n",
    "ones()"
   ]
  },
  {
   "cell_type": "code",
   "execution_count": null,
   "id": "42ed5a74-e23f-4fe5-b570-6ae7b850ab1b",
   "metadata": {},
   "outputs": [],
   "source": []
  },
  {
   "cell_type": "code",
   "execution_count": null,
   "id": "f692bebe-daeb-4188-89a1-804f1f82e67f",
   "metadata": {},
   "outputs": [],
   "source": [
    "# random"
   ]
  }
 ],
 "metadata": {
  "kernelspec": {
   "display_name": "Python 3 (ipykernel)",
   "language": "python",
   "name": "python3"
  },
  "language_info": {
   "codemirror_mode": {
    "name": "ipython",
    "version": 3
   },
   "file_extension": ".py",
   "mimetype": "text/x-python",
   "name": "python",
   "nbconvert_exporter": "python",
   "pygments_lexer": "ipython3",
   "version": "3.12.3"
  }
 },
 "nbformat": 4,
 "nbformat_minor": 5
}
