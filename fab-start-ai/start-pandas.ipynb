{
 "cells": [
  {
   "cell_type": "code",
   "execution_count": 1,
   "id": "822f28b4-f8a6-4f06-8c7f-b589f64037e1",
   "metadata": {},
   "outputs": [],
   "source": [
    "# Numpy: ------"
   ]
  },
  {
   "cell_type": "code",
   "execution_count": 2,
   "id": "78b981e7-e136-4ee3-b98e-6538a3313861",
   "metadata": {},
   "outputs": [],
   "source": [
    "# pandas"
   ]
  },
  {
   "cell_type": "code",
   "execution_count": null,
   "id": "77a31541-48a3-4c35-a49a-7f71671f82bc",
   "metadata": {},
   "outputs": [],
   "source": [
    "# Pandas : \n",
    "    1) Data Exploring\n",
    "    2) Data Cleaning\n",
    "    3) Data Manupluatiog\n",
    "    5) Data Analizing"
   ]
  },
  {
   "cell_type": "code",
   "execution_count": null,
   "id": "17a3d34f-c68a-4300-ad40-9ac8fa7085d9",
   "metadata": {},
   "outputs": [],
   "source": [
    "# Pandas <--------- numpy\n",
    "\n",
    "# 2005\n",
    "\n",
    "# 2008"
   ]
  },
  {
   "cell_type": "code",
   "execution_count": 3,
   "id": "3c5d28f8-5e04-4249-902c-a7c3b90aa1cb",
   "metadata": {},
   "outputs": [],
   "source": [
    "# sql, csv, excel, json...."
   ]
  },
  {
   "cell_type": "code",
   "execution_count": null,
   "id": "3c234527-6288-42e1-a324-76e03441cbad",
   "metadata": {},
   "outputs": [],
   "source": [
    "# pandas data structures:\n",
    "#     1) Series\n",
    "#     2) DataFrame"
   ]
  },
  {
   "cell_type": "code",
   "execution_count": null,
   "id": "ece2a533-84d6-4923-813d-9654819ea63d",
   "metadata": {},
   "outputs": [],
   "source": []
  },
  {
   "cell_type": "code",
   "execution_count": 4,
   "id": "725dc1cf-7b6c-4b7f-b377-3932c9fcb20b",
   "metadata": {},
   "outputs": [
    {
     "name": "stdout",
     "output_type": "stream",
     "text": [
      "Requirement already satisfied: pandas in c:\\users\\17nru\\appdata\\local\\programs\\python\\python312\\lib\\site-packages (2.1.3)\n",
      "Requirement already satisfied: numpy<2,>=1.26.0 in c:\\users\\17nru\\appdata\\local\\programs\\python\\python312\\lib\\site-packages (from pandas) (1.26.2)\n",
      "Requirement already satisfied: python-dateutil>=2.8.2 in c:\\users\\17nru\\appdata\\local\\programs\\python\\python312\\lib\\site-packages (from pandas) (2.8.2)\n",
      "Requirement already satisfied: pytz>=2020.1 in c:\\users\\17nru\\appdata\\local\\programs\\python\\python312\\lib\\site-packages (from pandas) (2023.3.post1)\n",
      "Requirement already satisfied: tzdata>=2022.1 in c:\\users\\17nru\\appdata\\local\\programs\\python\\python312\\lib\\site-packages (from pandas) (2023.3)\n",
      "Requirement already satisfied: six>=1.5 in c:\\users\\17nru\\appdata\\local\\programs\\python\\python312\\lib\\site-packages (from python-dateutil>=2.8.2->pandas) (1.16.0)\n"
     ]
    },
    {
     "name": "stderr",
     "output_type": "stream",
     "text": [
      "DEPRECATION: Loading egg at c:\\users\\17nru\\appdata\\local\\programs\\python\\python312\\lib\\site-packages\\darkflow-0.1.0-py3.12-win-amd64.egg is deprecated. pip 24.3 will enforce this behaviour change. A possible replacement is to use pip for package installation.. Discussion can be found at https://github.com/pypa/pip/issues/12330\n",
      "DEPRECATION: textract 1.6.5 has a non-standard dependency specifier extract-msg<=0.29.*. pip 24.1 will enforce this behaviour change. A possible replacement is to upgrade to a newer version of textract or contact the author to suggest that they release a version with a conforming dependency specifiers. Discussion can be found at https://github.com/pypa/pip/issues/12063\n"
     ]
    }
   ],
   "source": [
    "!pip install pandas"
   ]
  },
  {
   "cell_type": "code",
   "execution_count": null,
   "id": "788ba307-abc9-45fe-8993-aae70bf5baa6",
   "metadata": {},
   "outputs": [],
   "source": []
  },
  {
   "cell_type": "code",
   "execution_count": 5,
   "id": "83745710-c2e1-419b-ae22-d9a28dc22394",
   "metadata": {},
   "outputs": [],
   "source": [
    "import pandas as pd"
   ]
  },
  {
   "cell_type": "code",
   "execution_count": null,
   "id": "1f7b955b-9c25-4baf-8534-3f634272d1de",
   "metadata": {},
   "outputs": [],
   "source": []
  },
  {
   "cell_type": "code",
   "execution_count": 6,
   "id": "f7286aa9-e361-4d99-8df8-c14af353ae1b",
   "metadata": {},
   "outputs": [],
   "source": [
    "mydata = [\"car\", \"bus\",  \"train\", \"plan\"]"
   ]
  },
  {
   "cell_type": "code",
   "execution_count": 7,
   "id": "6c9aa8ef-bac2-46a3-8bdd-e5393ca91b3d",
   "metadata": {},
   "outputs": [
    {
     "data": {
      "text/plain": [
       "list"
      ]
     },
     "execution_count": 7,
     "metadata": {},
     "output_type": "execute_result"
    }
   ],
   "source": [
    "type(mydata)"
   ]
  },
  {
   "cell_type": "code",
   "execution_count": 12,
   "id": "12fae0c2-6ecc-4645-839f-5afbf2316a24",
   "metadata": {},
   "outputs": [],
   "source": [
    "x = pd.Series(mydata)"
   ]
  },
  {
   "cell_type": "code",
   "execution_count": 13,
   "id": "121a6df6-62f8-42e2-b6c4-05ebb82be37f",
   "metadata": {},
   "outputs": [
    {
     "data": {
      "text/plain": [
       "0      car\n",
       "1      bus\n",
       "2    train\n",
       "3     plan\n",
       "dtype: object"
      ]
     },
     "execution_count": 13,
     "metadata": {},
     "output_type": "execute_result"
    }
   ],
   "source": [
    "x"
   ]
  },
  {
   "cell_type": "code",
   "execution_count": null,
   "id": "48253be8-4426-4473-ad63-29403e5879d9",
   "metadata": {},
   "outputs": [],
   "source": []
  },
  {
   "cell_type": "code",
   "execution_count": 14,
   "id": "1e88c9fd-6ddf-4f29-8cfc-e5f04c26264d",
   "metadata": {},
   "outputs": [],
   "source": [
    "# change index number :\n",
    "\n",
    "x = pd.Series(mydata, index = [\"A\", \"B\", \"C\", \"D\"])"
   ]
  },
  {
   "cell_type": "code",
   "execution_count": 15,
   "id": "057df4c8-694b-42d9-ad2d-80e1a4781802",
   "metadata": {},
   "outputs": [
    {
     "data": {
      "text/plain": [
       "A      car\n",
       "B      bus\n",
       "C    train\n",
       "D     plan\n",
       "dtype: object"
      ]
     },
     "execution_count": 15,
     "metadata": {},
     "output_type": "execute_result"
    }
   ],
   "source": [
    "x"
   ]
  },
  {
   "cell_type": "code",
   "execution_count": 16,
   "id": "96e46ad0-c76b-4e32-a944-cc4a2d479753",
   "metadata": {},
   "outputs": [
    {
     "data": {
      "text/plain": [
       "'car'"
      ]
     },
     "execution_count": 16,
     "metadata": {},
     "output_type": "execute_result"
    }
   ],
   "source": [
    "x[\"A\"]"
   ]
  },
  {
   "cell_type": "code",
   "execution_count": 17,
   "id": "36aa184f-7a35-4c48-a090-f10ff90b109c",
   "metadata": {},
   "outputs": [
    {
     "data": {
      "text/plain": [
       "'train'"
      ]
     },
     "execution_count": 17,
     "metadata": {},
     "output_type": "execute_result"
    }
   ],
   "source": [
    "x[\"C\"]"
   ]
  },
  {
   "cell_type": "code",
   "execution_count": null,
   "id": "7f99d7e2-0142-4ca5-82f3-22e055761f20",
   "metadata": {},
   "outputs": [],
   "source": []
  },
  {
   "cell_type": "code",
   "execution_count": null,
   "id": "6eff147c-9933-4313-a138-0908628a8487",
   "metadata": {},
   "outputs": [],
   "source": []
  },
  {
   "cell_type": "code",
   "execution_count": 18,
   "id": "4d41c2fc-4692-47a6-b3f4-477ddc18d9ea",
   "metadata": {},
   "outputs": [],
   "source": [
    "# dataframe:"
   ]
  },
  {
   "cell_type": "code",
   "execution_count": null,
   "id": "2ceb3690-c263-4865-917e-b6e12259923f",
   "metadata": {},
   "outputs": [],
   "source": []
  },
  {
   "cell_type": "code",
   "execution_count": 20,
   "id": "fa23953f-dd50-4722-89dc-3c6687cbbfce",
   "metadata": {},
   "outputs": [],
   "source": [
    "data = {\n",
    "    \"Stu_Name\" : [\"Kriss\", \"moris\", \"Hlo\", \"Ayush\", \"Globel\"],\n",
    "    \"Stu_Age\" : [20, 34, 12, 34, 25]\n",
    "}"
   ]
  },
  {
   "cell_type": "code",
   "execution_count": null,
   "id": "5129d33d-422d-4e87-b6e2-a34b04fc5652",
   "metadata": {},
   "outputs": [],
   "source": []
  },
  {
   "cell_type": "code",
   "execution_count": 21,
   "id": "d91bd3c6-9cdf-4faa-81e7-1d53ae2c9f22",
   "metadata": {},
   "outputs": [],
   "source": [
    "mydata = pd.DataFrame(data)"
   ]
  },
  {
   "cell_type": "code",
   "execution_count": null,
   "id": "dd98b557-3504-437f-98a1-389c512c3d4d",
   "metadata": {},
   "outputs": [],
   "source": []
  },
  {
   "cell_type": "code",
   "execution_count": 22,
   "id": "2b66c473-4e56-4c01-b7d0-49344c0d2615",
   "metadata": {},
   "outputs": [
    {
     "data": {
      "text/html": [
       "<div>\n",
       "<style scoped>\n",
       "    .dataframe tbody tr th:only-of-type {\n",
       "        vertical-align: middle;\n",
       "    }\n",
       "\n",
       "    .dataframe tbody tr th {\n",
       "        vertical-align: top;\n",
       "    }\n",
       "\n",
       "    .dataframe thead th {\n",
       "        text-align: right;\n",
       "    }\n",
       "</style>\n",
       "<table border=\"1\" class=\"dataframe\">\n",
       "  <thead>\n",
       "    <tr style=\"text-align: right;\">\n",
       "      <th></th>\n",
       "      <th>Stu_Name</th>\n",
       "      <th>Stu_Age</th>\n",
       "    </tr>\n",
       "  </thead>\n",
       "  <tbody>\n",
       "    <tr>\n",
       "      <th>0</th>\n",
       "      <td>Kriss</td>\n",
       "      <td>20</td>\n",
       "    </tr>\n",
       "    <tr>\n",
       "      <th>1</th>\n",
       "      <td>moris</td>\n",
       "      <td>34</td>\n",
       "    </tr>\n",
       "    <tr>\n",
       "      <th>2</th>\n",
       "      <td>Hlo</td>\n",
       "      <td>12</td>\n",
       "    </tr>\n",
       "    <tr>\n",
       "      <th>3</th>\n",
       "      <td>Ayush</td>\n",
       "      <td>34</td>\n",
       "    </tr>\n",
       "    <tr>\n",
       "      <th>4</th>\n",
       "      <td>Globel</td>\n",
       "      <td>25</td>\n",
       "    </tr>\n",
       "  </tbody>\n",
       "</table>\n",
       "</div>"
      ],
      "text/plain": [
       "  Stu_Name  Stu_Age\n",
       "0    Kriss       20\n",
       "1    moris       34\n",
       "2      Hlo       12\n",
       "3    Ayush       34\n",
       "4   Globel       25"
      ]
     },
     "execution_count": 22,
     "metadata": {},
     "output_type": "execute_result"
    }
   ],
   "source": [
    "mydata"
   ]
  },
  {
   "cell_type": "code",
   "execution_count": null,
   "id": "e66b5d3e-827e-402a-95e1-b89197251c3a",
   "metadata": {},
   "outputs": [],
   "source": []
  },
  {
   "cell_type": "code",
   "execution_count": 23,
   "id": "268cd849-3cf8-4fa9-8e14-6017567c55ef",
   "metadata": {},
   "outputs": [
    {
     "data": {
      "text/plain": [
       "pandas.core.frame.DataFrame"
      ]
     },
     "execution_count": 23,
     "metadata": {},
     "output_type": "execute_result"
    }
   ],
   "source": [
    "type(mydata)"
   ]
  },
  {
   "cell_type": "code",
   "execution_count": null,
   "id": "e250d9cd-017c-48b0-a810-ca924de7f5f1",
   "metadata": {},
   "outputs": [],
   "source": []
  },
  {
   "cell_type": "code",
   "execution_count": null,
   "id": "ef13a253-7d80-4471-a4db-b8ae89e5c965",
   "metadata": {},
   "outputs": [],
   "source": []
  },
  {
   "cell_type": "code",
   "execution_count": 24,
   "id": "1f445fe6-7412-4bdd-a1ad-ca9e7b683d45",
   "metadata": {},
   "outputs": [
    {
     "data": {
      "text/html": [
       "<div>\n",
       "<style scoped>\n",
       "    .dataframe tbody tr th:only-of-type {\n",
       "        vertical-align: middle;\n",
       "    }\n",
       "\n",
       "    .dataframe tbody tr th {\n",
       "        vertical-align: top;\n",
       "    }\n",
       "\n",
       "    .dataframe thead th {\n",
       "        text-align: right;\n",
       "    }\n",
       "</style>\n",
       "<table border=\"1\" class=\"dataframe\">\n",
       "  <thead>\n",
       "    <tr style=\"text-align: right;\">\n",
       "      <th></th>\n",
       "      <th>Stu_Name</th>\n",
       "      <th>Stu_Age</th>\n",
       "    </tr>\n",
       "  </thead>\n",
       "  <tbody>\n",
       "    <tr>\n",
       "      <th>0</th>\n",
       "      <td>Kriss</td>\n",
       "      <td>20</td>\n",
       "    </tr>\n",
       "    <tr>\n",
       "      <th>1</th>\n",
       "      <td>moris</td>\n",
       "      <td>34</td>\n",
       "    </tr>\n",
       "    <tr>\n",
       "      <th>2</th>\n",
       "      <td>Hlo</td>\n",
       "      <td>12</td>\n",
       "    </tr>\n",
       "    <tr>\n",
       "      <th>3</th>\n",
       "      <td>Ayush</td>\n",
       "      <td>34</td>\n",
       "    </tr>\n",
       "    <tr>\n",
       "      <th>4</th>\n",
       "      <td>Globel</td>\n",
       "      <td>25</td>\n",
       "    </tr>\n",
       "  </tbody>\n",
       "</table>\n",
       "</div>"
      ],
      "text/plain": [
       "  Stu_Name  Stu_Age\n",
       "0    Kriss       20\n",
       "1    moris       34\n",
       "2      Hlo       12\n",
       "3    Ayush       34\n",
       "4   Globel       25"
      ]
     },
     "execution_count": 24,
     "metadata": {},
     "output_type": "execute_result"
    }
   ],
   "source": [
    "mydata"
   ]
  },
  {
   "cell_type": "code",
   "execution_count": null,
   "id": "4b746a43-0c5a-4126-bbe1-5446dc7abab8",
   "metadata": {},
   "outputs": [],
   "source": []
  },
  {
   "cell_type": "code",
   "execution_count": 25,
   "id": "0a469715-40a7-4dc8-b713-f03d1d7aacce",
   "metadata": {},
   "outputs": [],
   "source": [
    "# get column form a dataframe:"
   ]
  },
  {
   "cell_type": "code",
   "execution_count": 27,
   "id": "10509703-7a26-4108-96bc-f74e8800eceb",
   "metadata": {},
   "outputs": [],
   "source": [
    "zx = mydata[\"Stu_Name\"]"
   ]
  },
  {
   "cell_type": "code",
   "execution_count": 28,
   "id": "cc464edd-8aef-42d5-89fa-4435e1424cb8",
   "metadata": {},
   "outputs": [
    {
     "data": {
      "text/plain": [
       "pandas.core.series.Series"
      ]
     },
     "execution_count": 28,
     "metadata": {},
     "output_type": "execute_result"
    }
   ],
   "source": [
    "type(zx)"
   ]
  },
  {
   "cell_type": "code",
   "execution_count": 29,
   "id": "a3e5a733-7de7-4cba-9978-e8a5f16c430d",
   "metadata": {},
   "outputs": [
    {
     "data": {
      "text/plain": [
       "0     Kriss\n",
       "1     moris\n",
       "2       Hlo\n",
       "3     Ayush\n",
       "4    Globel\n",
       "Name: Stu_Name, dtype: object"
      ]
     },
     "execution_count": 29,
     "metadata": {},
     "output_type": "execute_result"
    }
   ],
   "source": [
    "zx"
   ]
  },
  {
   "cell_type": "code",
   "execution_count": null,
   "id": "abb99c1b-7efb-4066-96e0-6fa0b14795f5",
   "metadata": {},
   "outputs": [],
   "source": []
  }
 ],
 "metadata": {
  "kernelspec": {
   "display_name": "Python 3 (ipykernel)",
   "language": "python",
   "name": "python3"
  },
  "language_info": {
   "codemirror_mode": {
    "name": "ipython",
    "version": 3
   },
   "file_extension": ".py",
   "mimetype": "text/x-python",
   "name": "python",
   "nbconvert_exporter": "python",
   "pygments_lexer": "ipython3",
   "version": "3.12.0"
  }
 },
 "nbformat": 4,
 "nbformat_minor": 5
}
