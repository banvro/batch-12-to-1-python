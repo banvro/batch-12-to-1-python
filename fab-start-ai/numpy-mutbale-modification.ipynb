{
 "cells": [
  {
   "cell_type": "code",
   "execution_count": 1,
   "id": "ccdfd672-4c54-4c2f-9e98-22587f0541f1",
   "metadata": {},
   "outputs": [],
   "source": [
    "# numpy : \n"
   ]
  },
  {
   "cell_type": "code",
   "execution_count": 2,
   "id": "9ef2bff7-8381-454c-bcf5-e1ef707b730c",
   "metadata": {},
   "outputs": [],
   "source": [
    "import numpy as np"
   ]
  },
  {
   "cell_type": "code",
   "execution_count": null,
   "id": "16ffb84e-e0a9-4095-bd16-5babb91bcb8b",
   "metadata": {},
   "outputs": [],
   "source": []
  },
  {
   "cell_type": "code",
   "execution_count": 3,
   "id": "e5da71af-690a-4ad2-af5e-240e39646f0f",
   "metadata": {},
   "outputs": [],
   "source": [
    "# list:\n",
    "\n",
    "# 1) ordered\n",
    "# 2) allow duplicate values\n",
    "# 3) Mutable "
   ]
  },
  {
   "cell_type": "code",
   "execution_count": 5,
   "id": "78a1305f-7eac-4486-80c4-71ad3c0030b4",
   "metadata": {},
   "outputs": [],
   "source": [
    "zx = np.array([12, 34, 23, 100, 67, 100])"
   ]
  },
  {
   "cell_type": "code",
   "execution_count": null,
   "id": "e2e8dd18-9234-4481-9b47-306d5f4f9c1d",
   "metadata": {},
   "outputs": [],
   "source": []
  },
  {
   "cell_type": "code",
   "execution_count": 6,
   "id": "52c8a49f-e8ba-443e-a4d4-074342521fc2",
   "metadata": {},
   "outputs": [],
   "source": [
    "# lst = [1, 5, 2, 5, 8]\n"
   ]
  },
  {
   "cell_type": "code",
   "execution_count": 7,
   "id": "6a111976-ba2b-4e46-8746-6702ec4614c6",
   "metadata": {},
   "outputs": [],
   "source": [
    "lst.append(1000)"
   ]
  },
  {
   "cell_type": "code",
   "execution_count": 8,
   "id": "1c567873-44fd-433b-83e4-1c5b6bbacff6",
   "metadata": {},
   "outputs": [
    {
     "data": {
      "text/plain": [
       "[1, 5, 2, 5, 8, 1000]"
      ]
     },
     "execution_count": 8,
     "metadata": {},
     "output_type": "execute_result"
    }
   ],
   "source": [
    "lst"
   ]
  },
  {
   "cell_type": "code",
   "execution_count": null,
   "id": "a45b412a-4dd9-49af-80e2-f03f68256af2",
   "metadata": {},
   "outputs": [],
   "source": []
  },
  {
   "cell_type": "code",
   "execution_count": null,
   "id": "1cdbe092-9e25-4d90-8bf7-02efcac1f86b",
   "metadata": {},
   "outputs": [],
   "source": []
  },
  {
   "cell_type": "code",
   "execution_count": 9,
   "id": "07817dba-b2ba-4ab0-bd01-28b770684404",
   "metadata": {},
   "outputs": [],
   "source": [
    "zx = np.array([12, 34, 23, 100, 67, 100])"
   ]
  },
  {
   "cell_type": "code",
   "execution_count": 10,
   "id": "e0fd97a2-0233-4dd0-b843-7533597294ee",
   "metadata": {},
   "outputs": [],
   "source": [
    "# numpy.append(objectname, items)"
   ]
  },
  {
   "cell_type": "code",
   "execution_count": 11,
   "id": "3caa8e28-94a7-49f1-9d70-bad7a4b5d308",
   "metadata": {},
   "outputs": [
    {
     "data": {
      "text/plain": [
       "array([ 12,  34,  23, 100,  67, 100])"
      ]
     },
     "execution_count": 11,
     "metadata": {},
     "output_type": "execute_result"
    }
   ],
   "source": [
    "zx"
   ]
  },
  {
   "cell_type": "code",
   "execution_count": 12,
   "id": "54b038c2-abfc-4672-97a0-70f220562849",
   "metadata": {},
   "outputs": [
    {
     "data": {
      "text/plain": [
       "array([  12,   34,   23,  100,   67,  100, 2000])"
      ]
     },
     "execution_count": 12,
     "metadata": {},
     "output_type": "execute_result"
    }
   ],
   "source": [
    "np.append(zx, 2000)"
   ]
  },
  {
   "cell_type": "code",
   "execution_count": null,
   "id": "2b00f87d-c00c-48b0-b1b6-7547951e9eb9",
   "metadata": {},
   "outputs": [],
   "source": []
  },
  {
   "cell_type": "code",
   "execution_count": 13,
   "id": "3cb4c406-2b2e-4a3e-a3a0-5d2df32d4ca0",
   "metadata": {},
   "outputs": [],
   "source": [
    "zx = np.array([12, 34, 23, 100, 67, 100])"
   ]
  },
  {
   "cell_type": "code",
   "execution_count": 14,
   "id": "b690f8d2-9fd7-4f46-9aa4-7c3e0e3d9219",
   "metadata": {},
   "outputs": [
    {
     "data": {
      "text/plain": [
       "array([ 12,  34,  23, 100,  67, 100])"
      ]
     },
     "execution_count": 14,
     "metadata": {},
     "output_type": "execute_result"
    }
   ],
   "source": [
    "zx"
   ]
  },
  {
   "cell_type": "code",
   "execution_count": 15,
   "id": "e3042b4f-cad4-4bcc-9a02-6fe68506cb18",
   "metadata": {},
   "outputs": [],
   "source": [
    "lst = [12, 45, 23, 56, 100]"
   ]
  },
  {
   "cell_type": "code",
   "execution_count": 16,
   "id": "c11a2c90-502c-4372-9492-19d4e7e22932",
   "metadata": {},
   "outputs": [
    {
     "data": {
      "text/plain": [
       "array([ 12,  34,  23, 100,  67, 100,  12,  45,  23,  56, 100])"
      ]
     },
     "execution_count": 16,
     "metadata": {},
     "output_type": "execute_result"
    }
   ],
   "source": [
    "np.append(zx, lst)"
   ]
  },
  {
   "cell_type": "code",
   "execution_count": null,
   "id": "c4f1c7fd-866e-4b27-b32c-db83a789d4f5",
   "metadata": {},
   "outputs": [],
   "source": []
  },
  {
   "cell_type": "code",
   "execution_count": null,
   "id": "cd9f7b1d-6ff8-411a-af7c-b57b6da0f560",
   "metadata": {},
   "outputs": [],
   "source": []
  },
  {
   "cell_type": "markdown",
   "id": "9508eaa0-adfe-40dd-9401-57b293b73a7c",
   "metadata": {},
   "source": [
    "### replace elements//"
   ]
  },
  {
   "cell_type": "code",
   "execution_count": 17,
   "id": "22b01a0e-b5ee-4026-9845-bd6187b0c7bf",
   "metadata": {},
   "outputs": [],
   "source": [
    "x = np.array([45, 3230, 45, 2, 3, 1, 100, 4, 10, 67, 34])"
   ]
  },
  {
   "cell_type": "code",
   "execution_count": null,
   "id": "059e41bc-0b71-4850-9d6a-632a8b495471",
   "metadata": {},
   "outputs": [],
   "source": [
    "# objname[indexnumber] = newitem"
   ]
  },
  {
   "cell_type": "code",
   "execution_count": 18,
   "id": "cab56972-e891-43fd-a1a7-bde5b3fe7733",
   "metadata": {},
   "outputs": [],
   "source": [
    "x[1] = 32"
   ]
  },
  {
   "cell_type": "code",
   "execution_count": 19,
   "id": "86fc9cfa-8eec-43cc-9cff-db127b968af7",
   "metadata": {},
   "outputs": [
    {
     "data": {
      "text/plain": [
       "array([ 45,  32,  45,   2,   3,   1, 100,   4,  10,  67,  34])"
      ]
     },
     "execution_count": 19,
     "metadata": {},
     "output_type": "execute_result"
    }
   ],
   "source": [
    "x"
   ]
  },
  {
   "cell_type": "code",
   "execution_count": 20,
   "id": "c2697ee4-5d1d-4265-9b4a-a971a25cc065",
   "metadata": {},
   "outputs": [],
   "source": [
    "x[-2] = 1000"
   ]
  },
  {
   "cell_type": "code",
   "execution_count": 21,
   "id": "34645bed-0ca8-4489-81ae-155501dc6412",
   "metadata": {},
   "outputs": [
    {
     "data": {
      "text/plain": [
       "array([  45,   32,   45,    2,    3,    1,  100,    4,   10, 1000,   34])"
      ]
     },
     "execution_count": 21,
     "metadata": {},
     "output_type": "execute_result"
    }
   ],
   "source": [
    "x"
   ]
  },
  {
   "cell_type": "code",
   "execution_count": null,
   "id": "525c5360-686c-4ce4-9c05-32ae282588ac",
   "metadata": {},
   "outputs": [],
   "source": []
  },
  {
   "cell_type": "code",
   "execution_count": null,
   "id": "2e9e572c-52b4-4abb-a914-b3cffe679aa1",
   "metadata": {},
   "outputs": [],
   "source": []
  },
  {
   "cell_type": "code",
   "execution_count": 22,
   "id": "45fa627d-6c5f-43da-867d-3abe68502794",
   "metadata": {},
   "outputs": [],
   "source": [
    "qww = np.array([1, 2, 3, 4, 5, 6, 7, 8, 10])"
   ]
  },
  {
   "cell_type": "code",
   "execution_count": 23,
   "id": "dd693c40-f6d4-4bda-9140-8a2426b30ac4",
   "metadata": {},
   "outputs": [],
   "source": [
    "indexs = [1, 5, -2]"
   ]
  },
  {
   "cell_type": "code",
   "execution_count": 24,
   "id": "f1074c81-4f37-48fe-96b0-8e0d24a5868b",
   "metadata": {},
   "outputs": [],
   "source": [
    "ele = [100, 200, 300]"
   ]
  },
  {
   "cell_type": "code",
   "execution_count": 25,
   "id": "c1f3971a-7b2b-48a9-8d16-1b21a971e2f4",
   "metadata": {},
   "outputs": [],
   "source": [
    "qww[indexs] = ele"
   ]
  },
  {
   "cell_type": "code",
   "execution_count": 26,
   "id": "509e5cc8-8885-4a1c-959f-5633d6e66718",
   "metadata": {},
   "outputs": [
    {
     "data": {
      "text/plain": [
       "array([  1, 100,   3,   4,   5, 200,   7, 300,  10])"
      ]
     },
     "execution_count": 26,
     "metadata": {},
     "output_type": "execute_result"
    }
   ],
   "source": [
    "qww"
   ]
  },
  {
   "cell_type": "code",
   "execution_count": null,
   "id": "92cc85dc-fc9c-4d63-8905-e38b88d8becd",
   "metadata": {},
   "outputs": [],
   "source": []
  },
  {
   "cell_type": "code",
   "execution_count": null,
   "id": "aed85553-c632-4002-a957-79ac4ece9e2e",
   "metadata": {},
   "outputs": [],
   "source": []
  },
  {
   "cell_type": "code",
   "execution_count": 27,
   "id": "33dcc74f-c3a3-4f7e-abc9-2f402587e006",
   "metadata": {},
   "outputs": [],
   "source": [
    "# insert "
   ]
  },
  {
   "cell_type": "code",
   "execution_count": null,
   "id": "c57e5948-9152-4b7b-b98c-defb8bdaf131",
   "metadata": {},
   "outputs": [],
   "source": []
  },
  {
   "cell_type": "code",
   "execution_count": 28,
   "id": "53377d6f-1375-4c20-be66-d91ce3ce7d56",
   "metadata": {},
   "outputs": [],
   "source": [
    "lst = [1, 3, 4, 6, 10, 90, 4]"
   ]
  },
  {
   "cell_type": "code",
   "execution_count": 29,
   "id": "cffe0931-d028-4506-821c-018c5fff7a2d",
   "metadata": {},
   "outputs": [],
   "source": [
    "lst.append(20)"
   ]
  },
  {
   "cell_type": "code",
   "execution_count": 30,
   "id": "82780a9f-b555-44c0-b91f-4d125bd9bc6b",
   "metadata": {},
   "outputs": [
    {
     "data": {
      "text/plain": [
       "[1, 3, 4, 6, 10, 90, 4, 20]"
      ]
     },
     "execution_count": 30,
     "metadata": {},
     "output_type": "execute_result"
    }
   ],
   "source": [
    "lst"
   ]
  },
  {
   "cell_type": "code",
   "execution_count": null,
   "id": "dd42b7e9-8bfc-4ffe-a395-98eb6dfa370d",
   "metadata": {},
   "outputs": [],
   "source": []
  },
  {
   "cell_type": "code",
   "execution_count": 31,
   "id": "33003353-42ae-42b6-aa69-c64da8a8df79",
   "metadata": {},
   "outputs": [],
   "source": [
    "lst.insert(1, 200)"
   ]
  },
  {
   "cell_type": "code",
   "execution_count": 32,
   "id": "7574d7ec-fee9-40ec-8b6f-e5a965c04622",
   "metadata": {},
   "outputs": [
    {
     "data": {
      "text/plain": [
       "[1, 200, 3, 4, 6, 10, 90, 4, 20]"
      ]
     },
     "execution_count": 32,
     "metadata": {},
     "output_type": "execute_result"
    }
   ],
   "source": [
    "lst"
   ]
  },
  {
   "cell_type": "code",
   "execution_count": null,
   "id": "9467bd02-0a6f-4ccd-8d5a-85e9786f2bf6",
   "metadata": {},
   "outputs": [],
   "source": []
  },
  {
   "cell_type": "markdown",
   "id": "184e6497-b026-462f-bde9-5cadbae10051",
   "metadata": {},
   "source": [
    "### insert in numpy"
   ]
  },
  {
   "cell_type": "code",
   "execution_count": 33,
   "id": "c3f479c3-8ae1-4bca-adbf-60c3adf156df",
   "metadata": {},
   "outputs": [],
   "source": [
    "x = np.array([4, 3, 5, 2, 6, 8, 3, 10])"
   ]
  },
  {
   "cell_type": "code",
   "execution_count": 35,
   "id": "cc624d5a-77e2-4810-ab9c-091bed37cea0",
   "metadata": {},
   "outputs": [
    {
     "data": {
      "text/plain": [
       "array([  4,   3, 300,   5,   2,   6,   8,   3,  10])"
      ]
     },
     "execution_count": 35,
     "metadata": {},
     "output_type": "execute_result"
    }
   ],
   "source": [
    "np.insert(x, 2, 300)"
   ]
  },
  {
   "cell_type": "code",
   "execution_count": null,
   "id": "8c613a35-f712-475a-942d-c46b15f74ed1",
   "metadata": {},
   "outputs": [],
   "source": []
  },
  {
   "cell_type": "code",
   "execution_count": null,
   "id": "0e59eacb-1cb9-496e-9351-e1c609262cf8",
   "metadata": {},
   "outputs": [],
   "source": []
  },
  {
   "cell_type": "code",
   "execution_count": 37,
   "id": "1a0fd519-1171-4394-9900-f887f59af314",
   "metadata": {},
   "outputs": [],
   "source": [
    "# appned()\n",
    "# insert()\n",
    "\n",
    "# replacing elements:::::::"
   ]
  },
  {
   "cell_type": "code",
   "execution_count": null,
   "id": "11cbe43e-99df-4c4f-9e50-8610d756518c",
   "metadata": {},
   "outputs": [],
   "source": []
  },
  {
   "cell_type": "code",
   "execution_count": 38,
   "id": "0530ffc8-0a8b-4585-a49d-fa1c16ef880a",
   "metadata": {},
   "outputs": [],
   "source": [
    "# zx = ....."
   ]
  },
  {
   "cell_type": "code",
   "execution_count": 39,
   "id": "71da74f8-4ac9-4df7-927c-7cadfd180248",
   "metadata": {},
   "outputs": [],
   "source": [
    "# [1, 2, 3, 4, 5, 6, 7 ..... 50]"
   ]
  },
  {
   "cell_type": "code",
   "execution_count": null,
   "id": "e6ee5baa-74f1-4f6b-a11e-12a33a6e5aa4",
   "metadata": {},
   "outputs": [],
   "source": []
  },
  {
   "cell_type": "code",
   "execution_count": null,
   "id": "40be1d9b-013d-475d-8e86-bd26c61ff73e",
   "metadata": {},
   "outputs": [],
   "source": [
    "# [\"2 x 1 = 2\", \"2 x 2 = 4\", \"2 x 3 = 6\" .........]"
   ]
  },
  {
   "cell_type": "code",
   "execution_count": null,
   "id": "e7675722-17e1-4008-9f4c-3d1db9301b5c",
   "metadata": {},
   "outputs": [],
   "source": [
    "# import numpy as np"
   ]
  },
  {
   "cell_type": "code",
   "execution_count": 47,
   "id": "f42a42d2-5cfc-415f-b305-36920e8561ed",
   "metadata": {},
   "outputs": [],
   "source": [
    "xyz = np.array([])\n",
    "\n",
    "for i in range(1, 51):\n",
    "    xyz = np.append(xyz, i)"
   ]
  },
  {
   "cell_type": "code",
   "execution_count": null,
   "id": "8e6345ca-7b31-4ee7-9cee-11a23728d744",
   "metadata": {},
   "outputs": [],
   "source": []
  },
  {
   "cell_type": "code",
   "execution_count": 48,
   "id": "3f1030dd-1d5b-4c16-a21e-7274b8302a10",
   "metadata": {},
   "outputs": [
    {
     "data": {
      "text/plain": [
       "array([ 1.,  2.,  3.,  4.,  5.,  6.,  7.,  8.,  9., 10., 11., 12., 13.,\n",
       "       14., 15., 16., 17., 18., 19., 20., 21., 22., 23., 24., 25., 26.,\n",
       "       27., 28., 29., 30., 31., 32., 33., 34., 35., 36., 37., 38., 39.,\n",
       "       40., 41., 42., 43., 44., 45., 46., 47., 48., 49., 50.])"
      ]
     },
     "execution_count": 48,
     "metadata": {},
     "output_type": "execute_result"
    }
   ],
   "source": [
    "xyz"
   ]
  },
  {
   "cell_type": "code",
   "execution_count": null,
   "id": "44cb0fb8-8882-4b06-88e0-fa8576f6bffe",
   "metadata": {},
   "outputs": [],
   "source": []
  },
  {
   "cell_type": "code",
   "execution_count": null,
   "id": "07180f16-429e-4776-aaab-2240a799f1d0",
   "metadata": {},
   "outputs": [],
   "source": []
  },
  {
   "cell_type": "code",
   "execution_count": 49,
   "id": "820aaddc-e5d3-42b1-8c69-699f68acbfa5",
   "metadata": {},
   "outputs": [],
   "source": [
    "# [\"2 x 1 = 2\", \"2 x 2 = 4\", \"2 x 3 = 6\" .........]"
   ]
  },
  {
   "cell_type": "code",
   "execution_count": 54,
   "id": "fd3e751b-723b-493d-b4e3-69c7ad785638",
   "metadata": {},
   "outputs": [],
   "source": [
    "x = np.array([])\n",
    "\n",
    "for i in range(10, 0, -1):\n",
    "    # print(f\"2 x {i} = {2*i}\")\n",
    "    x = np.append(x, f\"2 x {i} = {2*i}\")"
   ]
  },
  {
   "cell_type": "code",
   "execution_count": 55,
   "id": "72eefb7b-2d88-49fe-b674-ee1bc7c09253",
   "metadata": {},
   "outputs": [
    {
     "data": {
      "text/plain": [
       "array(['2 x 10 = 20', '2 x 9 = 18', '2 x 8 = 16', '2 x 7 = 14',\n",
       "       '2 x 6 = 12', '2 x 5 = 10', '2 x 4 = 8', '2 x 3 = 6', '2 x 2 = 4',\n",
       "       '2 x 1 = 2'], dtype='<U32')"
      ]
     },
     "execution_count": 55,
     "metadata": {},
     "output_type": "execute_result"
    }
   ],
   "source": [
    "x"
   ]
  },
  {
   "cell_type": "code",
   "execution_count": null,
   "id": "6c30dcaa-2ce9-41d3-8a88-cc21f030774b",
   "metadata": {},
   "outputs": [],
   "source": []
  }
 ],
 "metadata": {
  "kernelspec": {
   "display_name": "Python 3 (ipykernel)",
   "language": "python",
   "name": "python3"
  },
  "language_info": {
   "codemirror_mode": {
    "name": "ipython",
    "version": 3
   },
   "file_extension": ".py",
   "mimetype": "text/x-python",
   "name": "python",
   "nbconvert_exporter": "python",
   "pygments_lexer": "ipython3",
   "version": "3.12.0"
  }
 },
 "nbformat": 4,
 "nbformat_minor": 5
}
