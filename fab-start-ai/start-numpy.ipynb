{
 "cells": [
  {
   "cell_type": "code",
   "execution_count": 1,
   "id": "feb3c537-9dcb-4615-a022-ae5f6c81154b",
   "metadata": {},
   "outputs": [],
   "source": [
    "# Numpy : \n",
    "\n",
    "# numpy\n",
    "# pandas\n",
    "# matplotlib"
   ]
  },
  {
   "cell_type": "code",
   "execution_count": null,
   "id": "6ca358e8-416f-43fb-9f3d-124875f3fea9",
   "metadata": {},
   "outputs": [],
   "source": []
  },
  {
   "cell_type": "code",
   "execution_count": 2,
   "id": "accf3c18-ab28-402c-8145-f7cd93d8066f",
   "metadata": {},
   "outputs": [],
   "source": [
    "# Numpy : numarical python...\n",
    "\n",
    "# arrays\n",
    "\n",
    "# array ------ list "
   ]
  },
  {
   "cell_type": "code",
   "execution_count": 3,
   "id": "98cf3d7c-b7ce-416c-a738-d144819eacc3",
   "metadata": {},
   "outputs": [],
   "source": [
    "zx = [12, 100, 78, 45, 9000]"
   ]
  },
  {
   "cell_type": "code",
   "execution_count": 4,
   "id": "77579165-8498-4767-9811-2c79f45f493a",
   "metadata": {},
   "outputs": [],
   "source": [
    "# list   vs   tuple "
   ]
  },
  {
   "cell_type": "code",
   "execution_count": 5,
   "id": "f854bf6c-db10-4571-a0be-4ced539286a6",
   "metadata": {},
   "outputs": [],
   "source": [
    "# numpy ------>"
   ]
  },
  {
   "cell_type": "code",
   "execution_count": 6,
   "id": "f5f0dfe2-f9c6-4396-b580-7f53cfdba721",
   "metadata": {},
   "outputs": [],
   "source": [
    "lst = [10, 45, \"heloo\", True, 100.8]"
   ]
  },
  {
   "cell_type": "code",
   "execution_count": 7,
   "id": "45e34d61-3990-46c9-88e1-e7ebdc4b53c9",
   "metadata": {},
   "outputs": [
    {
     "data": {
      "text/plain": [
       "list"
      ]
     },
     "execution_count": 7,
     "metadata": {},
     "output_type": "execute_result"
    }
   ],
   "source": [
    "type(lst)"
   ]
  },
  {
   "cell_type": "code",
   "execution_count": null,
   "id": "83df3532-1982-4cf1-bede-2482e7a52d5c",
   "metadata": {},
   "outputs": [],
   "source": []
  },
  {
   "cell_type": "code",
   "execution_count": 8,
   "id": "8dd8964d-05ec-41e7-a104-58d244abc2f1",
   "metadata": {},
   "outputs": [],
   "source": [
    "# numpy \n",
    "\n",
    "# zx = [10, 45, 23, 100, 67]\n",
    "\n",
    "# 50x"
   ]
  },
  {
   "cell_type": "code",
   "execution_count": 9,
   "id": "14b36e09-1e5d-4f58-8d6d-30ce180c643d",
   "metadata": {},
   "outputs": [],
   "source": [
    "# numpy : \n",
    "\n",
    "# 70% python\n",
    "# 30% c/ c++"
   ]
  },
  {
   "cell_type": "code",
   "execution_count": null,
   "id": "63dae00f-4dce-47c8-8dbb-f060590ca867",
   "metadata": {},
   "outputs": [],
   "source": []
  },
  {
   "cell_type": "code",
   "execution_count": 10,
   "id": "f3592c43-f2f4-436b-88ce-e65b2242a728",
   "metadata": {},
   "outputs": [
    {
     "name": "stdout",
     "output_type": "stream",
     "text": [
      "Requirement already satisfied: numpy in c:\\users\\17nru\\appdata\\local\\programs\\python\\python312\\lib\\site-packages (1.26.2)\n"
     ]
    },
    {
     "name": "stderr",
     "output_type": "stream",
     "text": [
      "DEPRECATION: textract 1.6.5 has a non-standard dependency specifier extract-msg<=0.29.*. pip 24.1 will enforce this behaviour change. A possible replacement is to upgrade to a newer version of textract or contact the author to suggest that they release a version with a conforming dependency specifiers. Discussion can be found at https://github.com/pypa/pip/issues/12063\n"
     ]
    }
   ],
   "source": [
    "!pip install numpy"
   ]
  },
  {
   "cell_type": "code",
   "execution_count": null,
   "id": "060062a0-ed4b-4332-9cd7-78427dec7feb",
   "metadata": {},
   "outputs": [],
   "source": []
  },
  {
   "cell_type": "code",
   "execution_count": 13,
   "id": "d6d3e0e1-246b-4070-895f-839ecbc96b93",
   "metadata": {},
   "outputs": [],
   "source": [
    "import numpy as np"
   ]
  },
  {
   "cell_type": "code",
   "execution_count": null,
   "id": "2e7f1023-36b3-4ff8-9aa4-13b465d4473d",
   "metadata": {},
   "outputs": [],
   "source": []
  },
  {
   "cell_type": "markdown",
   "id": "cf3f7d11-a742-4803-94b5-af54dec0f647",
   "metadata": {},
   "source": [
    "## ndarrays"
   ]
  },
  {
   "cell_type": "code",
   "execution_count": null,
   "id": "c9a9ac95-302a-4858-bcab-179b8aefcf51",
   "metadata": {},
   "outputs": [],
   "source": [
    "ndarrays : n dimatioanl arrayy\n",
    "\n",
    "ndarrays : while in numpy we craete an object with the help of array method, that object is called ndarray..."
   ]
  },
  {
   "cell_type": "code",
   "execution_count": null,
   "id": "2a458a7a-c1f9-49e3-bfc3-735bffa78adc",
   "metadata": {},
   "outputs": [],
   "source": []
  },
  {
   "cell_type": "code",
   "execution_count": 19,
   "id": "703a120c-70db-4ae5-82e2-8b50cac59141",
   "metadata": {},
   "outputs": [],
   "source": [
    "ar = np.array(100)"
   ]
  },
  {
   "cell_type": "code",
   "execution_count": 15,
   "id": "fb316a9a-38f0-404c-b749-5c12c04a77f6",
   "metadata": {},
   "outputs": [
    {
     "data": {
      "text/plain": [
       "array(100)"
      ]
     },
     "execution_count": 15,
     "metadata": {},
     "output_type": "execute_result"
    }
   ],
   "source": [
    "ar"
   ]
  },
  {
   "cell_type": "code",
   "execution_count": 16,
   "id": "ffdbdb46-a378-4349-b1fa-b49f1dfaf089",
   "metadata": {},
   "outputs": [
    {
     "data": {
      "text/plain": [
       "numpy.ndarray"
      ]
     },
     "execution_count": 16,
     "metadata": {},
     "output_type": "execute_result"
    }
   ],
   "source": [
    "type(ar)"
   ]
  },
  {
   "cell_type": "code",
   "execution_count": 17,
   "id": "5b03dd69-29a0-4720-b465-9319f1afcab0",
   "metadata": {},
   "outputs": [],
   "source": [
    "\n",
    "a = 10"
   ]
  },
  {
   "cell_type": "code",
   "execution_count": 18,
   "id": "931b2291-6928-4907-965c-a333810edc1c",
   "metadata": {},
   "outputs": [
    {
     "data": {
      "text/plain": [
       "int"
      ]
     },
     "execution_count": 18,
     "metadata": {},
     "output_type": "execute_result"
    }
   ],
   "source": [
    "type(a)"
   ]
  },
  {
   "cell_type": "code",
   "execution_count": null,
   "id": "f8b6bfbc-f23a-42eb-9f15-5f95ccc49512",
   "metadata": {},
   "outputs": [],
   "source": []
  },
  {
   "cell_type": "code",
   "execution_count": 20,
   "id": "a879ec31-586f-4b24-9fa4-8c373d9bb439",
   "metadata": {},
   "outputs": [],
   "source": [
    "# arrays : "
   ]
  },
  {
   "cell_type": "code",
   "execution_count": 21,
   "id": "3d0ec354-5c1e-43eb-a743-07894ae2f152",
   "metadata": {},
   "outputs": [],
   "source": [
    "ar = np.array(100)"
   ]
  },
  {
   "cell_type": "code",
   "execution_count": null,
   "id": "4c6235a0-630e-4321-9d39-626853e200cb",
   "metadata": {},
   "outputs": [],
   "source": []
  },
  {
   "cell_type": "markdown",
   "id": "696d83b9-38ee-4800-b1a1-53bf63cbc476",
   "metadata": {},
   "source": [
    "###  ndim : to check the dimmensions of an ndarray"
   ]
  },
  {
   "cell_type": "code",
   "execution_count": 22,
   "id": "2901de7a-221f-4b9b-86e7-91d11eef9b2e",
   "metadata": {},
   "outputs": [
    {
     "data": {
      "text/plain": [
       "0"
      ]
     },
     "execution_count": 22,
     "metadata": {},
     "output_type": "execute_result"
    }
   ],
   "source": [
    "# objename.ndim\n",
    "\n",
    "\n",
    "ar.ndim"
   ]
  },
  {
   "cell_type": "code",
   "execution_count": null,
   "id": "003c332c-8718-4edd-b09f-286dc629eeda",
   "metadata": {},
   "outputs": [],
   "source": []
  },
  {
   "cell_type": "code",
   "execution_count": 23,
   "id": "41712d5f-af66-4ec4-8cff-445a720b3e27",
   "metadata": {},
   "outputs": [],
   "source": [
    "xyz = np.array([12, 10, 78, 100])"
   ]
  },
  {
   "cell_type": "code",
   "execution_count": 24,
   "id": "fbb4629a-bc3b-4932-9d6c-919956e56f10",
   "metadata": {},
   "outputs": [
    {
     "data": {
      "text/plain": [
       "array([ 12,  10,  78, 100])"
      ]
     },
     "execution_count": 24,
     "metadata": {},
     "output_type": "execute_result"
    }
   ],
   "source": [
    "xyz"
   ]
  },
  {
   "cell_type": "code",
   "execution_count": 25,
   "id": "cd184803-21ce-425c-9713-83e9302490dc",
   "metadata": {},
   "outputs": [
    {
     "data": {
      "text/plain": [
       "1"
      ]
     },
     "execution_count": 25,
     "metadata": {},
     "output_type": "execute_result"
    }
   ],
   "source": [
    "xyz.ndim"
   ]
  },
  {
   "cell_type": "markdown",
   "id": "c725ea0b-1bd8-489c-9690-4918874a1114",
   "metadata": {},
   "source": [
    "## crate 2d ndarray"
   ]
  },
  {
   "cell_type": "code",
   "execution_count": 30,
   "id": "dbae3f34-36f1-4807-8671-a96e5c154176",
   "metadata": {},
   "outputs": [],
   "source": [
    "arr2 = np.array([[12, 10, 90, 100], [34, 100, 56, 23]])"
   ]
  },
  {
   "cell_type": "code",
   "execution_count": 31,
   "id": "a0b9a32c-4368-4549-8473-0b19d5f6b114",
   "metadata": {},
   "outputs": [
    {
     "data": {
      "text/plain": [
       "array([[ 12,  10,  90, 100],\n",
       "       [ 34, 100,  56,  23]])"
      ]
     },
     "execution_count": 31,
     "metadata": {},
     "output_type": "execute_result"
    }
   ],
   "source": [
    "arr2"
   ]
  },
  {
   "cell_type": "code",
   "execution_count": 32,
   "id": "ea6319a3-6ec6-41de-bdb6-85f64d2207ed",
   "metadata": {},
   "outputs": [
    {
     "data": {
      "text/plain": [
       "2"
      ]
     },
     "execution_count": 32,
     "metadata": {},
     "output_type": "execute_result"
    }
   ],
   "source": [
    "arr2.ndim"
   ]
  },
  {
   "cell_type": "code",
   "execution_count": null,
   "id": "6c0c5eb3-f06f-459c-88c5-3948ab458528",
   "metadata": {},
   "outputs": [],
   "source": []
  },
  {
   "cell_type": "code",
   "execution_count": 36,
   "id": "95438d7b-79c0-47b7-beba-873900cad8d2",
   "metadata": {},
   "outputs": [],
   "source": [
    "pqr = np.array([[12, 45, 23, 100, 90], [45, 23, 12, 56, 23], [45, 34, 23, 56, 23]])"
   ]
  },
  {
   "cell_type": "code",
   "execution_count": 37,
   "id": "bea4d8ba-3cc4-4b94-b83c-b47b00a083d2",
   "metadata": {},
   "outputs": [
    {
     "data": {
      "text/plain": [
       "array([[ 12,  45,  23, 100,  90],\n",
       "       [ 45,  23,  12,  56,  23],\n",
       "       [ 45,  34,  23,  56,  23]])"
      ]
     },
     "execution_count": 37,
     "metadata": {},
     "output_type": "execute_result"
    }
   ],
   "source": [
    "pqr"
   ]
  },
  {
   "cell_type": "code",
   "execution_count": 38,
   "id": "884768ff-d5eb-45ce-8b48-e449eea22f99",
   "metadata": {},
   "outputs": [
    {
     "data": {
      "text/plain": [
       "2"
      ]
     },
     "execution_count": 38,
     "metadata": {},
     "output_type": "execute_result"
    }
   ],
   "source": [
    "pqr.ndim"
   ]
  },
  {
   "cell_type": "code",
   "execution_count": null,
   "id": "22dcb799-11ac-4a73-824b-a8a223b31ff5",
   "metadata": {},
   "outputs": [],
   "source": []
  },
  {
   "cell_type": "code",
   "execution_count": null,
   "id": "9dcce54b-0158-4b86-b3d9-74de53a0b4b1",
   "metadata": {},
   "outputs": [],
   "source": [
    "array() --> to genrate ndarrays\n",
    "\n",
    "attribues:\n",
    "    ndim ---> return dimmesions of an ndarray\n",
    "    "
   ]
  },
  {
   "cell_type": "code",
   "execution_count": null,
   "id": "8e5182b6-5212-4b8e-8bee-12d89a1aa52c",
   "metadata": {},
   "outputs": [],
   "source": []
  },
  {
   "cell_type": "markdown",
   "id": "393f9f57-f29a-46d8-ae90-3b284c1dac66",
   "metadata": {},
   "source": [
    "### shape :::: it return the shape of an ndarray ...\n",
    "### return number of rows and number of columns..."
   ]
  },
  {
   "cell_type": "code",
   "execution_count": null,
   "id": "8ff71b02-90b1-4055-a225-72893a09a668",
   "metadata": {},
   "outputs": [],
   "source": []
  },
  {
   "cell_type": "code",
   "execution_count": 39,
   "id": "9f984b14-41b6-46de-be41-fc128e2e475c",
   "metadata": {},
   "outputs": [],
   "source": [
    "pqr = np.array([[12, 45, 23, 100, 90], [45, 23, 12, 56, 23], [45, 34, 23, 56, 23]])"
   ]
  },
  {
   "cell_type": "code",
   "execution_count": 40,
   "id": "e76f2f14-993e-4f9d-bb3c-c2bf3146e674",
   "metadata": {},
   "outputs": [
    {
     "data": {
      "text/plain": [
       "array([[ 12,  45,  23, 100,  90],\n",
       "       [ 45,  23,  12,  56,  23],\n",
       "       [ 45,  34,  23,  56,  23]])"
      ]
     },
     "execution_count": 40,
     "metadata": {},
     "output_type": "execute_result"
    }
   ],
   "source": [
    "pqr"
   ]
  },
  {
   "cell_type": "code",
   "execution_count": 41,
   "id": "1e4fc869-f0ff-4109-82bf-af828fadce12",
   "metadata": {},
   "outputs": [
    {
     "data": {
      "text/plain": [
       "(3, 5)"
      ]
     },
     "execution_count": 41,
     "metadata": {},
     "output_type": "execute_result"
    }
   ],
   "source": [
    "pqr.shape"
   ]
  },
  {
   "cell_type": "code",
   "execution_count": null,
   "id": "79454b54-36a6-4b45-aba3-7d4e61dff4b7",
   "metadata": {},
   "outputs": [],
   "source": []
  },
  {
   "cell_type": "code",
   "execution_count": null,
   "id": "2cb4e06c-86a0-4ced-940c-b5be18d22266",
   "metadata": {},
   "outputs": [],
   "source": []
  },
  {
   "cell_type": "code",
   "execution_count": 44,
   "id": "b41d4131-4b64-43ad-b332-b119054019f1",
   "metadata": {},
   "outputs": [],
   "source": [
    "qw = np.array([34, 23, 100, 45])"
   ]
  },
  {
   "cell_type": "code",
   "execution_count": 45,
   "id": "06c4b01d-8ef3-4e7d-b8fe-3a3b37839708",
   "metadata": {},
   "outputs": [
    {
     "data": {
      "text/plain": [
       "(4,)"
      ]
     },
     "execution_count": 45,
     "metadata": {},
     "output_type": "execute_result"
    }
   ],
   "source": [
    "qw.shape"
   ]
  },
  {
   "cell_type": "code",
   "execution_count": null,
   "id": "10b0d813-8713-4d90-8197-b5efd1a005c5",
   "metadata": {},
   "outputs": [],
   "source": []
  },
  {
   "cell_type": "code",
   "execution_count": null,
   "id": "7b6ebb3f-da25-4e4f-af36-1f2c983cc140",
   "metadata": {},
   "outputs": [],
   "source": [
    "array() --> to genrate ndarrays\n",
    "\n",
    "attribues:\n",
    "    ndim ---> return dimmesions of an ndarray\n",
    "    shape ---> it retunns number of rows and number of colmnss"
   ]
  },
  {
   "cell_type": "code",
   "execution_count": null,
   "id": "b26ae517-277c-4ddd-9ef0-4b32849be7da",
   "metadata": {},
   "outputs": [],
   "source": []
  },
  {
   "cell_type": "markdown",
   "id": "8c02263b-78f8-4a57-8fb7-460b6c84fb66",
   "metadata": {},
   "source": [
    "### create 3d ndarray :::::::::::::::"
   ]
  },
  {
   "cell_type": "code",
   "execution_count": null,
   "id": "2c5628ae-d178-405b-9281-5de293723e93",
   "metadata": {},
   "outputs": [],
   "source": []
  },
  {
   "cell_type": "code",
   "execution_count": 54,
   "id": "c410d62c-a183-4031-9a71-fcd95ded0a5f",
   "metadata": {},
   "outputs": [],
   "source": [
    "arrx = np.array([[[12, 56, 34], [45, 56, 34]], [[45, 34, 23], [45, 23, 10]]])"
   ]
  },
  {
   "cell_type": "code",
   "execution_count": 55,
   "id": "476fcc75-ad72-4751-9aa9-38ab53696c95",
   "metadata": {},
   "outputs": [
    {
     "data": {
      "text/plain": [
       "array([[[12, 56, 34],\n",
       "        [45, 56, 34]],\n",
       "\n",
       "       [[45, 34, 23],\n",
       "        [45, 23, 10]]])"
      ]
     },
     "execution_count": 55,
     "metadata": {},
     "output_type": "execute_result"
    }
   ],
   "source": [
    "arrx"
   ]
  },
  {
   "cell_type": "code",
   "execution_count": 56,
   "id": "1673b8ae-02a4-4efc-94c5-efc816c89d47",
   "metadata": {},
   "outputs": [
    {
     "data": {
      "text/plain": [
       "3"
      ]
     },
     "execution_count": 56,
     "metadata": {},
     "output_type": "execute_result"
    }
   ],
   "source": [
    "arrx.ndim"
   ]
  },
  {
   "cell_type": "code",
   "execution_count": 57,
   "id": "a052df06-3c3b-450a-a5b5-3608abdcadba",
   "metadata": {},
   "outputs": [
    {
     "data": {
      "text/plain": [
       "(2, 2, 3)"
      ]
     },
     "execution_count": 57,
     "metadata": {},
     "output_type": "execute_result"
    }
   ],
   "source": [
    "arrx.shape"
   ]
  },
  {
   "cell_type": "code",
   "execution_count": null,
   "id": "f02dd325-d85f-4ab3-a1da-0be6249dd18f",
   "metadata": {},
   "outputs": [],
   "source": []
  }
 ],
 "metadata": {
  "kernelspec": {
   "display_name": "Python 3 (ipykernel)",
   "language": "python",
   "name": "python3"
  },
  "language_info": {
   "codemirror_mode": {
    "name": "ipython",
    "version": 3
   },
   "file_extension": ".py",
   "mimetype": "text/x-python",
   "name": "python",
   "nbconvert_exporter": "python",
   "pygments_lexer": "ipython3",
   "version": "3.12.0"
  }
 },
 "nbformat": 4,
 "nbformat_minor": 5
}
