{
 "cells": [
  {
   "cell_type": "code",
   "execution_count": 1,
   "id": "29237f79-e544-48e6-bd80-7988702e965e",
   "metadata": {},
   "outputs": [],
   "source": [
    "# Numpy:"
   ]
  },
  {
   "cell_type": "code",
   "execution_count": 2,
   "id": "6ec9d109-43b7-4720-9d29-c908d097a599",
   "metadata": {},
   "outputs": [],
   "source": [
    "import numpy as np"
   ]
  },
  {
   "cell_type": "code",
   "execution_count": 7,
   "id": "67534d95-2fc3-4955-b9bb-e8b7e86f6a8c",
   "metadata": {},
   "outputs": [],
   "source": [
    "# append() : -> joining two ndarrays"
   ]
  },
  {
   "cell_type": "code",
   "execution_count": 8,
   "id": "80452ddb-c0c9-4622-8b7c-97a2e2279cc5",
   "metadata": {},
   "outputs": [],
   "source": [
    "x = np.array([12, 45, 56, 67, 23, 100])"
   ]
  },
  {
   "cell_type": "code",
   "execution_count": 9,
   "id": "9801375f-dd79-4ad3-8ee0-fa9a89f5337d",
   "metadata": {},
   "outputs": [],
   "source": [
    "y = np.array([45, 67, 3, 56, 23, 100])"
   ]
  },
  {
   "cell_type": "code",
   "execution_count": 10,
   "id": "d53ec117-7b29-4020-ac22-4738cde1e744",
   "metadata": {},
   "outputs": [
    {
     "data": {
      "text/plain": [
       "array([ 12,  45,  56,  67,  23, 100,  45,  67,   3,  56,  23, 100])"
      ]
     },
     "execution_count": 10,
     "metadata": {},
     "output_type": "execute_result"
    }
   ],
   "source": [
    "np.append(x, y)"
   ]
  },
  {
   "cell_type": "code",
   "execution_count": 11,
   "id": "5e5b9509-01b3-4ac2-81dc-c303e3a931be",
   "metadata": {},
   "outputs": [],
   "source": [
    "# "
   ]
  },
  {
   "cell_type": "code",
   "execution_count": 12,
   "id": "c7f5eb45-4eb9-4ee7-8ede-619b6013baed",
   "metadata": {},
   "outputs": [],
   "source": [
    "# trim_zeros()"
   ]
  },
  {
   "cell_type": "code",
   "execution_count": null,
   "id": "58457a62-d536-45b6-9158-a479f2857bde",
   "metadata": {},
   "outputs": [],
   "source": []
  },
  {
   "cell_type": "code",
   "execution_count": 13,
   "id": "c654504d-912e-4799-ba46-118ce775e99d",
   "metadata": {},
   "outputs": [],
   "source": [
    "zx = np.array([0, 0, 56, 78, 45, 0, 67, 0, 23, 1, 0, 0, 0])"
   ]
  },
  {
   "cell_type": "code",
   "execution_count": 14,
   "id": "69d0f0ae-88fd-47ce-a853-e9591e64b007",
   "metadata": {},
   "outputs": [
    {
     "data": {
      "text/plain": [
       "array([56, 78, 45,  0, 67,  0, 23,  1])"
      ]
     },
     "execution_count": 14,
     "metadata": {},
     "output_type": "execute_result"
    }
   ],
   "source": [
    "np.trim_zeros(zx)"
   ]
  },
  {
   "cell_type": "code",
   "execution_count": null,
   "id": "8f21eeec-e6d8-4c7c-b955-9dbc93751e5d",
   "metadata": {},
   "outputs": [],
   "source": []
  },
  {
   "cell_type": "code",
   "execution_count": 15,
   "id": "7f18ecf8-899c-4ed6-80e7-6a2b2c01f70e",
   "metadata": {},
   "outputs": [],
   "source": [
    "# unique()"
   ]
  },
  {
   "cell_type": "code",
   "execution_count": null,
   "id": "95a79edd-b87e-4fdb-8252-98bfd3f5b1f2",
   "metadata": {},
   "outputs": [],
   "source": []
  },
  {
   "cell_type": "code",
   "execution_count": 16,
   "id": "dfb2d234-2538-482c-a205-1c8cbbe2d097",
   "metadata": {},
   "outputs": [],
   "source": [
    "x = np.array([12, 34, 45, 23, 12, 23, 45, 23, 56, 78, 34, 12, 34, 23, 100])"
   ]
  },
  {
   "cell_type": "code",
   "execution_count": null,
   "id": "720162f5-18dd-45b7-adec-358c5a6e3baa",
   "metadata": {},
   "outputs": [],
   "source": []
  },
  {
   "cell_type": "code",
   "execution_count": 17,
   "id": "5aa6911b-00bd-4789-911f-758f2d6ec810",
   "metadata": {},
   "outputs": [
    {
     "data": {
      "text/plain": [
       "array([ 12,  23,  34,  45,  56,  78, 100])"
      ]
     },
     "execution_count": 17,
     "metadata": {},
     "output_type": "execute_result"
    }
   ],
   "source": [
    "np.unique(x)"
   ]
  },
  {
   "cell_type": "code",
   "execution_count": null,
   "id": "5ba112c2-1b28-4bc6-af55-7f2f5b317468",
   "metadata": {},
   "outputs": [],
   "source": []
  },
  {
   "cell_type": "code",
   "execution_count": null,
   "id": "8c0f1e9b-fcfc-41a6-8913-e3535ec5b745",
   "metadata": {},
   "outputs": [],
   "source": []
  },
  {
   "cell_type": "code",
   "execution_count": 18,
   "id": "108f8466-fb14-42f2-ab2c-3674a88210ff",
   "metadata": {},
   "outputs": [],
   "source": [
    "# st = {12, 34, 45, 23, 12, 23, 45, 23, 56, 78, 34, 12, 34, 23, 100}"
   ]
  },
  {
   "cell_type": "code",
   "execution_count": 20,
   "id": "9480cdba-4560-49c2-a7fc-f89e9e9fad83",
   "metadata": {},
   "outputs": [],
   "source": [
    "# st"
   ]
  },
  {
   "cell_type": "code",
   "execution_count": null,
   "id": "58ca41ce-f0cc-4e6a-b62b-0fb9abbf64b9",
   "metadata": {},
   "outputs": [],
   "source": []
  },
  {
   "cell_type": "code",
   "execution_count": 21,
   "id": "bd0ec653-5603-410f-a939-a66ea4a51f4f",
   "metadata": {},
   "outputs": [],
   "source": [
    "# zeros()"
   ]
  },
  {
   "cell_type": "code",
   "execution_count": 25,
   "id": "3102ca05-53a5-46da-ae6e-c0e6767d3e0f",
   "metadata": {},
   "outputs": [],
   "source": [
    "data = np.zeros((3, 4))"
   ]
  },
  {
   "cell_type": "code",
   "execution_count": 26,
   "id": "1bbac75b-612e-45c4-98c3-005b4e4f08e6",
   "metadata": {},
   "outputs": [
    {
     "data": {
      "text/plain": [
       "array([[0., 0., 0., 0.],\n",
       "       [0., 0., 0., 0.],\n",
       "       [0., 0., 0., 0.]])"
      ]
     },
     "execution_count": 26,
     "metadata": {},
     "output_type": "execute_result"
    }
   ],
   "source": [
    "data"
   ]
  },
  {
   "cell_type": "code",
   "execution_count": null,
   "id": "d2e44051-9b03-4f59-944d-c6400c27b05c",
   "metadata": {},
   "outputs": [],
   "source": []
  },
  {
   "cell_type": "code",
   "execution_count": 27,
   "id": "2c7c5135-dac3-4e4a-b0c8-3b31c816b1fa",
   "metadata": {},
   "outputs": [],
   "source": [
    "# ones()"
   ]
  },
  {
   "cell_type": "code",
   "execution_count": 30,
   "id": "21436da0-ba71-41a7-9eab-6f97b5f06a6b",
   "metadata": {},
   "outputs": [],
   "source": [
    "xyz = np.ones((5, 7))"
   ]
  },
  {
   "cell_type": "code",
   "execution_count": 31,
   "id": "2cfddc00-3851-4e4e-8e08-93cda6790e22",
   "metadata": {},
   "outputs": [
    {
     "data": {
      "text/plain": [
       "array([[1., 1., 1., 1., 1., 1., 1.],\n",
       "       [1., 1., 1., 1., 1., 1., 1.],\n",
       "       [1., 1., 1., 1., 1., 1., 1.],\n",
       "       [1., 1., 1., 1., 1., 1., 1.],\n",
       "       [1., 1., 1., 1., 1., 1., 1.]])"
      ]
     },
     "execution_count": 31,
     "metadata": {},
     "output_type": "execute_result"
    }
   ],
   "source": [
    "xyz"
   ]
  },
  {
   "cell_type": "code",
   "execution_count": null,
   "id": "bb4bfdff-a6fa-4184-b756-ab073c67967b",
   "metadata": {},
   "outputs": [],
   "source": []
  },
  {
   "cell_type": "code",
   "execution_count": 32,
   "id": "7e167243-7053-43e6-a2ab-313a5ecbdf5d",
   "metadata": {},
   "outputs": [
    {
     "name": "stdout",
     "output_type": "stream",
     "text": [
      "Help on _ArrayFunctionDispatcher in module numpy:\n",
      "\n",
      "diagonal(a, offset=0, axis1=0, axis2=1)\n",
      "    Return specified diagonals.\n",
      "\n",
      "    If `a` is 2-D, returns the diagonal of `a` with the given offset,\n",
      "    i.e., the collection of elements of the form ``a[i, i+offset]``.  If\n",
      "    `a` has more than two dimensions, then the axes specified by `axis1`\n",
      "    and `axis2` are used to determine the 2-D sub-array whose diagonal is\n",
      "    returned.  The shape of the resulting array can be determined by\n",
      "    removing `axis1` and `axis2` and appending an index to the right equal\n",
      "    to the size of the resulting diagonals.\n",
      "\n",
      "    In versions of NumPy prior to 1.7, this function always returned a new,\n",
      "    independent array containing a copy of the values in the diagonal.\n",
      "\n",
      "    In NumPy 1.7 and 1.8, it continues to return a copy of the diagonal,\n",
      "    but depending on this fact is deprecated. Writing to the resulting\n",
      "    array continues to work as it used to, but a FutureWarning is issued.\n",
      "\n",
      "    Starting in NumPy 1.9 it returns a read-only view on the original array.\n",
      "    Attempting to write to the resulting array will produce an error.\n",
      "\n",
      "    In some future release, it will return a read/write view and writing to\n",
      "    the returned array will alter your original array.  The returned array\n",
      "    will have the same type as the input array.\n",
      "\n",
      "    If you don't write to the array returned by this function, then you can\n",
      "    just ignore all of the above.\n",
      "\n",
      "    If you depend on the current behavior, then we suggest copying the\n",
      "    returned array explicitly, i.e., use ``np.diagonal(a).copy()`` instead\n",
      "    of just ``np.diagonal(a)``. This will work with both past and future\n",
      "    versions of NumPy.\n",
      "\n",
      "    Parameters\n",
      "    ----------\n",
      "    a : array_like\n",
      "        Array from which the diagonals are taken.\n",
      "    offset : int, optional\n",
      "        Offset of the diagonal from the main diagonal.  Can be positive or\n",
      "        negative.  Defaults to main diagonal (0).\n",
      "    axis1 : int, optional\n",
      "        Axis to be used as the first axis of the 2-D sub-arrays from which\n",
      "        the diagonals should be taken.  Defaults to first axis (0).\n",
      "    axis2 : int, optional\n",
      "        Axis to be used as the second axis of the 2-D sub-arrays from\n",
      "        which the diagonals should be taken. Defaults to second axis (1).\n",
      "\n",
      "    Returns\n",
      "    -------\n",
      "    array_of_diagonals : ndarray\n",
      "        If `a` is 2-D, then a 1-D array containing the diagonal and of the\n",
      "        same type as `a` is returned unless `a` is a `matrix`, in which case\n",
      "        a 1-D array rather than a (2-D) `matrix` is returned in order to\n",
      "        maintain backward compatibility.\n",
      "\n",
      "        If ``a.ndim > 2``, then the dimensions specified by `axis1` and `axis2`\n",
      "        are removed, and a new axis inserted at the end corresponding to the\n",
      "        diagonal.\n",
      "\n",
      "    Raises\n",
      "    ------\n",
      "    ValueError\n",
      "        If the dimension of `a` is less than 2.\n",
      "\n",
      "    See Also\n",
      "    --------\n",
      "    diag : MATLAB work-a-like for 1-D and 2-D arrays.\n",
      "    diagflat : Create diagonal arrays.\n",
      "    trace : Sum along diagonals.\n",
      "\n",
      "    Examples\n",
      "    --------\n",
      "    >>> a = np.arange(4).reshape(2,2)\n",
      "    >>> a\n",
      "    array([[0, 1],\n",
      "           [2, 3]])\n",
      "    >>> a.diagonal()\n",
      "    array([0, 3])\n",
      "    >>> a.diagonal(1)\n",
      "    array([1])\n",
      "\n",
      "    A 3-D example:\n",
      "\n",
      "    >>> a = np.arange(8).reshape(2,2,2); a\n",
      "    array([[[0, 1],\n",
      "            [2, 3]],\n",
      "           [[4, 5],\n",
      "            [6, 7]]])\n",
      "    >>> a.diagonal(0,  # Main diagonals of two arrays created by skipping\n",
      "    ...            0,  # across the outer(left)-most axis last and\n",
      "    ...            1)  # the \"middle\" (row) axis first.\n",
      "    array([[0, 6],\n",
      "           [1, 7]])\n",
      "\n",
      "    The sub-arrays whose main diagonals we just obtained; note that each\n",
      "    corresponds to fixing the right-most (column) axis, and that the\n",
      "    diagonals are \"packed\" in rows.\n",
      "\n",
      "    >>> a[:,:,0]  # main diagonal is [0 6]\n",
      "    array([[0, 2],\n",
      "           [4, 6]])\n",
      "    >>> a[:,:,1]  # main diagonal is [1 7]\n",
      "    array([[1, 3],\n",
      "           [5, 7]])\n",
      "\n",
      "    The anti-diagonal can be obtained by reversing the order of elements\n",
      "    using either `numpy.flipud` or `numpy.fliplr`.\n",
      "\n",
      "    >>> a = np.arange(9).reshape(3, 3)\n",
      "    >>> a\n",
      "    array([[0, 1, 2],\n",
      "           [3, 4, 5],\n",
      "           [6, 7, 8]])\n",
      "    >>> np.fliplr(a).diagonal()  # Horizontal flip\n",
      "    array([2, 4, 6])\n",
      "    >>> np.flipud(a).diagonal()  # Vertical flip\n",
      "    array([6, 4, 2])\n",
      "\n",
      "    Note that the order in which the diagonal is retrieved varies depending\n",
      "    on the flip function.\n",
      "\n"
     ]
    }
   ],
   "source": [
    "help(np.diagonal)"
   ]
  },
  {
   "cell_type": "code",
   "execution_count": 35,
   "id": "6cbe2480-6eca-42e0-8fbb-1a6fd89ca7f9",
   "metadata": {},
   "outputs": [
    {
     "ename": "ValueError",
     "evalue": "diag requires an array of at least two dimensions",
     "output_type": "error",
     "traceback": [
      "\u001b[1;31m---------------------------------------------------------------------------\u001b[0m",
      "\u001b[1;31mValueError\u001b[0m                                Traceback (most recent call last)",
      "Cell \u001b[1;32mIn[35], line 1\u001b[0m\n\u001b[1;32m----> 1\u001b[0m \u001b[43mnp\u001b[49m\u001b[38;5;241;43m.\u001b[39;49m\u001b[43mdiagonal\u001b[49m\u001b[43m(\u001b[49m\u001b[38;5;241;43m3\u001b[39;49m\u001b[43m,\u001b[49m\u001b[43m \u001b[49m\u001b[38;5;241;43m3\u001b[39;49m\u001b[43m,\u001b[49m\u001b[43m \u001b[49m\u001b[38;5;241;43m3\u001b[39;49m\u001b[43m)\u001b[49m\n",
      "File \u001b[1;32m~\\AppData\\Local\\Programs\\Python\\Python312\\Lib\\site-packages\\numpy\\core\\fromnumeric.py:1692\u001b[0m, in \u001b[0;36mdiagonal\u001b[1;34m(a, offset, axis1, axis2)\u001b[0m\n\u001b[0;32m   1690\u001b[0m     \u001b[38;5;28;01mreturn\u001b[39;00m asarray(a)\u001b[38;5;241m.\u001b[39mdiagonal(offset\u001b[38;5;241m=\u001b[39moffset, axis1\u001b[38;5;241m=\u001b[39maxis1, axis2\u001b[38;5;241m=\u001b[39maxis2)\n\u001b[0;32m   1691\u001b[0m \u001b[38;5;28;01melse\u001b[39;00m:\n\u001b[1;32m-> 1692\u001b[0m     \u001b[38;5;28;01mreturn\u001b[39;00m \u001b[43masanyarray\u001b[49m\u001b[43m(\u001b[49m\u001b[43ma\u001b[49m\u001b[43m)\u001b[49m\u001b[38;5;241;43m.\u001b[39;49m\u001b[43mdiagonal\u001b[49m\u001b[43m(\u001b[49m\u001b[43moffset\u001b[49m\u001b[38;5;241;43m=\u001b[39;49m\u001b[43moffset\u001b[49m\u001b[43m,\u001b[49m\u001b[43m \u001b[49m\u001b[43maxis1\u001b[49m\u001b[38;5;241;43m=\u001b[39;49m\u001b[43maxis1\u001b[49m\u001b[43m,\u001b[49m\u001b[43m \u001b[49m\u001b[43maxis2\u001b[49m\u001b[38;5;241;43m=\u001b[39;49m\u001b[43maxis2\u001b[49m\u001b[43m)\u001b[49m\n",
      "\u001b[1;31mValueError\u001b[0m: diag requires an array of at least two dimensions"
     ]
    }
   ],
   "source": [
    "np.diagonal()"
   ]
  },
  {
   "cell_type": "code",
   "execution_count": null,
   "id": "c664bb7c-1c26-4c35-9cf6-c0d42a0df423",
   "metadata": {},
   "outputs": [],
   "source": []
  },
  {
   "cell_type": "code",
   "execution_count": 39,
   "id": "7d399864-ee44-4555-9456-48d2eeb04fc3",
   "metadata": {},
   "outputs": [],
   "source": [
    "x = np.array([[34, 54, 12], [56, 34, 23], [56, 34, 23]])"
   ]
  },
  {
   "cell_type": "code",
   "execution_count": 40,
   "id": "36e22a5e-00a4-42c6-bfcf-84ba301dfbc1",
   "metadata": {},
   "outputs": [
    {
     "data": {
      "text/plain": [
       "array([[34, 54, 12],\n",
       "       [56, 34, 23],\n",
       "       [56, 34, 23]])"
      ]
     },
     "execution_count": 40,
     "metadata": {},
     "output_type": "execute_result"
    }
   ],
   "source": [
    "x"
   ]
  },
  {
   "cell_type": "code",
   "execution_count": 41,
   "id": "f0541a14-f6d7-4520-a707-31ed3bd9e057",
   "metadata": {},
   "outputs": [
    {
     "data": {
      "text/plain": [
       "array([34, 34, 23])"
      ]
     },
     "execution_count": 41,
     "metadata": {},
     "output_type": "execute_result"
    }
   ],
   "source": [
    "x.diagonal()"
   ]
  },
  {
   "cell_type": "code",
   "execution_count": null,
   "id": "01ae8af8-759b-43a7-8be2-2358e2de69b8",
   "metadata": {},
   "outputs": [],
   "source": []
  },
  {
   "cell_type": "code",
   "execution_count": null,
   "id": "8d41e24d-d9d4-4b03-abf7-5968de4a4c1c",
   "metadata": {},
   "outputs": [],
   "source": []
  },
  {
   "cell_type": "code",
   "execution_count": null,
   "id": "5481eff3-642b-4d9a-bb06-e7313b6f38bc",
   "metadata": {},
   "outputs": [],
   "source": []
  },
  {
   "cell_type": "code",
   "execution_count": null,
   "id": "a6a44376-6317-43c1-9a4a-ee27c3133542",
   "metadata": {},
   "outputs": [],
   "source": [
    "questions:\n",
    "\n",
    "1) x = 8129308927002394092340900070394\n",
    "\n",
    "ex:\n",
    "x = 10210201101\n",
    "\n",
    "output:\n",
    "totle number of zeros :4\n",
    "the sum of 1, 2, 1, 2, 1, 1, 1 is : 9"
   ]
  },
  {
   "cell_type": "code",
   "execution_count": null,
   "id": "80961263-9e03-44bb-b895-6bb725ffa2f6",
   "metadata": {},
   "outputs": [],
   "source": [
    "x = 5\n",
    "output: 543212345\n",
    "\n",
    "x = 6\n",
    "65432123456\n",
    "\n",
    "x = 3\n",
    "32123"
   ]
  }
 ],
 "metadata": {
  "kernelspec": {
   "display_name": "Python 3 (ipykernel)",
   "language": "python",
   "name": "python3"
  },
  "language_info": {
   "codemirror_mode": {
    "name": "ipython",
    "version": 3
   },
   "file_extension": ".py",
   "mimetype": "text/x-python",
   "name": "python",
   "nbconvert_exporter": "python",
   "pygments_lexer": "ipython3",
   "version": "3.12.0"
  }
 },
 "nbformat": 4,
 "nbformat_minor": 5
}
