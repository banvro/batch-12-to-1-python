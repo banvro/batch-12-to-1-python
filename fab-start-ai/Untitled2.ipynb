{
 "cells": [
  {
   "cell_type": "code",
   "execution_count": 1,
   "id": "33d63c6b-5239-463c-8ff2-010cab1c9e9f",
   "metadata": {},
   "outputs": [],
   "source": [
    "# Multiple Linear regression..........."
   ]
  },
  {
   "cell_type": "code",
   "execution_count": null,
   "id": "517f7d2a-4a09-4d36-b8a3-bcea5565fdf8",
   "metadata": {},
   "outputs": [],
   "source": []
  }
 ],
 "metadata": {
  "kernelspec": {
   "display_name": "Python 3 (ipykernel)",
   "language": "python",
   "name": "python3"
  },
  "language_info": {
   "codemirror_mode": {
    "name": "ipython",
    "version": 3
   },
   "file_extension": ".py",
   "mimetype": "text/x-python",
   "name": "python",
   "nbconvert_exporter": "python",
   "pygments_lexer": "ipython3",
   "version": "3.12.2"
  }
 },
 "nbformat": 4,
 "nbformat_minor": 5
}
