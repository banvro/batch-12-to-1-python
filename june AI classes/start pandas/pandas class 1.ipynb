{
 "cells": [
  {
   "cell_type": "code",
   "execution_count": null,
   "id": "4ebe96f8-bfb9-4c03-b5eb-d739b33f4e7d",
   "metadata": {},
   "outputs": [],
   "source": [
    "# Pandas ---> paython data analysis\n",
    "\n",
    "numpy ---- > pandas\n",
    "\n",
    "2005 ------ 2008"
   ]
  },
  {
   "cell_type": "code",
   "execution_count": null,
   "id": "19a4c6f6-5272-46ae-b107-d04412289b9a",
   "metadata": {},
   "outputs": [],
   "source": []
  },
  {
   "cell_type": "code",
   "execution_count": 1,
   "id": "f4ba15cc-89b2-4086-8bf0-21bc907e26ba",
   "metadata": {},
   "outputs": [
    {
     "name": "stdout",
     "output_type": "stream",
     "text": [
      "Requirement already satisfied: pandas in c:\\users\\17nru\\appdata\\local\\programs\\python\\python312\\lib\\site-packages (2.1.3)\n",
      "Requirement already satisfied: numpy<2,>=1.26.0 in c:\\users\\17nru\\appdata\\local\\programs\\python\\python312\\lib\\site-packages (from pandas) (1.26.4)\n",
      "Requirement already satisfied: python-dateutil>=2.8.2 in c:\\users\\17nru\\appdata\\local\\programs\\python\\python312\\lib\\site-packages (from pandas) (2.8.2)\n",
      "Requirement already satisfied: pytz>=2020.1 in c:\\users\\17nru\\appdata\\local\\programs\\python\\python312\\lib\\site-packages (from pandas) (2023.3.post1)\n",
      "Requirement already satisfied: tzdata>=2022.1 in c:\\users\\17nru\\appdata\\local\\programs\\python\\python312\\lib\\site-packages (from pandas) (2023.3)\n",
      "Requirement already satisfied: six>=1.5 in c:\\users\\17nru\\appdata\\roaming\\python\\python312\\site-packages (from python-dateutil>=2.8.2->pandas) (1.16.0)\n"
     ]
    },
    {
     "name": "stderr",
     "output_type": "stream",
     "text": [
      "DEPRECATION: textract 1.6.5 has a non-standard dependency specifier extract-msg<=0.29.*. pip 24.1 will enforce this behaviour change. A possible replacement is to upgrade to a newer version of textract or contact the author to suggest that they release a version with a conforming dependency specifiers. Discussion can be found at https://github.com/pypa/pip/issues/12063\n"
     ]
    }
   ],
   "source": [
    "!pip install pandas"
   ]
  },
  {
   "cell_type": "code",
   "execution_count": null,
   "id": "c456ecaf-835f-47a6-b9f0-187189cf0f8d",
   "metadata": {},
   "outputs": [],
   "source": []
  },
  {
   "cell_type": "code",
   "execution_count": 2,
   "id": "8473421b-c909-42a4-97d7-8779f382e3f8",
   "metadata": {},
   "outputs": [],
   "source": [
    "import pandas as pd"
   ]
  },
  {
   "cell_type": "code",
   "execution_count": null,
   "id": "42491bd9-2095-4d7d-b6ff-090f680282e6",
   "metadata": {},
   "outputs": [],
   "source": []
  },
  {
   "cell_type": "code",
   "execution_count": null,
   "id": "b9b87e72-6b1e-43e1-bb0a-ff4385f318bc",
   "metadata": {},
   "outputs": [],
   "source": [
    "Pandas --->\n",
    "    1) Data Analysis\n",
    "    2) Data Exploring\n",
    "    3) Data Cleaning\n",
    "    4) Data Manupluation\n",
    "\n",
    "pandas --> excel, csv (coma seprated values), json....."
   ]
  },
  {
   "cell_type": "code",
   "execution_count": null,
   "id": "aa6f7a90-55ea-4e96-9666-9ee10b805932",
   "metadata": {},
   "outputs": [],
   "source": [
    "Data Structures in Pandas:\n",
    "\n",
    "    1) Series\n",
    "    2) DataFrame"
   ]
  },
  {
   "cell_type": "code",
   "execution_count": null,
   "id": "e57d6eba-b236-43b5-8d8e-45ce5b79fd7a",
   "metadata": {},
   "outputs": [],
   "source": [
    "Series : a single column in a table..\n",
    "\n",
    "Dataframe : its a collection of series."
   ]
  },
  {
   "cell_type": "code",
   "execution_count": null,
   "id": "701d360b-c244-4ff2-afc7-b66c8e7b7624",
   "metadata": {},
   "outputs": [],
   "source": []
  },
  {
   "cell_type": "code",
   "execution_count": 3,
   "id": "d48fd5ad-22a2-47dc-b72a-74a7e40194b1",
   "metadata": {},
   "outputs": [],
   "source": [
    "usernames = [\"kriss\", \"moris\", \"hey\", \"ok\", \"ayush\", \"hellow world\"]"
   ]
  },
  {
   "cell_type": "code",
   "execution_count": 4,
   "id": "aea7b244-d560-4889-b127-b9619e14b635",
   "metadata": {},
   "outputs": [
    {
     "data": {
      "text/plain": [
       "list"
      ]
     },
     "execution_count": 4,
     "metadata": {},
     "output_type": "execute_result"
    }
   ],
   "source": [
    "type(usernames)"
   ]
  },
  {
   "cell_type": "code",
   "execution_count": null,
   "id": "67bdcf03-379a-4a6f-a604-85a6838aa79f",
   "metadata": {},
   "outputs": [],
   "source": []
  },
  {
   "cell_type": "code",
   "execution_count": 5,
   "id": "eeca6fdc-3533-4104-a153-2ea2e54ff907",
   "metadata": {},
   "outputs": [],
   "source": [
    "data = pd.Series(usernames)"
   ]
  },
  {
   "cell_type": "code",
   "execution_count": 6,
   "id": "474652c1-10b5-4cbb-be17-931e49ee5cd9",
   "metadata": {},
   "outputs": [
    {
     "data": {
      "text/plain": [
       "0           kriss\n",
       "1           moris\n",
       "2             hey\n",
       "3              ok\n",
       "4           ayush\n",
       "5    hellow world\n",
       "dtype: object"
      ]
     },
     "execution_count": 6,
     "metadata": {},
     "output_type": "execute_result"
    }
   ],
   "source": [
    "data"
   ]
  },
  {
   "cell_type": "code",
   "execution_count": null,
   "id": "9e732d76-389f-4c05-9c48-4343139c1a9c",
   "metadata": {},
   "outputs": [],
   "source": []
  },
  {
   "cell_type": "code",
   "execution_count": 7,
   "id": "a6821ce6-209d-4fc4-b7f7-d8987f9fac4a",
   "metadata": {},
   "outputs": [
    {
     "data": {
      "text/plain": [
       "'ayush'"
      ]
     },
     "execution_count": 7,
     "metadata": {},
     "output_type": "execute_result"
    }
   ],
   "source": [
    "data[4]"
   ]
  },
  {
   "cell_type": "code",
   "execution_count": null,
   "id": "9547df90-443c-413b-a852-2d942c277466",
   "metadata": {},
   "outputs": [],
   "source": []
  },
  {
   "cell_type": "code",
   "execution_count": 8,
   "id": "4c182c25-f452-4a65-aaf3-75e417926850",
   "metadata": {},
   "outputs": [],
   "source": [
    "# chnage indexing"
   ]
  },
  {
   "cell_type": "code",
   "execution_count": 9,
   "id": "a8970988-8ce5-48e9-8866-8899307ee6df",
   "metadata": {},
   "outputs": [],
   "source": [
    "data = pd.Series(\n",
    "    [\"kriss\", \"moris\", \"hey\", \"ok\", \"ayush\", \"hellow world\"],\n",
    "    \n",
    "    index = ['a', 'b', 'z', 'w', 'e', 'h']\n",
    ")"
   ]
  },
  {
   "cell_type": "code",
   "execution_count": 10,
   "id": "48fdea3d-eefa-4858-b001-0f889bf0a5f6",
   "metadata": {},
   "outputs": [
    {
     "data": {
      "text/plain": [
       "a           kriss\n",
       "b           moris\n",
       "z             hey\n",
       "w              ok\n",
       "e           ayush\n",
       "h    hellow world\n",
       "dtype: object"
      ]
     },
     "execution_count": 10,
     "metadata": {},
     "output_type": "execute_result"
    }
   ],
   "source": [
    "data"
   ]
  },
  {
   "cell_type": "code",
   "execution_count": null,
   "id": "050c0cc9-ec5f-42cb-bc73-322f2a09e74f",
   "metadata": {},
   "outputs": [],
   "source": []
  },
  {
   "cell_type": "code",
   "execution_count": 11,
   "id": "beba475f-2f1e-4310-93bb-a5df8cec4a6c",
   "metadata": {},
   "outputs": [
    {
     "data": {
      "text/plain": [
       "'hey'"
      ]
     },
     "execution_count": 11,
     "metadata": {},
     "output_type": "execute_result"
    }
   ],
   "source": [
    "data['z']"
   ]
  },
  {
   "cell_type": "code",
   "execution_count": null,
   "id": "b0b7f7b1-789c-4c8d-853d-777cb9bd4248",
   "metadata": {},
   "outputs": [],
   "source": []
  },
  {
   "cell_type": "code",
   "execution_count": null,
   "id": "3c0b0d48-f7c4-4251-990b-2c2dd72d15b2",
   "metadata": {},
   "outputs": [],
   "source": []
  },
  {
   "cell_type": "code",
   "execution_count": 12,
   "id": "e3897d17-c366-4fd1-ac92-95c0ef35b070",
   "metadata": {},
   "outputs": [],
   "source": [
    "# crertae dataframe"
   ]
  },
  {
   "cell_type": "code",
   "execution_count": 14,
   "id": "3dc11c90-fd89-44b9-aa22-96b668bc69b9",
   "metadata": {},
   "outputs": [],
   "source": [
    "df = pd.DataFrame({\n",
    "    'username' : [\"kriss\", \"moris\", \"hey\", \"ok\", \"ayush\", \"hellow world\"],\n",
    "    'Age' : [20, 23, 12, 34, 23, 45],\n",
    "    'phone Number' : [9834856485, 98345845, 87234734, 983648569, 8734574, 782345832]\n",
    "})"
   ]
  },
  {
   "cell_type": "code",
   "execution_count": 15,
   "id": "b7f1a268-8ec9-4016-9658-8ac5cf62fd1d",
   "metadata": {},
   "outputs": [
    {
     "data": {
      "text/html": [
       "<div>\n",
       "<style scoped>\n",
       "    .dataframe tbody tr th:only-of-type {\n",
       "        vertical-align: middle;\n",
       "    }\n",
       "\n",
       "    .dataframe tbody tr th {\n",
       "        vertical-align: top;\n",
       "    }\n",
       "\n",
       "    .dataframe thead th {\n",
       "        text-align: right;\n",
       "    }\n",
       "</style>\n",
       "<table border=\"1\" class=\"dataframe\">\n",
       "  <thead>\n",
       "    <tr style=\"text-align: right;\">\n",
       "      <th></th>\n",
       "      <th>username</th>\n",
       "      <th>Age</th>\n",
       "      <th>phone Number</th>\n",
       "    </tr>\n",
       "  </thead>\n",
       "  <tbody>\n",
       "    <tr>\n",
       "      <th>0</th>\n",
       "      <td>kriss</td>\n",
       "      <td>20</td>\n",
       "      <td>9834856485</td>\n",
       "    </tr>\n",
       "    <tr>\n",
       "      <th>1</th>\n",
       "      <td>moris</td>\n",
       "      <td>23</td>\n",
       "      <td>98345845</td>\n",
       "    </tr>\n",
       "    <tr>\n",
       "      <th>2</th>\n",
       "      <td>hey</td>\n",
       "      <td>12</td>\n",
       "      <td>87234734</td>\n",
       "    </tr>\n",
       "    <tr>\n",
       "      <th>3</th>\n",
       "      <td>ok</td>\n",
       "      <td>34</td>\n",
       "      <td>983648569</td>\n",
       "    </tr>\n",
       "    <tr>\n",
       "      <th>4</th>\n",
       "      <td>ayush</td>\n",
       "      <td>23</td>\n",
       "      <td>8734574</td>\n",
       "    </tr>\n",
       "    <tr>\n",
       "      <th>5</th>\n",
       "      <td>hellow world</td>\n",
       "      <td>45</td>\n",
       "      <td>782345832</td>\n",
       "    </tr>\n",
       "  </tbody>\n",
       "</table>\n",
       "</div>"
      ],
      "text/plain": [
       "       username  Age  phone Number\n",
       "0         kriss   20    9834856485\n",
       "1         moris   23      98345845\n",
       "2           hey   12      87234734\n",
       "3            ok   34     983648569\n",
       "4         ayush   23       8734574\n",
       "5  hellow world   45     782345832"
      ]
     },
     "execution_count": 15,
     "metadata": {},
     "output_type": "execute_result"
    }
   ],
   "source": [
    "df"
   ]
  },
  {
   "cell_type": "code",
   "execution_count": 16,
   "id": "2f2eb1ac-d4c1-409a-af2e-94819d3ac962",
   "metadata": {},
   "outputs": [
    {
     "data": {
      "text/plain": [
       "pandas.core.frame.DataFrame"
      ]
     },
     "execution_count": 16,
     "metadata": {},
     "output_type": "execute_result"
    }
   ],
   "source": [
    "type(df)"
   ]
  },
  {
   "cell_type": "code",
   "execution_count": null,
   "id": "74af3c97-01c4-4041-805e-84c5ea947847",
   "metadata": {},
   "outputs": [],
   "source": []
  },
  {
   "cell_type": "code",
   "execution_count": 19,
   "id": "b42dc09a-19cc-4538-8608-cc79ce3f947d",
   "metadata": {},
   "outputs": [],
   "source": [
    "x = df[\"Age\"]"
   ]
  },
  {
   "cell_type": "code",
   "execution_count": 20,
   "id": "d5d5e269-9583-4d47-9ea9-8c5cea371214",
   "metadata": {},
   "outputs": [
    {
     "data": {
      "text/plain": [
       "pandas.core.series.Series"
      ]
     },
     "execution_count": 20,
     "metadata": {},
     "output_type": "execute_result"
    }
   ],
   "source": [
    "type(x)"
   ]
  },
  {
   "cell_type": "code",
   "execution_count": null,
   "id": "7d688b96-c8d4-4e7e-b4ce-3a6961c85c14",
   "metadata": {},
   "outputs": [],
   "source": []
  },
  {
   "cell_type": "code",
   "execution_count": null,
   "id": "6912c5e6-e0b6-4b0e-9cf8-866a3993ab3f",
   "metadata": {},
   "outputs": [],
   "source": [
    "data frame create:\n",
    "    2         4          6       8      10\n",
    "2 x 1 = 2   4 x 1 = 4\n",
    "2 x 2 = 4   4 x 2 = 8\n",
    "2 x 3 = 6\n",
    ".\n",
    ".\n",
    ".\n",
    ".\n",
    ".\n",
    "2 x 10 = 20  4 x 10 = 40"
   ]
  },
  {
   "cell_type": "code",
   "execution_count": null,
   "id": "c9cfac6d-b886-4173-abed-d9bd6e8ad97b",
   "metadata": {},
   "outputs": [],
   "source": []
  },
  {
   "cell_type": "code",
   "execution_count": 21,
   "id": "67a03b10-f20b-4239-b9f2-690a05f91fff",
   "metadata": {},
   "outputs": [],
   "source": [
    "def createtable(x):\n",
    "    lst = []\n",
    "\n",
    "    for i in range(1, 11):\n",
    "        lst.append(f\"{x} x {i} = {x*i}\")\n",
    "\n",
    "    return lst"
   ]
  },
  {
   "cell_type": "code",
   "execution_count": 24,
   "id": "12cf9baa-a372-4587-88df-e07aa1d8a5c8",
   "metadata": {},
   "outputs": [
    {
     "data": {
      "text/plain": [
       "['10 x 1 = 10',\n",
       " '10 x 2 = 20',\n",
       " '10 x 3 = 30',\n",
       " '10 x 4 = 40',\n",
       " '10 x 5 = 50',\n",
       " '10 x 6 = 60',\n",
       " '10 x 7 = 70',\n",
       " '10 x 8 = 80',\n",
       " '10 x 9 = 90',\n",
       " '10 x 10 = 100']"
      ]
     },
     "execution_count": 24,
     "metadata": {},
     "output_type": "execute_result"
    }
   ],
   "source": [
    "createtable(10)"
   ]
  },
  {
   "cell_type": "code",
   "execution_count": null,
   "id": "b576761a-ae2c-4f45-83e5-1cb795e0fb19",
   "metadata": {},
   "outputs": [],
   "source": []
  },
  {
   "cell_type": "code",
   "execution_count": 25,
   "id": "033fbb3d-dd55-4a55-97cd-506e61b6ae72",
   "metadata": {},
   "outputs": [],
   "source": [
    "table = pd.DataFrame({\n",
    "    \"2\" : createtable(2),\n",
    "    \"4\" : createtable(4),\n",
    "    \"6\" : createtable(6),\n",
    "    \"8\" : createtable(8),\n",
    "    \"10\" : createtable(10),\n",
    "})"
   ]
  },
  {
   "cell_type": "code",
   "execution_count": 26,
   "id": "a4b8ce72-bc42-4cb8-8f80-a5e4cba7fdd9",
   "metadata": {},
   "outputs": [
    {
     "data": {
      "text/html": [
       "<div>\n",
       "<style scoped>\n",
       "    .dataframe tbody tr th:only-of-type {\n",
       "        vertical-align: middle;\n",
       "    }\n",
       "\n",
       "    .dataframe tbody tr th {\n",
       "        vertical-align: top;\n",
       "    }\n",
       "\n",
       "    .dataframe thead th {\n",
       "        text-align: right;\n",
       "    }\n",
       "</style>\n",
       "<table border=\"1\" class=\"dataframe\">\n",
       "  <thead>\n",
       "    <tr style=\"text-align: right;\">\n",
       "      <th></th>\n",
       "      <th>2</th>\n",
       "      <th>4</th>\n",
       "      <th>6</th>\n",
       "      <th>8</th>\n",
       "      <th>10</th>\n",
       "    </tr>\n",
       "  </thead>\n",
       "  <tbody>\n",
       "    <tr>\n",
       "      <th>0</th>\n",
       "      <td>2 x 1 = 2</td>\n",
       "      <td>4 x 1 = 4</td>\n",
       "      <td>6 x 1 = 6</td>\n",
       "      <td>8 x 1 = 8</td>\n",
       "      <td>10 x 1 = 10</td>\n",
       "    </tr>\n",
       "    <tr>\n",
       "      <th>1</th>\n",
       "      <td>2 x 2 = 4</td>\n",
       "      <td>4 x 2 = 8</td>\n",
       "      <td>6 x 2 = 12</td>\n",
       "      <td>8 x 2 = 16</td>\n",
       "      <td>10 x 2 = 20</td>\n",
       "    </tr>\n",
       "    <tr>\n",
       "      <th>2</th>\n",
       "      <td>2 x 3 = 6</td>\n",
       "      <td>4 x 3 = 12</td>\n",
       "      <td>6 x 3 = 18</td>\n",
       "      <td>8 x 3 = 24</td>\n",
       "      <td>10 x 3 = 30</td>\n",
       "    </tr>\n",
       "    <tr>\n",
       "      <th>3</th>\n",
       "      <td>2 x 4 = 8</td>\n",
       "      <td>4 x 4 = 16</td>\n",
       "      <td>6 x 4 = 24</td>\n",
       "      <td>8 x 4 = 32</td>\n",
       "      <td>10 x 4 = 40</td>\n",
       "    </tr>\n",
       "    <tr>\n",
       "      <th>4</th>\n",
       "      <td>2 x 5 = 10</td>\n",
       "      <td>4 x 5 = 20</td>\n",
       "      <td>6 x 5 = 30</td>\n",
       "      <td>8 x 5 = 40</td>\n",
       "      <td>10 x 5 = 50</td>\n",
       "    </tr>\n",
       "    <tr>\n",
       "      <th>5</th>\n",
       "      <td>2 x 6 = 12</td>\n",
       "      <td>4 x 6 = 24</td>\n",
       "      <td>6 x 6 = 36</td>\n",
       "      <td>8 x 6 = 48</td>\n",
       "      <td>10 x 6 = 60</td>\n",
       "    </tr>\n",
       "    <tr>\n",
       "      <th>6</th>\n",
       "      <td>2 x 7 = 14</td>\n",
       "      <td>4 x 7 = 28</td>\n",
       "      <td>6 x 7 = 42</td>\n",
       "      <td>8 x 7 = 56</td>\n",
       "      <td>10 x 7 = 70</td>\n",
       "    </tr>\n",
       "    <tr>\n",
       "      <th>7</th>\n",
       "      <td>2 x 8 = 16</td>\n",
       "      <td>4 x 8 = 32</td>\n",
       "      <td>6 x 8 = 48</td>\n",
       "      <td>8 x 8 = 64</td>\n",
       "      <td>10 x 8 = 80</td>\n",
       "    </tr>\n",
       "    <tr>\n",
       "      <th>8</th>\n",
       "      <td>2 x 9 = 18</td>\n",
       "      <td>4 x 9 = 36</td>\n",
       "      <td>6 x 9 = 54</td>\n",
       "      <td>8 x 9 = 72</td>\n",
       "      <td>10 x 9 = 90</td>\n",
       "    </tr>\n",
       "    <tr>\n",
       "      <th>9</th>\n",
       "      <td>2 x 10 = 20</td>\n",
       "      <td>4 x 10 = 40</td>\n",
       "      <td>6 x 10 = 60</td>\n",
       "      <td>8 x 10 = 80</td>\n",
       "      <td>10 x 10 = 100</td>\n",
       "    </tr>\n",
       "  </tbody>\n",
       "</table>\n",
       "</div>"
      ],
      "text/plain": [
       "             2            4            6            8             10\n",
       "0    2 x 1 = 2    4 x 1 = 4    6 x 1 = 6    8 x 1 = 8    10 x 1 = 10\n",
       "1    2 x 2 = 4    4 x 2 = 8   6 x 2 = 12   8 x 2 = 16    10 x 2 = 20\n",
       "2    2 x 3 = 6   4 x 3 = 12   6 x 3 = 18   8 x 3 = 24    10 x 3 = 30\n",
       "3    2 x 4 = 8   4 x 4 = 16   6 x 4 = 24   8 x 4 = 32    10 x 4 = 40\n",
       "4   2 x 5 = 10   4 x 5 = 20   6 x 5 = 30   8 x 5 = 40    10 x 5 = 50\n",
       "5   2 x 6 = 12   4 x 6 = 24   6 x 6 = 36   8 x 6 = 48    10 x 6 = 60\n",
       "6   2 x 7 = 14   4 x 7 = 28   6 x 7 = 42   8 x 7 = 56    10 x 7 = 70\n",
       "7   2 x 8 = 16   4 x 8 = 32   6 x 8 = 48   8 x 8 = 64    10 x 8 = 80\n",
       "8   2 x 9 = 18   4 x 9 = 36   6 x 9 = 54   8 x 9 = 72    10 x 9 = 90\n",
       "9  2 x 10 = 20  4 x 10 = 40  6 x 10 = 60  8 x 10 = 80  10 x 10 = 100"
      ]
     },
     "execution_count": 26,
     "metadata": {},
     "output_type": "execute_result"
    }
   ],
   "source": [
    "table"
   ]
  },
  {
   "cell_type": "code",
   "execution_count": null,
   "id": "e2abab47-f8e7-4ca8-b2fb-40a3c2395d31",
   "metadata": {},
   "outputs": [],
   "source": []
  },
  {
   "cell_type": "code",
   "execution_count": 27,
   "id": "1ab57850-3cd6-4ebb-bf35-afe77d4370e6",
   "metadata": {},
   "outputs": [],
   "source": [
    "zx = [\"thiscarrr\", \"thisbusss\", \"thisbikee\", \"thistrain\"]"
   ]
  },
  {
   "cell_type": "code",
   "execution_count": null,
   "id": "bde8ac66-53ce-49ed-a22e-f14238cf33cf",
   "metadata": {},
   "outputs": [],
   "source": []
  },
  {
   "cell_type": "code",
   "execution_count": null,
   "id": "560f127e-1076-46c1-9118-d4cf2d7ce1c5",
   "metadata": {},
   "outputs": [],
   "source": []
  }
 ],
 "metadata": {
  "kernelspec": {
   "display_name": "Python 3 (ipykernel)",
   "language": "python",
   "name": "python3"
  },
  "language_info": {
   "codemirror_mode": {
    "name": "ipython",
    "version": 3
   },
   "file_extension": ".py",
   "mimetype": "text/x-python",
   "name": "python",
   "nbconvert_exporter": "python",
   "pygments_lexer": "ipython3",
   "version": "3.12.3"
  }
 },
 "nbformat": 4,
 "nbformat_minor": 5
}
