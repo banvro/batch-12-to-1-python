{
 "cells": [
  {
   "cell_type": "code",
   "execution_count": 1,
   "id": "5866dadf-45f9-4a3d-ad03-b6c85b224f4d",
   "metadata": {},
   "outputs": [],
   "source": [
    "# Numpy : "
   ]
  },
  {
   "cell_type": "code",
   "execution_count": 2,
   "id": "010b1c6d-a83d-4a7e-9324-bb05ce646dd8",
   "metadata": {},
   "outputs": [],
   "source": [
    "# ndarrays --->"
   ]
  },
  {
   "cell_type": "code",
   "execution_count": null,
   "id": "c8448938-19f8-4422-86a5-0df1c373db87",
   "metadata": {},
   "outputs": [],
   "source": []
  },
  {
   "cell_type": "code",
   "execution_count": 3,
   "id": "2e3d14d6-b997-4749-89e8-c3f0c61a0f69",
   "metadata": {},
   "outputs": [],
   "source": [
    "# random:"
   ]
  },
  {
   "cell_type": "code",
   "execution_count": 4,
   "id": "20092527-655a-46da-8f91-f892ed863b58",
   "metadata": {},
   "outputs": [],
   "source": [
    "import numpy as np"
   ]
  },
  {
   "cell_type": "code",
   "execution_count": 5,
   "id": "bce3f7a6-b569-401c-a34c-49f6e1818ace",
   "metadata": {},
   "outputs": [],
   "source": [
    "xyz = np.array([12, 45, 23, 67, 100, 20])"
   ]
  },
  {
   "cell_type": "code",
   "execution_count": 6,
   "id": "154e7c45-b3c0-461a-afad-911a2c59b737",
   "metadata": {},
   "outputs": [
    {
     "data": {
      "text/plain": [
       "1"
      ]
     },
     "execution_count": 6,
     "metadata": {},
     "output_type": "execute_result"
    }
   ],
   "source": [
    "xyz.ndim"
   ]
  },
  {
   "cell_type": "code",
   "execution_count": 7,
   "id": "fc2b5301-0ddf-46c5-a22a-0ca1e8f645cb",
   "metadata": {},
   "outputs": [
    {
     "data": {
      "text/plain": [
       "array([ 12,  45,  23,  67, 100,  20])"
      ]
     },
     "execution_count": 7,
     "metadata": {},
     "output_type": "execute_result"
    }
   ],
   "source": [
    "xyz"
   ]
  },
  {
   "cell_type": "code",
   "execution_count": null,
   "id": "c6ba03dc-a9e8-4249-b365-9578abce0454",
   "metadata": {},
   "outputs": [],
   "source": []
  },
  {
   "cell_type": "code",
   "execution_count": 8,
   "id": "5cae5458-f88f-48a9-b5a2-413bb75410a5",
   "metadata": {},
   "outputs": [],
   "source": [
    "abc = np.array([[23, 45, 100, 90], [67, 45, 23, 100], [78, 45, 34, 23]])"
   ]
  },
  {
   "cell_type": "code",
   "execution_count": 9,
   "id": "a93e6d9d-1402-470b-bf2b-e4a712dac005",
   "metadata": {},
   "outputs": [
    {
     "data": {
      "text/plain": [
       "array([[ 23,  45, 100,  90],\n",
       "       [ 67,  45,  23, 100],\n",
       "       [ 78,  45,  34,  23]])"
      ]
     },
     "execution_count": 9,
     "metadata": {},
     "output_type": "execute_result"
    }
   ],
   "source": [
    "abc"
   ]
  },
  {
   "cell_type": "code",
   "execution_count": 10,
   "id": "f30cbabf-d87e-4b32-a324-d4fdcdf3b5e7",
   "metadata": {},
   "outputs": [
    {
     "data": {
      "text/plain": [
       "2"
      ]
     },
     "execution_count": 10,
     "metadata": {},
     "output_type": "execute_result"
    }
   ],
   "source": [
    "abc.ndim"
   ]
  },
  {
   "cell_type": "code",
   "execution_count": null,
   "id": "c591d3f1-5303-4bc3-ae34-a70a6f3a2a1c",
   "metadata": {},
   "outputs": [],
   "source": []
  },
  {
   "cell_type": "code",
   "execution_count": null,
   "id": "b19652f8-b37b-441a-a591-a7f5c2ee8dd0",
   "metadata": {},
   "outputs": [],
   "source": []
  },
  {
   "cell_type": "code",
   "execution_count": 11,
   "id": "68d7ca48-5afc-4eaa-9e45-e8ee36c6b3a3",
   "metadata": {},
   "outputs": [],
   "source": [
    "# where()"
   ]
  },
  {
   "cell_type": "code",
   "execution_count": null,
   "id": "dd179372-2db0-45c5-9ba4-5daf6fae307f",
   "metadata": {},
   "outputs": [],
   "source": [
    "# import random"
   ]
  },
  {
   "cell_type": "code",
   "execution_count": 13,
   "id": "29fc0188-9896-4bcf-bce8-b45a4df58b69",
   "metadata": {},
   "outputs": [],
   "source": [
    "from numpy import random"
   ]
  },
  {
   "cell_type": "code",
   "execution_count": 29,
   "id": "70e1286b-58c2-488a-ba5e-e7a8292971ab",
   "metadata": {},
   "outputs": [
    {
     "data": {
      "text/plain": [
       "46"
      ]
     },
     "execution_count": 29,
     "metadata": {},
     "output_type": "execute_result"
    }
   ],
   "source": [
    "random.randint(100)"
   ]
  },
  {
   "cell_type": "markdown",
   "id": "787f4bbd-5fb4-47eb-88dd-df4fac296245",
   "metadata": {},
   "source": [
    "## genrating 1-D ndarray random"
   ]
  },
  {
   "cell_type": "code",
   "execution_count": 31,
   "id": "8c469034-facd-4dc4-b34c-671a8fa3b833",
   "metadata": {},
   "outputs": [],
   "source": [
    "xy = random.randint(100, size = (5))"
   ]
  },
  {
   "cell_type": "code",
   "execution_count": 32,
   "id": "46c1ba10-0b0d-4fb5-b6a1-45f53e411434",
   "metadata": {},
   "outputs": [
    {
     "data": {
      "text/plain": [
       "array([50, 14, 95, 28, 85])"
      ]
     },
     "execution_count": 32,
     "metadata": {},
     "output_type": "execute_result"
    }
   ],
   "source": [
    "xy"
   ]
  },
  {
   "cell_type": "code",
   "execution_count": 33,
   "id": "b3880dbb-d600-42bf-ad85-2a4fbe7f7bc6",
   "metadata": {},
   "outputs": [
    {
     "data": {
      "text/plain": [
       "numpy.ndarray"
      ]
     },
     "execution_count": 33,
     "metadata": {},
     "output_type": "execute_result"
    }
   ],
   "source": [
    "type(xy)"
   ]
  },
  {
   "cell_type": "code",
   "execution_count": 34,
   "id": "172719ba-d8ec-407d-9862-fac77689f4ee",
   "metadata": {},
   "outputs": [
    {
     "data": {
      "text/plain": [
       "1"
      ]
     },
     "execution_count": 34,
     "metadata": {},
     "output_type": "execute_result"
    }
   ],
   "source": [
    "xy.ndim"
   ]
  },
  {
   "cell_type": "code",
   "execution_count": 35,
   "id": "0d50ad08-182b-4d05-a40b-a20a839708b6",
   "metadata": {},
   "outputs": [
    {
     "data": {
      "text/plain": [
       "(5,)"
      ]
     },
     "execution_count": 35,
     "metadata": {},
     "output_type": "execute_result"
    }
   ],
   "source": [
    "xy.shape"
   ]
  },
  {
   "cell_type": "code",
   "execution_count": null,
   "id": "2785ae60-cfa3-4359-b11e-6e3ef7cd02aa",
   "metadata": {},
   "outputs": [],
   "source": []
  },
  {
   "cell_type": "code",
   "execution_count": 38,
   "id": "1511b9e3-dc21-4da1-8e64-4f8f22d81683",
   "metadata": {},
   "outputs": [],
   "source": [
    "# zx = (10, )"
   ]
  },
  {
   "cell_type": "code",
   "execution_count": 40,
   "id": "bd558d78-6e65-4bca-9741-ba0a99a1dac0",
   "metadata": {},
   "outputs": [],
   "source": [
    "# type(zx)"
   ]
  },
  {
   "cell_type": "code",
   "execution_count": null,
   "id": "6f983d3b-792a-435b-9cdb-6478dfc6dd78",
   "metadata": {},
   "outputs": [],
   "source": []
  },
  {
   "cell_type": "markdown",
   "id": "78b0a60f-40e5-44a4-b81f-9a16b28e5c12",
   "metadata": {},
   "source": [
    "## 2-d ndarry::::"
   ]
  },
  {
   "cell_type": "code",
   "execution_count": 47,
   "id": "0ee16c44-ffc8-4ce5-9a20-f15296cc6064",
   "metadata": {},
   "outputs": [],
   "source": [
    "p = random.randint(50, size = (3, 5))"
   ]
  },
  {
   "cell_type": "code",
   "execution_count": 49,
   "id": "a1bfcf80-fa00-4472-afd5-8769745fb00b",
   "metadata": {},
   "outputs": [
    {
     "data": {
      "text/plain": [
       "array([[11, 26, 32, 49,  7],\n",
       "       [35, 35,  8, 12,  0],\n",
       "       [46, 48, 18,  2, 11]])"
      ]
     },
     "execution_count": 49,
     "metadata": {},
     "output_type": "execute_result"
    }
   ],
   "source": [
    "p"
   ]
  },
  {
   "cell_type": "code",
   "execution_count": null,
   "id": "fc1d3f75-daf1-4b5f-aee7-ffba9d6e2955",
   "metadata": {},
   "outputs": [],
   "source": []
  },
  {
   "cell_type": "code",
   "execution_count": null,
   "id": "d1dfd114-aaf9-403a-8684-100ae3ffdb5f",
   "metadata": {},
   "outputs": [],
   "source": []
  },
  {
   "cell_type": "code",
   "execution_count": 51,
   "id": "e8414d2f-8e19-4727-80bc-dd5d86fb95be",
   "metadata": {},
   "outputs": [],
   "source": [
    "# help(random.rand)"
   ]
  },
  {
   "cell_type": "code",
   "execution_count": 52,
   "id": "475ef03e-8d97-4c2e-9129-719164a43772",
   "metadata": {},
   "outputs": [],
   "source": [
    "# rand() ------> 0, 1"
   ]
  },
  {
   "cell_type": "markdown",
   "id": "d43a0b2f-8dd4-479f-8c50-908962b538db",
   "metadata": {},
   "source": [
    "### rand() --> return elments with the range of 0 to 1"
   ]
  },
  {
   "cell_type": "code",
   "execution_count": 61,
   "id": "31b073bd-96d2-472e-bea4-462a1d226dc9",
   "metadata": {},
   "outputs": [],
   "source": [
    "x = random.rand(4, 3)"
   ]
  },
  {
   "cell_type": "code",
   "execution_count": 62,
   "id": "9bbfab2c-d570-432c-ac93-4a450bf67b4b",
   "metadata": {},
   "outputs": [
    {
     "data": {
      "text/plain": [
       "array([[0.67292762, 0.79573907, 0.00967793],\n",
       "       [0.39498833, 0.20433648, 0.64546437],\n",
       "       [0.56804355, 0.83308742, 0.30501592],\n",
       "       [0.521006  , 0.71150226, 0.13056765]])"
      ]
     },
     "execution_count": 62,
     "metadata": {},
     "output_type": "execute_result"
    }
   ],
   "source": [
    "x"
   ]
  },
  {
   "cell_type": "code",
   "execution_count": null,
   "id": "723b1f61-724b-4f13-be9e-f96202971000",
   "metadata": {},
   "outputs": [],
   "source": []
  },
  {
   "cell_type": "code",
   "execution_count": null,
   "id": "d013d118-e70b-4d30-9e07-477625d1b306",
   "metadata": {},
   "outputs": [],
   "source": []
  },
  {
   "cell_type": "code",
   "execution_count": 63,
   "id": "21810e87-b63a-4fad-be7d-269ab80c9bf8",
   "metadata": {},
   "outputs": [],
   "source": [
    "# choice() --> "
   ]
  },
  {
   "cell_type": "code",
   "execution_count": 78,
   "id": "40dda1df-9f2d-420a-83ee-46919e2d23fc",
   "metadata": {},
   "outputs": [],
   "source": [
    "zx = random.choice([34, 56, 23, 67, 100, 87], size = (2, 5))"
   ]
  },
  {
   "cell_type": "code",
   "execution_count": 79,
   "id": "7ec3f6e9-1203-4de0-9362-76988288d549",
   "metadata": {},
   "outputs": [
    {
     "data": {
      "text/plain": [
       "array([[56, 23, 34, 23, 34],\n",
       "       [67, 56, 23, 56, 23]])"
      ]
     },
     "execution_count": 79,
     "metadata": {},
     "output_type": "execute_result"
    }
   ],
   "source": [
    "zx"
   ]
  },
  {
   "cell_type": "code",
   "execution_count": null,
   "id": "feefc1f1-19ca-4328-89fe-918dd62a8582",
   "metadata": {},
   "outputs": [],
   "source": []
  },
  {
   "cell_type": "code",
   "execution_count": null,
   "id": "b443340d-f042-4832-9f26-4f2e105af576",
   "metadata": {},
   "outputs": [],
   "source": [
    "## \n",
    "\n",
    "# np.arange()\n",
    "\n",
    "genrate --- 1 to 100\n",
    "\n",
    "[1, 2, 3, 4, 5, ........ 100]\n",
    "\n",
    "\n",
    "3 -devisible--> ok\n",
    "5 --devisible---> done\n",
    " 0.\n",
    "3 or 5 ----> okdone"
   ]
  },
  {
   "cell_type": "code",
   "execution_count": null,
   "id": "f0635a69-972d-45e1-97b0-fa10b6e61a08",
   "metadata": {},
   "outputs": [],
   "source": [
    "[1, 2, \"ok\", 4, \"done\", \"ok\", 7, 8, \"ok\", ....., \"okdone\"]"
   ]
  },
  {
   "cell_type": "code",
   "execution_count": null,
   "id": "54dd2b86-5cef-4d11-b797-3668993332d0",
   "metadata": {},
   "outputs": [],
   "source": []
  },
  {
   "cell_type": "code",
   "execution_count": 86,
   "id": "9b4043b9-e7fc-414f-9a01-d1ef770932ea",
   "metadata": {},
   "outputs": [
    {
     "name": "stdin",
     "output_type": "stream",
     "text": [
      "Enter the range :  50\n"
     ]
    }
   ],
   "source": [
    "x = int(input(\"Enter the range : \"))\n",
    "\n",
    "myarr = np.arange(1, x+1)\n"
   ]
  },
  {
   "cell_type": "code",
   "execution_count": 87,
   "id": "542a59d3-ba66-427e-ab18-b69c09af18d1",
   "metadata": {},
   "outputs": [
    {
     "data": {
      "text/plain": [
       "array([ 1,  2,  3,  4,  5,  6,  7,  8,  9, 10, 11, 12, 13, 14, 15, 16, 17,\n",
       "       18, 19, 20, 21, 22, 23, 24, 25, 26, 27, 28, 29, 30, 31, 32, 33, 34,\n",
       "       35, 36, 37, 38, 39, 40, 41, 42, 43, 44, 45, 46, 47, 48, 49, 50])"
      ]
     },
     "execution_count": 87,
     "metadata": {},
     "output_type": "execute_result"
    }
   ],
   "source": [
    "myarr"
   ]
  },
  {
   "cell_type": "code",
   "execution_count": 99,
   "id": "9ee492e7-f23c-419f-b7f5-37674d366b21",
   "metadata": {},
   "outputs": [],
   "source": [
    "zx = np.array([])"
   ]
  },
  {
   "cell_type": "code",
   "execution_count": 100,
   "id": "632b0354-3891-4bf0-a7d8-452662d862dd",
   "metadata": {},
   "outputs": [],
   "source": [
    "for i in myarr:\n",
    "    if i % 3 == 0:\n",
    "        zx = np.append(zx, \"ok\")\n",
    "    elif i % 5 == 0:\n",
    "        zx = np.append(zx, \"done\")\n",
    "    elif i % 3 == 0 and i % 5 == 0:\n",
    "        zx = np.append(zx, \"okdone\")\n",
    "    else:\n",
    "        zx = np.append(zx, i)"
   ]
  },
  {
   "cell_type": "code",
   "execution_count": 101,
   "id": "1e51d48a-12fa-4206-b554-ede5fe83febf",
   "metadata": {},
   "outputs": [
    {
     "data": {
      "text/plain": [
       "array(['1.0', '2.0', 'ok', '4', 'done', 'ok', '7', '8', 'ok', 'done',\n",
       "       '11', 'ok', '13', '14', 'ok', '16', '17', 'ok', '19', 'done', 'ok',\n",
       "       '22', '23', 'ok', 'done', '26', 'ok', '28', '29', 'ok', '31', '32',\n",
       "       'ok', '34', 'done', 'ok', '37', '38', 'ok', 'done', '41', 'ok',\n",
       "       '43', '44', 'ok', '46', '47', 'ok', '49', 'done'], dtype='<U32')"
      ]
     },
     "execution_count": 101,
     "metadata": {},
     "output_type": "execute_result"
    }
   ],
   "source": [
    "zx"
   ]
  },
  {
   "cell_type": "code",
   "execution_count": null,
   "id": "9ef346a3-8303-4be1-b400-8b2deaa58535",
   "metadata": {},
   "outputs": [],
   "source": []
  }
 ],
 "metadata": {
  "kernelspec": {
   "display_name": "Python 3 (ipykernel)",
   "language": "python",
   "name": "python3"
  },
  "language_info": {
   "codemirror_mode": {
    "name": "ipython",
    "version": 3
   },
   "file_extension": ".py",
   "mimetype": "text/x-python",
   "name": "python",
   "nbconvert_exporter": "python",
   "pygments_lexer": "ipython3",
   "version": "3.12.0"
  }
 },
 "nbformat": 4,
 "nbformat_minor": 5
}
