{
 "cells": [
  {
   "cell_type": "code",
   "execution_count": 1,
   "id": "99c9f669-1001-427c-bc98-6f19c8f9f095",
   "metadata": {},
   "outputs": [],
   "source": [
    "# Numpy : "
   ]
  },
  {
   "cell_type": "code",
   "execution_count": 2,
   "id": "ce3166be-f499-4da9-a5d5-2c28a42db2a8",
   "metadata": {},
   "outputs": [],
   "source": [
    "# ndarrys : "
   ]
  },
  {
   "cell_type": "markdown",
   "id": "219218e6-19c5-474b-8081-f77af54e9a2d",
   "metadata": {},
   "source": [
    "### Nummpy indexin or slicing::::"
   ]
  },
  {
   "cell_type": "code",
   "execution_count": 4,
   "id": "bdb46977-1093-40d9-a7e7-9926e8b68c75",
   "metadata": {},
   "outputs": [],
   "source": [
    "import numpy as np\n",
    "\n",
    "arr = np.array([[12, 4, 23, 56, 100], [45, 67, 34, 23, 45]])"
   ]
  },
  {
   "cell_type": "code",
   "execution_count": null,
   "id": "154b7cc0-8fb2-4fbc-8433-9eab42e6a14d",
   "metadata": {},
   "outputs": [],
   "source": []
  },
  {
   "cell_type": "code",
   "execution_count": 5,
   "id": "2efe9c2a-a836-4c9f-b5cc-a5b0c3cb980c",
   "metadata": {},
   "outputs": [
    {
     "data": {
      "text/plain": [
       "array([[ 12,   4,  23,  56, 100],\n",
       "       [ 45,  67,  34,  23,  45]])"
      ]
     },
     "execution_count": 5,
     "metadata": {},
     "output_type": "execute_result"
    }
   ],
   "source": [
    "arr"
   ]
  },
  {
   "cell_type": "code",
   "execution_count": 6,
   "id": "ed4a1810-775f-41da-8d22-5a9046578b8b",
   "metadata": {},
   "outputs": [
    {
     "data": {
      "text/plain": [
       "2"
      ]
     },
     "execution_count": 6,
     "metadata": {},
     "output_type": "execute_result"
    }
   ],
   "source": [
    "arr.ndim"
   ]
  },
  {
   "cell_type": "code",
   "execution_count": null,
   "id": "53837ff8-abcd-4604-95d1-e16af357d86c",
   "metadata": {},
   "outputs": [],
   "source": []
  },
  {
   "cell_type": "code",
   "execution_count": 7,
   "id": "022936d1-b603-4210-8094-90c43934a30f",
   "metadata": {},
   "outputs": [],
   "source": [
    "# indexing:::::"
   ]
  },
  {
   "cell_type": "code",
   "execution_count": 9,
   "id": "755a7220-02c2-4a5f-9892-d6e473fa14ee",
   "metadata": {},
   "outputs": [],
   "source": [
    "arr = np.array([12, 4, 23, 56, 100, 100, 5, 2, 3, 100])"
   ]
  },
  {
   "cell_type": "code",
   "execution_count": 10,
   "id": "a5730932-665c-4342-8837-316b5b9a60cd",
   "metadata": {},
   "outputs": [
    {
     "data": {
      "text/plain": [
       "array([ 12,   4,  23,  56, 100, 100,   5,   2,   3, 100])"
      ]
     },
     "execution_count": 10,
     "metadata": {},
     "output_type": "execute_result"
    }
   ],
   "source": [
    "arr"
   ]
  },
  {
   "cell_type": "code",
   "execution_count": null,
   "id": "d7a0f208-fc8a-4a10-b395-c101ede0651e",
   "metadata": {},
   "outputs": [],
   "source": []
  },
  {
   "cell_type": "code",
   "execution_count": 11,
   "id": "4a45e7f5-72ed-41e2-a04c-737064df7d49",
   "metadata": {},
   "outputs": [],
   "source": [
    "# objectname[indexnumber]"
   ]
  },
  {
   "cell_type": "code",
   "execution_count": 13,
   "id": "2d3e82a6-4a55-41cc-bb17-96d3c4081b53",
   "metadata": {},
   "outputs": [
    {
     "data": {
      "text/plain": [
       "59"
      ]
     },
     "execution_count": 13,
     "metadata": {},
     "output_type": "execute_result"
    }
   ],
   "source": [
    "arr[3] + arr[8]"
   ]
  },
  {
   "cell_type": "code",
   "execution_count": null,
   "id": "50b90cf0-9a33-4d37-bec1-abf3b8365cd9",
   "metadata": {},
   "outputs": [],
   "source": []
  },
  {
   "cell_type": "code",
   "execution_count": 14,
   "id": "356b709a-be8a-4500-aeba-cfa59b6ad585",
   "metadata": {},
   "outputs": [],
   "source": [
    "# negtive indexing....."
   ]
  },
  {
   "cell_type": "code",
   "execution_count": 15,
   "id": "64a842f5-e741-413e-924b-d577a0d3a409",
   "metadata": {},
   "outputs": [
    {
     "data": {
      "text/plain": [
       "2"
      ]
     },
     "execution_count": 15,
     "metadata": {},
     "output_type": "execute_result"
    }
   ],
   "source": [
    "arr[-3]"
   ]
  },
  {
   "cell_type": "code",
   "execution_count": null,
   "id": "5b248f64-c0d8-47fa-9e24-a4ae7149cf2e",
   "metadata": {},
   "outputs": [],
   "source": []
  },
  {
   "cell_type": "code",
   "execution_count": 16,
   "id": "a5496a36-fa03-4765-a543-45bd5221ad92",
   "metadata": {},
   "outputs": [],
   "source": [
    "# indexing with 2d"
   ]
  },
  {
   "cell_type": "code",
   "execution_count": 17,
   "id": "4328e7d8-1324-4496-8718-85767d6e4667",
   "metadata": {},
   "outputs": [],
   "source": [
    "arr = np.array([[12, 4, 23, 56, 100], [34, 56, 34, 23, 12]])"
   ]
  },
  {
   "cell_type": "code",
   "execution_count": 18,
   "id": "da46d690-3ca8-46dd-8bff-12deb330e4af",
   "metadata": {},
   "outputs": [
    {
     "data": {
      "text/plain": [
       "array([[ 12,   4,  23,  56, 100],\n",
       "       [ 34,  56,  34,  23,  12]])"
      ]
     },
     "execution_count": 18,
     "metadata": {},
     "output_type": "execute_result"
    }
   ],
   "source": [
    "arr"
   ]
  },
  {
   "cell_type": "code",
   "execution_count": null,
   "id": "1801e68d-4fad-4d16-850b-fc86a434a196",
   "metadata": {},
   "outputs": [],
   "source": []
  },
  {
   "cell_type": "code",
   "execution_count": 19,
   "id": "d0bbac4e-5e5b-489d-980d-aa54a16afa4e",
   "metadata": {},
   "outputs": [],
   "source": [
    "# lst = [23, 45, 23, 100, [45, 200, 45, 23, 10], 67, [23, 45]]"
   ]
  },
  {
   "cell_type": "code",
   "execution_count": null,
   "id": "af27bbee-66eb-4cf5-90ec-a911b2b32549",
   "metadata": {},
   "outputs": [],
   "source": []
  },
  {
   "cell_type": "code",
   "execution_count": 23,
   "id": "0a2b8500-843d-4d60-8337-35bb75de9c72",
   "metadata": {},
   "outputs": [],
   "source": [
    "# lst[4][1]"
   ]
  },
  {
   "cell_type": "code",
   "execution_count": null,
   "id": "fca1438a-9d30-475a-a38e-8a0b527c42db",
   "metadata": {},
   "outputs": [],
   "source": []
  },
  {
   "cell_type": "code",
   "execution_count": null,
   "id": "5deaa44d-c39c-4178-945e-2088daed5ba7",
   "metadata": {},
   "outputs": [],
   "source": []
  },
  {
   "cell_type": "code",
   "execution_count": 30,
   "id": "f881bdf0-9bfb-4825-8056-cd4819647f45",
   "metadata": {},
   "outputs": [],
   "source": [
    "arr = np.array([[12, 4, 23, 56, 100], [34, 560, 34, 23, 12]])"
   ]
  },
  {
   "cell_type": "code",
   "execution_count": 33,
   "id": "7f5e4f18-54d8-4bd7-ba36-ec07cad42464",
   "metadata": {},
   "outputs": [
    {
     "data": {
      "text/plain": [
       "560"
      ]
     },
     "execution_count": 33,
     "metadata": {},
     "output_type": "execute_result"
    }
   ],
   "source": [
    "arr[1][1]"
   ]
  },
  {
   "cell_type": "code",
   "execution_count": null,
   "id": "044d5880-d674-47e4-8578-0a180ee752ba",
   "metadata": {},
   "outputs": [],
   "source": []
  },
  {
   "cell_type": "code",
   "execution_count": 34,
   "id": "28d24a7f-6a3c-425d-a474-f6eb46cd902b",
   "metadata": {},
   "outputs": [],
   "source": [
    "xy = np.array([[45, 34, 2, 5, 100], [78, 45, 34, 33, 22], [100, 400, 569, 300, 90]])"
   ]
  },
  {
   "cell_type": "code",
   "execution_count": 36,
   "id": "5faf88cd-c383-44f9-85c8-c5cb5f48eef0",
   "metadata": {},
   "outputs": [
    {
     "data": {
      "text/plain": [
       "400"
      ]
     },
     "execution_count": 36,
     "metadata": {},
     "output_type": "execute_result"
    }
   ],
   "source": [
    "xy[2][1]"
   ]
  },
  {
   "cell_type": "code",
   "execution_count": 37,
   "id": "12313aaf-ae65-4846-a708-a1159e649964",
   "metadata": {},
   "outputs": [
    {
     "data": {
      "text/plain": [
       "5"
      ]
     },
     "execution_count": 37,
     "metadata": {},
     "output_type": "execute_result"
    }
   ],
   "source": [
    "xy[0][3]"
   ]
  },
  {
   "cell_type": "code",
   "execution_count": null,
   "id": "2710cf16-aeec-4ab7-95a3-b825fb93ea2c",
   "metadata": {},
   "outputs": [],
   "source": []
  },
  {
   "cell_type": "code",
   "execution_count": 38,
   "id": "f73d7097-0e00-4282-beb4-6e7103f01c9d",
   "metadata": {},
   "outputs": [],
   "source": [
    "xy = np.array([[[45, 34, 2, 5, 100], [78, 45, 34, 33, 22]], [[100, 400, 569, 300, 90], [56, 34, 23, 1000, 56]]])"
   ]
  },
  {
   "cell_type": "code",
   "execution_count": 39,
   "id": "61f80fb3-94e0-4588-9122-019f7a7cad6d",
   "metadata": {},
   "outputs": [
    {
     "data": {
      "text/plain": [
       "array([[[  45,   34,    2,    5,  100],\n",
       "        [  78,   45,   34,   33,   22]],\n",
       "\n",
       "       [[ 100,  400,  569,  300,   90],\n",
       "        [  56,   34,   23, 1000,   56]]])"
      ]
     },
     "execution_count": 39,
     "metadata": {},
     "output_type": "execute_result"
    }
   ],
   "source": [
    "xy"
   ]
  },
  {
   "cell_type": "code",
   "execution_count": null,
   "id": "9bb84999-086e-4eac-bed1-6a56f4769635",
   "metadata": {},
   "outputs": [],
   "source": []
  },
  {
   "cell_type": "code",
   "execution_count": 43,
   "id": "bda66f32-8ff2-4d7f-a331-e1c498300a8d",
   "metadata": {},
   "outputs": [
    {
     "data": {
      "text/plain": [
       "1000"
      ]
     },
     "execution_count": 43,
     "metadata": {},
     "output_type": "execute_result"
    }
   ],
   "source": [
    "xy[1][1][3]"
   ]
  },
  {
   "cell_type": "code",
   "execution_count": 44,
   "id": "7b8c2c08-023b-43d5-a072-b64c1e5f6f70",
   "metadata": {},
   "outputs": [
    {
     "data": {
      "text/plain": [
       "33"
      ]
     },
     "execution_count": 44,
     "metadata": {},
     "output_type": "execute_result"
    }
   ],
   "source": [
    "xy[0][1][3]"
   ]
  },
  {
   "cell_type": "code",
   "execution_count": null,
   "id": "d8553d36-e9a5-4aff-98d2-50c392ccd3a3",
   "metadata": {},
   "outputs": [],
   "source": []
  },
  {
   "cell_type": "code",
   "execution_count": null,
   "id": "6e4038b7-bc65-4dfe-9cfa-9f4dc357d80d",
   "metadata": {},
   "outputs": [],
   "source": []
  },
  {
   "cell_type": "code",
   "execution_count": 45,
   "id": "2ab1e9d5-a34a-435e-a7f2-1311b716015a",
   "metadata": {},
   "outputs": [],
   "source": [
    "# slicing:::::::"
   ]
  },
  {
   "cell_type": "code",
   "execution_count": null,
   "id": "54ea09f5-77a6-4f13-bee5-00cf2558a2ca",
   "metadata": {},
   "outputs": [],
   "source": [
    "objename[start : end : increment]"
   ]
  },
  {
   "cell_type": "code",
   "execution_count": null,
   "id": "4dfcf054-a40a-421e-81f1-c8893748f0a1",
   "metadata": {},
   "outputs": [],
   "source": [
    "default:\n",
    " start === 0\n",
    " end ==== n - 1\n",
    " increment === 1"
   ]
  },
  {
   "cell_type": "code",
   "execution_count": null,
   "id": "3655dfe5-9b33-403f-86c2-20d19fec8e26",
   "metadata": {},
   "outputs": [],
   "source": []
  },
  {
   "cell_type": "code",
   "execution_count": 46,
   "id": "5a58f575-0ad9-4199-b472-ecb7fa0abcaf",
   "metadata": {},
   "outputs": [],
   "source": [
    "zx = np.array([34, 100, 3, 1, 100, 45, 23, 100])"
   ]
  },
  {
   "cell_type": "code",
   "execution_count": null,
   "id": "95b3f3d6-d756-4984-8e04-0fa51865ac10",
   "metadata": {},
   "outputs": [],
   "source": []
  },
  {
   "cell_type": "code",
   "execution_count": 47,
   "id": "3763f2ae-f8fd-4f11-a10b-264e8dcd2d03",
   "metadata": {},
   "outputs": [
    {
     "data": {
      "text/plain": [
       "array([100,   3,   1, 100,  45])"
      ]
     },
     "execution_count": 47,
     "metadata": {},
     "output_type": "execute_result"
    }
   ],
   "source": [
    "zx[1 : 6]"
   ]
  },
  {
   "cell_type": "code",
   "execution_count": null,
   "id": "55de0d39-0163-4fbb-8248-768eda7d8e87",
   "metadata": {},
   "outputs": [],
   "source": []
  },
  {
   "cell_type": "code",
   "execution_count": 51,
   "id": "986ef9dc-b564-484d-8201-598eae32f45f",
   "metadata": {},
   "outputs": [],
   "source": [
    "# zx[3 : 7 : 2]"
   ]
  },
  {
   "cell_type": "code",
   "execution_count": null,
   "id": "3a3aea9a-c7dd-4925-bd82-bf8b4fe19cba",
   "metadata": {},
   "outputs": [],
   "source": [
    "objename[start : end : increment]"
   ]
  },
  {
   "cell_type": "code",
   "execution_count": null,
   "id": "7e6227c5-5cf2-444c-be97-86276ec697a3",
   "metadata": {},
   "outputs": [],
   "source": []
  },
  {
   "cell_type": "code",
   "execution_count": 52,
   "id": "965796f3-9190-4245-a8c8-cedde7330934",
   "metadata": {},
   "outputs": [
    {
     "data": {
      "text/plain": [
       "array([100,   3,   1, 100,  45,  23, 100])"
      ]
     },
     "execution_count": 52,
     "metadata": {},
     "output_type": "execute_result"
    }
   ],
   "source": [
    "zx[1 : ]"
   ]
  },
  {
   "cell_type": "code",
   "execution_count": 53,
   "id": "db061d1d-3fa7-48ab-99bc-78d5c1c37335",
   "metadata": {},
   "outputs": [
    {
     "data": {
      "text/plain": [
       "array([ 34, 100,   3,   1])"
      ]
     },
     "execution_count": 53,
     "metadata": {},
     "output_type": "execute_result"
    }
   ],
   "source": [
    "zx[: 4]"
   ]
  },
  {
   "cell_type": "code",
   "execution_count": null,
   "id": "608aae1c-d317-4c9c-b0c0-688cc48b6ee4",
   "metadata": {},
   "outputs": [],
   "source": []
  },
  {
   "cell_type": "code",
   "execution_count": 54,
   "id": "04c7d478-7054-47b5-a686-f5f5a7adfb84",
   "metadata": {},
   "outputs": [],
   "source": [
    "zx = np.array([34, 100, 3, 1, 100, 45, 23, 100])"
   ]
  },
  {
   "cell_type": "code",
   "execution_count": 55,
   "id": "7feeef39-e43e-4ebc-ac1f-6668ce084d25",
   "metadata": {},
   "outputs": [
    {
     "data": {
      "text/plain": [
       "array([100,  23,  45, 100,   1,   3, 100,  34])"
      ]
     },
     "execution_count": 55,
     "metadata": {},
     "output_type": "execute_result"
    }
   ],
   "source": [
    "zx[: : -1]"
   ]
  },
  {
   "cell_type": "code",
   "execution_count": null,
   "id": "ac3779de-a16a-4cd7-9d3e-262e51ad3e77",
   "metadata": {},
   "outputs": [],
   "source": []
  },
  {
   "cell_type": "code",
   "execution_count": null,
   "id": "825310e3-3878-4507-8e75-657623f0c3db",
   "metadata": {},
   "outputs": [],
   "source": []
  },
  {
   "cell_type": "code",
   "execution_count": 57,
   "id": "87991510-721c-48a0-a5e3-881e7fbbbe1e",
   "metadata": {},
   "outputs": [],
   "source": [
    "# with 2d"
   ]
  },
  {
   "cell_type": "code",
   "execution_count": 58,
   "id": "99eaf299-4588-4ad9-9e8d-1e63e14a92ff",
   "metadata": {},
   "outputs": [],
   "source": [
    "xy = np.array([[45, 34, 2, 5, 100], [78, 45, 34, 33, 22], [100, 400, 569, 300, 90]])"
   ]
  },
  {
   "cell_type": "code",
   "execution_count": 60,
   "id": "c7e9ae42-7ad6-407a-b0d6-22568fcf0ec4",
   "metadata": {},
   "outputs": [
    {
     "data": {
      "text/plain": [
       "array([45, 34, 33, 22])"
      ]
     },
     "execution_count": 60,
     "metadata": {},
     "output_type": "execute_result"
    }
   ],
   "source": [
    "xy[1][1 : ]"
   ]
  },
  {
   "cell_type": "code",
   "execution_count": null,
   "id": "fcb9ea51-5c6d-4c7d-b6e9-89fb89123538",
   "metadata": {},
   "outputs": [],
   "source": []
  },
  {
   "cell_type": "code",
   "execution_count": null,
   "id": "2be84604-c05e-4550-9d2a-0c1a333e4921",
   "metadata": {},
   "outputs": [],
   "source": []
  }
 ],
 "metadata": {
  "kernelspec": {
   "display_name": "Python 3 (ipykernel)",
   "language": "python",
   "name": "python3"
  },
  "language_info": {
   "codemirror_mode": {
    "name": "ipython",
    "version": 3
   },
   "file_extension": ".py",
   "mimetype": "text/x-python",
   "name": "python",
   "nbconvert_exporter": "python",
   "pygments_lexer": "ipython3",
   "version": "3.12.0"
  }
 },
 "nbformat": 4,
 "nbformat_minor": 5
}
