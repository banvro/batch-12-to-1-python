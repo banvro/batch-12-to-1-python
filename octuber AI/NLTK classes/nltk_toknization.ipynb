{
 "cells": [
  {
   "cell_type": "code",
   "execution_count": 1,
   "id": "7f8d70af-2ed2-4632-a12d-e4d76c675b5d",
   "metadata": {},
   "outputs": [
    {
     "name": "stdout",
     "output_type": "stream",
     "text": [
      "Defaulting to user installation because normal site-packages is not writeable\n",
      "Requirement already satisfied: nltk in c:\\users\\17nru\\appdata\\local\\packages\\pythonsoftwarefoundation.python.3.13_qbz5n2kfra8p0\\localcache\\local-packages\\python313\\site-packages (3.9.1)\n",
      "Requirement already satisfied: click in c:\\users\\17nru\\appdata\\local\\packages\\pythonsoftwarefoundation.python.3.13_qbz5n2kfra8p0\\localcache\\local-packages\\python313\\site-packages (from nltk) (8.1.7)\n",
      "Requirement already satisfied: joblib in c:\\users\\17nru\\appdata\\local\\packages\\pythonsoftwarefoundation.python.3.13_qbz5n2kfra8p0\\localcache\\local-packages\\python313\\site-packages (from nltk) (1.4.2)\n",
      "Requirement already satisfied: regex>=2021.8.3 in c:\\users\\17nru\\appdata\\local\\packages\\pythonsoftwarefoundation.python.3.13_qbz5n2kfra8p0\\localcache\\local-packages\\python313\\site-packages (from nltk) (2024.9.11)\n",
      "Requirement already satisfied: tqdm in c:\\users\\17nru\\appdata\\local\\packages\\pythonsoftwarefoundation.python.3.13_qbz5n2kfra8p0\\localcache\\local-packages\\python313\\site-packages (from nltk) (4.66.5)\n",
      "Requirement already satisfied: colorama in c:\\users\\17nru\\appdata\\local\\packages\\pythonsoftwarefoundation.python.3.13_qbz5n2kfra8p0\\localcache\\local-packages\\python313\\site-packages (from click->nltk) (0.4.6)\n"
     ]
    },
    {
     "name": "stderr",
     "output_type": "stream",
     "text": [
      "\n",
      "[notice] A new release of pip is available: 24.2 -> 24.3\n",
      "[notice] To update, run: C:\\Users\\17nru\\AppData\\Local\\Microsoft\\WindowsApps\\PythonSoftwareFoundation.Python.3.13_qbz5n2kfra8p0\\python.exe -m pip install --upgrade pip\n"
     ]
    }
   ],
   "source": [
    "!pip install nltk"
   ]
  },
  {
   "cell_type": "code",
   "execution_count": null,
   "id": "5c61575e-d531-4e03-bc88-5a6d3461e592",
   "metadata": {},
   "outputs": [],
   "source": []
  },
  {
   "cell_type": "code",
   "execution_count": 2,
   "id": "26448e19-495a-435d-b632-6e4183d2c59d",
   "metadata": {},
   "outputs": [],
   "source": [
    "corpus = \"\"\"Python is a high-level, general-purpose programming language. Its design philosophy emphasizes code readability with the use of significant indentation. Python is dynamically typed and garbage-collected. It supports multiple programming paradigms, including structured, object-oriented and functional programming.\"\"\""
   ]
  },
  {
   "cell_type": "code",
   "execution_count": 3,
   "id": "26693bf3-9a94-4d52-96ca-9bbba9f6f8c6",
   "metadata": {},
   "outputs": [
    {
     "data": {
      "text/plain": [
       "'Python is a high-level, general-purpose programming language. Its design philosophy emphasizes code readability with the use of significant indentation. Python is dynamically typed and garbage-collected. It supports multiple programming paradigms, including structured, object-oriented and functional programming.'"
      ]
     },
     "execution_count": 3,
     "metadata": {},
     "output_type": "execute_result"
    }
   ],
   "source": [
    "corpus"
   ]
  },
  {
   "cell_type": "code",
   "execution_count": null,
   "id": "017fc888-2ee1-40b7-a045-c314f18df4ff",
   "metadata": {},
   "outputs": [],
   "source": []
  },
  {
   "cell_type": "code",
   "execution_count": 4,
   "id": "9beca365-5362-4761-b211-361fa52f6e5e",
   "metadata": {},
   "outputs": [],
   "source": [
    "#sentence tokenizer\n",
    "\n",
    "from nltk.tokenize import sent_tokenize"
   ]
  },
  {
   "cell_type": "code",
   "execution_count": 6,
   "id": "05bbc99e-5829-4c39-8fa8-2338cd32ad70",
   "metadata": {},
   "outputs": [],
   "source": [
    "sentences = sent_tokenize(corpus)"
   ]
  },
  {
   "cell_type": "code",
   "execution_count": 7,
   "id": "d7ecbb84-d8ed-42bc-9036-d79b46f278ac",
   "metadata": {},
   "outputs": [
    {
     "data": {
      "text/plain": [
       "['Python is a high-level, general-purpose programming language.',\n",
       " 'Its design philosophy emphasizes code readability with the use of significant indentation.',\n",
       " 'Python is dynamically typed and garbage-collected.',\n",
       " 'It supports multiple programming paradigms, including structured, object-oriented and functional programming.']"
      ]
     },
     "execution_count": 7,
     "metadata": {},
     "output_type": "execute_result"
    }
   ],
   "source": [
    "sentences"
   ]
  },
  {
   "cell_type": "code",
   "execution_count": 8,
   "id": "dee87344-a470-40c6-a185-363b70971d67",
   "metadata": {},
   "outputs": [
    {
     "name": "stdout",
     "output_type": "stream",
     "text": [
      "Python is a high-level, general-purpose programming language.\n",
      "Its design philosophy emphasizes code readability with the use of significant indentation.\n",
      "Python is dynamically typed and garbage-collected.\n",
      "It supports multiple programming paradigms, including structured, object-oriented and functional programming.\n"
     ]
    }
   ],
   "source": [
    "\n",
    "for sent in sentences:\n",
    "    print(sent)"
   ]
  },
  {
   "cell_type": "code",
   "execution_count": null,
   "id": "44fd373d-6e10-40ac-93ec-cebfad9ea0f3",
   "metadata": {},
   "outputs": [],
   "source": []
  },
  {
   "cell_type": "code",
   "execution_count": 10,
   "id": "0aac5210-839a-4295-97ce-6e2c90b0807a",
   "metadata": {},
   "outputs": [],
   "source": [
    "x = sentences[0]"
   ]
  },
  {
   "cell_type": "code",
   "execution_count": 11,
   "id": "84f5fde7-0b9f-4a67-86f4-db636afc5050",
   "metadata": {},
   "outputs": [
    {
     "data": {
      "text/plain": [
       "'Python is a high-level, general-purpose programming language.'"
      ]
     },
     "execution_count": 11,
     "metadata": {},
     "output_type": "execute_result"
    }
   ],
   "source": [
    "x"
   ]
  },
  {
   "cell_type": "code",
   "execution_count": null,
   "id": "111c2596-7b07-465c-b0ad-b3a16967afe0",
   "metadata": {},
   "outputs": [],
   "source": []
  },
  {
   "cell_type": "code",
   "execution_count": 12,
   "id": "b292bc93-5d80-45e7-95f0-d3c420ddea71",
   "metadata": {},
   "outputs": [],
   "source": [
    "from nltk.tokenize import word_tokenize"
   ]
  },
  {
   "cell_type": "code",
   "execution_count": 13,
   "id": "29a2faaa-fdc2-4510-b984-c944a8d5b2c4",
   "metadata": {},
   "outputs": [],
   "source": [
    "words = word_tokenize(x)"
   ]
  },
  {
   "cell_type": "code",
   "execution_count": 14,
   "id": "7138ec4d-a331-4dc9-aa50-0f86ec41644c",
   "metadata": {},
   "outputs": [
    {
     "data": {
      "text/plain": [
       "['Python',\n",
       " 'is',\n",
       " 'a',\n",
       " 'high-level',\n",
       " ',',\n",
       " 'general-purpose',\n",
       " 'programming',\n",
       " 'language',\n",
       " '.']"
      ]
     },
     "execution_count": 14,
     "metadata": {},
     "output_type": "execute_result"
    }
   ],
   "source": [
    "words"
   ]
  },
  {
   "cell_type": "code",
   "execution_count": 15,
   "id": "3ef30fe7-e83f-4046-9da6-ec0238e620f4",
   "metadata": {},
   "outputs": [],
   "source": [
    "\n",
    "# 1) sent_tokenize\n",
    "# 2) word_tokenizee\n",
    "\n",
    "\n",
    "from nltk.tokenize import wordpunct_tokenize"
   ]
  },
  {
   "cell_type": "code",
   "execution_count": 16,
   "id": "6e853031-3fb2-4edd-9879-b1261f2c9c6e",
   "metadata": {},
   "outputs": [],
   "source": [
    "z = \"python is a programming lanague and python's symtex is simple and clear.\""
   ]
  },
  {
   "cell_type": "code",
   "execution_count": 17,
   "id": "2cff8106-504e-4f97-861c-263ae0a0cece",
   "metadata": {},
   "outputs": [
    {
     "data": {
      "text/plain": [
       "['python',\n",
       " 'is',\n",
       " 'a',\n",
       " 'programming',\n",
       " 'lanague',\n",
       " 'and',\n",
       " 'python',\n",
       " \"'s\",\n",
       " 'symtex',\n",
       " 'is',\n",
       " 'simple',\n",
       " 'and',\n",
       " 'clear',\n",
       " '.']"
      ]
     },
     "execution_count": 17,
     "metadata": {},
     "output_type": "execute_result"
    }
   ],
   "source": [
    "word_tokenize(z)"
   ]
  },
  {
   "cell_type": "code",
   "execution_count": 18,
   "id": "fb9f1ed5-5fdd-487c-a846-736a88caf593",
   "metadata": {},
   "outputs": [
    {
     "data": {
      "text/plain": [
       "['python',\n",
       " 'is',\n",
       " 'a',\n",
       " 'programming',\n",
       " 'lanague',\n",
       " 'and',\n",
       " 'python',\n",
       " \"'\",\n",
       " 's',\n",
       " 'symtex',\n",
       " 'is',\n",
       " 'simple',\n",
       " 'and',\n",
       " 'clear',\n",
       " '.']"
      ]
     },
     "execution_count": 18,
     "metadata": {},
     "output_type": "execute_result"
    }
   ],
   "source": [
    "wordpunct_tokenize(z)"
   ]
  },
  {
   "cell_type": "code",
   "execution_count": null,
   "id": "f1727162-c8ad-4e29-b0a3-c3bc4cd9828c",
   "metadata": {},
   "outputs": [],
   "source": []
  },
  {
   "cell_type": "code",
   "execution_count": null,
   "id": "465b5eea-8ab8-4017-b3fa-ae8f54a6899f",
   "metadata": {},
   "outputs": [],
   "source": [
    "# from nltk.tokenize import "
   ]
  }
 ],
 "metadata": {
  "kernelspec": {
   "display_name": "Python 3 (ipykernel)",
   "language": "python",
   "name": "python3"
  },
  "language_info": {
   "codemirror_mode": {
    "name": "ipython",
    "version": 3
   },
   "file_extension": ".py",
   "mimetype": "text/x-python",
   "name": "python",
   "nbconvert_exporter": "python",
   "pygments_lexer": "ipython3",
   "version": "3.12.3"
  }
 },
 "nbformat": 4,
 "nbformat_minor": 5
}
