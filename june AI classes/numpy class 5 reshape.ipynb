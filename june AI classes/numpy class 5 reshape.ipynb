{
 "cells": [
  {
   "cell_type": "code",
   "execution_count": null,
   "id": "707f907b-2068-4de1-aac0-5e05610a13d8",
   "metadata": {},
   "outputs": [],
   "source": [
    "# Numpy : \n",
    "#     arrays\n",
    "#     ndarray\n",
    "#     slicing\n",
    "#     indexing\n",
    "#     ndim\n",
    "#     shape\n",
    "#     where\n",
    "#         CRUD operations"
   ]
  },
  {
   "cell_type": "code",
   "execution_count": null,
   "id": "d377a43b-853f-48df-ba8d-73c78efec1a5",
   "metadata": {},
   "outputs": [],
   "source": []
  },
  {
   "cell_type": "markdown",
   "id": "99696027-7eef-4faf-b3fb-59b4def95661",
   "metadata": {},
   "source": [
    "# reshape : this is a method that help us to reshape the shape of data"
   ]
  },
  {
   "cell_type": "code",
   "execution_count": null,
   "id": "bbd95998-ea5c-4191-baea-37fe912cd7c3",
   "metadata": {},
   "outputs": [],
   "source": []
  },
  {
   "cell_type": "markdown",
   "id": "974c9bbc-da39-4516-8309-bf6501940626",
   "metadata": {},
   "source": [
    "### 1-D ndarray =-----> 2-D array"
   ]
  },
  {
   "cell_type": "code",
   "execution_count": null,
   "id": "4613b543-8346-4e8b-8cd0-3fdbc746f873",
   "metadata": {},
   "outputs": [],
   "source": []
  },
  {
   "cell_type": "code",
   "execution_count": 2,
   "id": "f7468f5b-9338-44c8-9332-b6f0a5ba0f14",
   "metadata": {},
   "outputs": [],
   "source": [
    "import numpy as np"
   ]
  },
  {
   "cell_type": "code",
   "execution_count": 4,
   "id": "3217fd93-d464-4586-b30e-1406fb6df86c",
   "metadata": {},
   "outputs": [],
   "source": [
    "arr = np.array([12, 34, 45, 56, 78, 45, 34, 56, 23])"
   ]
  },
  {
   "cell_type": "code",
   "execution_count": 5,
   "id": "c741f2f4-be25-40a3-9188-69340ca9e9a2",
   "metadata": {},
   "outputs": [
    {
     "data": {
      "text/plain": [
       "1"
      ]
     },
     "execution_count": 5,
     "metadata": {},
     "output_type": "execute_result"
    }
   ],
   "source": [
    "arr.ndim"
   ]
  },
  {
   "cell_type": "code",
   "execution_count": null,
   "id": "7d0631c7-0dc3-48ca-a208-640f145fe33c",
   "metadata": {},
   "outputs": [],
   "source": []
  },
  {
   "cell_type": "code",
   "execution_count": 6,
   "id": "0633f0b8-e014-4d34-b8d2-acbd6733449f",
   "metadata": {},
   "outputs": [],
   "source": [
    "# reshape()"
   ]
  },
  {
   "cell_type": "code",
   "execution_count": null,
   "id": "e2a96453-829d-4293-9269-26a75f6fafb3",
   "metadata": {},
   "outputs": [],
   "source": [
    "# np.reshape(objectname, shape)\n",
    "\n",
    "# objectname.reshaape(shape)"
   ]
  },
  {
   "cell_type": "code",
   "execution_count": 7,
   "id": "64845174-45a7-4edb-b215-e876b2c02275",
   "metadata": {},
   "outputs": [],
   "source": [
    "arr = np.array([12, 34, 45, 56, 78, 45, 34, 56, 23])"
   ]
  },
  {
   "cell_type": "code",
   "execution_count": 8,
   "id": "2c3e06c4-38b7-4e73-93fb-9d026878290e",
   "metadata": {},
   "outputs": [
    {
     "data": {
      "text/plain": [
       "array([[12, 34, 45],\n",
       "       [56, 78, 45],\n",
       "       [34, 56, 23]])"
      ]
     },
     "execution_count": 8,
     "metadata": {},
     "output_type": "execute_result"
    }
   ],
   "source": [
    "np.reshape(arr, (3, 3))"
   ]
  },
  {
   "cell_type": "code",
   "execution_count": null,
   "id": "77df9c3d-afb5-44fe-9618-b9dfa3111869",
   "metadata": {},
   "outputs": [],
   "source": []
  },
  {
   "cell_type": "code",
   "execution_count": 9,
   "id": "f8883283-10f5-484e-a525-585a9ddb4fb5",
   "metadata": {},
   "outputs": [],
   "source": [
    "arr = np.array([12, 34, 45, 56, 78, 45, 34, 56, 23])"
   ]
  },
  {
   "cell_type": "code",
   "execution_count": 10,
   "id": "6477f086-6f09-4bc4-ad8e-e1cbbe369372",
   "metadata": {},
   "outputs": [
    {
     "data": {
      "text/plain": [
       "array([[12, 34, 45, 56, 78, 45, 34, 56, 23]])"
      ]
     },
     "execution_count": 10,
     "metadata": {},
     "output_type": "execute_result"
    }
   ],
   "source": [
    "np.reshape(arr, (1, 9))"
   ]
  },
  {
   "cell_type": "code",
   "execution_count": 12,
   "id": "1337a740-c6c5-436f-926a-6203ed1ecc34",
   "metadata": {},
   "outputs": [],
   "source": [
    "qw = np.reshape(arr, (9, 1))"
   ]
  },
  {
   "cell_type": "code",
   "execution_count": 13,
   "id": "b78c50cc-5d30-45cd-afd5-05893cb88efc",
   "metadata": {},
   "outputs": [
    {
     "data": {
      "text/plain": [
       "2"
      ]
     },
     "execution_count": 13,
     "metadata": {},
     "output_type": "execute_result"
    }
   ],
   "source": [
    "qw.ndim"
   ]
  },
  {
   "cell_type": "code",
   "execution_count": 14,
   "id": "e286a2ac-1c79-43be-b751-fd4c4704a5a9",
   "metadata": {},
   "outputs": [
    {
     "data": {
      "text/plain": [
       "array([[12],\n",
       "       [34],\n",
       "       [45],\n",
       "       [56],\n",
       "       [78],\n",
       "       [45],\n",
       "       [34],\n",
       "       [56],\n",
       "       [23]])"
      ]
     },
     "execution_count": 14,
     "metadata": {},
     "output_type": "execute_result"
    }
   ],
   "source": [
    "qw"
   ]
  },
  {
   "cell_type": "code",
   "execution_count": null,
   "id": "9cfca433-442f-48da-a8de-94bfe8054fee",
   "metadata": {},
   "outputs": [],
   "source": []
  },
  {
   "cell_type": "markdown",
   "id": "589cf70b-84fa-4643-a12a-3e67bd9dc502",
   "metadata": {},
   "source": [
    "# 2d to 1D"
   ]
  },
  {
   "cell_type": "code",
   "execution_count": 16,
   "id": "f7ab87a5-2a6c-40b3-90fd-1e84b9c07e2d",
   "metadata": {},
   "outputs": [],
   "source": [
    "zx = np.array([[12, 34, 45, 67, 45, 23], [45, 56, 23, 56, 23, 23]])"
   ]
  },
  {
   "cell_type": "code",
   "execution_count": 17,
   "id": "f0f2d0ef-3cd3-41c7-8978-d242b55f20fb",
   "metadata": {},
   "outputs": [
    {
     "data": {
      "text/plain": [
       "array([[12, 34, 45, 67, 45, 23],\n",
       "       [45, 56, 23, 56, 23, 23]])"
      ]
     },
     "execution_count": 17,
     "metadata": {},
     "output_type": "execute_result"
    }
   ],
   "source": [
    "zx"
   ]
  },
  {
   "cell_type": "code",
   "execution_count": 18,
   "id": "488b64df-e06e-48f0-a494-8990bdbcb23c",
   "metadata": {},
   "outputs": [
    {
     "data": {
      "text/plain": [
       "2"
      ]
     },
     "execution_count": 18,
     "metadata": {},
     "output_type": "execute_result"
    }
   ],
   "source": [
    "zx.ndim"
   ]
  },
  {
   "cell_type": "code",
   "execution_count": 19,
   "id": "6433d98b-205d-4c9f-80d5-1e100218d1c6",
   "metadata": {},
   "outputs": [],
   "source": [
    "zx = np.array([[12, 34, 45, 67, 45, 23], [45, 56, 23, 56, 23, 23]])"
   ]
  },
  {
   "cell_type": "code",
   "execution_count": null,
   "id": "f91ab25e-74e4-4858-b0a8-603c0058e2be",
   "metadata": {},
   "outputs": [],
   "source": []
  },
  {
   "cell_type": "code",
   "execution_count": 20,
   "id": "3e375c3c-77f8-4ff8-add1-8b081eae8700",
   "metadata": {},
   "outputs": [
    {
     "data": {
      "text/plain": [
       "array([12, 34, 45, 67, 45, 23, 45, 56, 23, 56, 23, 23])"
      ]
     },
     "execution_count": 20,
     "metadata": {},
     "output_type": "execute_result"
    }
   ],
   "source": [
    "np.reshape(zx, (12))"
   ]
  },
  {
   "cell_type": "code",
   "execution_count": null,
   "id": "0bb3afec-5300-4f40-b46a-9094ea8b8d83",
   "metadata": {},
   "outputs": [],
   "source": []
  },
  {
   "cell_type": "code",
   "execution_count": 21,
   "id": "f56dd527-e301-4993-a8ab-383fda3479b9",
   "metadata": {},
   "outputs": [],
   "source": [
    "# -1"
   ]
  },
  {
   "cell_type": "code",
   "execution_count": null,
   "id": "ab00afe3-d051-4bb5-8dde-730bc90fef3e",
   "metadata": {},
   "outputs": [],
   "source": []
  },
  {
   "cell_type": "code",
   "execution_count": 22,
   "id": "2dfa7fd8-36ca-4974-b9f2-37e816aed0a1",
   "metadata": {},
   "outputs": [],
   "source": [
    "zx = np.array([[12, 34, 45, 67, 45, 23], [45, 56, 23, 56, 23, 23]])"
   ]
  },
  {
   "cell_type": "code",
   "execution_count": 23,
   "id": "9f15a8d3-83fe-4d74-a483-617d4e07dc74",
   "metadata": {},
   "outputs": [
    {
     "data": {
      "text/plain": [
       "array([[12, 34, 45, 67, 45, 23],\n",
       "       [45, 56, 23, 56, 23, 23]])"
      ]
     },
     "execution_count": 23,
     "metadata": {},
     "output_type": "execute_result"
    }
   ],
   "source": [
    "zx"
   ]
  },
  {
   "cell_type": "code",
   "execution_count": 24,
   "id": "76b93b68-8766-469a-a274-d6d69f813798",
   "metadata": {},
   "outputs": [
    {
     "data": {
      "text/plain": [
       "array([12, 34, 45, 67, 45, 23, 45, 56, 23, 56, 23, 23])"
      ]
     },
     "execution_count": 24,
     "metadata": {},
     "output_type": "execute_result"
    }
   ],
   "source": [
    "np.reshape(zx, -1)"
   ]
  },
  {
   "cell_type": "code",
   "execution_count": null,
   "id": "18b7a30a-eff4-4758-b540-249c8f73f547",
   "metadata": {},
   "outputs": [],
   "source": []
  },
  {
   "cell_type": "code",
   "execution_count": null,
   "id": "1c1164d3-e980-41f3-a757-4738d46af4f8",
   "metadata": {},
   "outputs": [],
   "source": []
  },
  {
   "cell_type": "code",
   "execution_count": 25,
   "id": "6f1839a0-31cf-4474-96ae-f867bcddfca4",
   "metadata": {},
   "outputs": [],
   "source": [
    "# 1-D to 2-D"
   ]
  },
  {
   "cell_type": "code",
   "execution_count": 33,
   "id": "e680d6de-15ea-4dc8-8329-98b859785a85",
   "metadata": {},
   "outputs": [],
   "source": [
    "arr = np.array([12, 34, 45, 56, 78, 45, 34, 56, 23, 34, 657, 45])"
   ]
  },
  {
   "cell_type": "code",
   "execution_count": null,
   "id": "f803f24c-9232-4034-ae45-af96a411e896",
   "metadata": {},
   "outputs": [],
   "source": []
  },
  {
   "cell_type": "code",
   "execution_count": 35,
   "id": "40add3cd-e962-474c-b02c-4b181370fa1e",
   "metadata": {},
   "outputs": [
    {
     "data": {
      "text/plain": [
       "array([[ 12,  34,  45],\n",
       "       [ 56,  78,  45],\n",
       "       [ 34,  56,  23],\n",
       "       [ 34, 657,  45]])"
      ]
     },
     "execution_count": 35,
     "metadata": {},
     "output_type": "execute_result"
    }
   ],
   "source": [
    "np.reshape(arr, (4, -1))"
   ]
  },
  {
   "cell_type": "code",
   "execution_count": null,
   "id": "c892f9fd-8d7c-4ba9-8daf-e1c30ad86a77",
   "metadata": {},
   "outputs": [],
   "source": []
  }
 ],
 "metadata": {
  "kernelspec": {
   "display_name": "Python 3 (ipykernel)",
   "language": "python",
   "name": "python3"
  },
  "language_info": {
   "codemirror_mode": {
    "name": "ipython",
    "version": 3
   },
   "file_extension": ".py",
   "mimetype": "text/x-python",
   "name": "python",
   "nbconvert_exporter": "python",
   "pygments_lexer": "ipython3",
   "version": "3.12.3"
  }
 },
 "nbformat": 4,
 "nbformat_minor": 5
}
